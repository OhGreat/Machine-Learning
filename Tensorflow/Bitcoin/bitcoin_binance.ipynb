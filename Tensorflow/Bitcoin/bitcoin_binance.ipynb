{
 "cells": [
  {
   "cell_type": "code",
   "execution_count": 1,
   "metadata": {},
   "outputs": [],
   "source": [
    "import numpy as np\n",
    "import pandas as pd\n",
    "import matplotlib.pyplot as plt\n",
    "import seaborn as sns\n",
    "from datetime import datetime, timedelta"
   ]
  },
  {
   "cell_type": "code",
   "execution_count": 2,
   "metadata": {},
   "outputs": [],
   "source": [
    "%matplotlib inline\n",
    "sns.set_style(style='whitegrid')"
   ]
  },
  {
   "cell_type": "code",
   "execution_count": 3,
   "metadata": {},
   "outputs": [],
   "source": [
    "from keys import keys\n",
    "from binance.client import Client"
   ]
  },
  {
   "cell_type": "code",
   "execution_count": 4,
   "metadata": {},
   "outputs": [],
   "source": [
    "client = Client(api_key=keys.apiKey, api_secret=keys.secretKey)"
   ]
  },
  {
   "cell_type": "code",
   "execution_count": 5,
   "metadata": {},
   "outputs": [],
   "source": [
    "candles = client.get_klines(symbol='LTCUSDT', interval=Client.KLINE_INTERVAL_1MINUTE, limit=2000)"
   ]
  },
  {
   "cell_type": "code",
   "execution_count": 6,
   "metadata": {},
   "outputs": [],
   "source": [
    "columns = ['Open Time', 'Open', 'High', 'Low', 'Close',\n",
    "            'Volume', 'Close Time', 'Quote asset volume', \n",
    "            'n_trades', 'Taker buy base asset volume', \n",
    "            'Taker buy quote asset volume', 'Ignore']"
   ]
  },
  {
   "cell_type": "code",
   "execution_count": 7,
   "metadata": {},
   "outputs": [],
   "source": [
    "ltc_usdt_df = pd.DataFrame(candles, columns=columns)"
   ]
  },
  {
   "cell_type": "code",
   "execution_count": 8,
   "metadata": {},
   "outputs": [
    {
     "data": {
      "text/html": [
       "<div>\n",
       "<style scoped>\n",
       "    .dataframe tbody tr th:only-of-type {\n",
       "        vertical-align: middle;\n",
       "    }\n",
       "\n",
       "    .dataframe tbody tr th {\n",
       "        vertical-align: top;\n",
       "    }\n",
       "\n",
       "    .dataframe thead th {\n",
       "        text-align: right;\n",
       "    }\n",
       "</style>\n",
       "<table border=\"1\" class=\"dataframe\">\n",
       "  <thead>\n",
       "    <tr style=\"text-align: right;\">\n",
       "      <th></th>\n",
       "      <th>Open Time</th>\n",
       "      <th>Open</th>\n",
       "      <th>High</th>\n",
       "      <th>Low</th>\n",
       "      <th>Close</th>\n",
       "      <th>Volume</th>\n",
       "      <th>Close Time</th>\n",
       "      <th>Quote asset volume</th>\n",
       "      <th>n_trades</th>\n",
       "      <th>Taker buy base asset volume</th>\n",
       "      <th>Taker buy quote asset volume</th>\n",
       "      <th>Ignore</th>\n",
       "    </tr>\n",
       "  </thead>\n",
       "  <tbody>\n",
       "    <tr>\n",
       "      <th>0</th>\n",
       "      <td>1582932480000</td>\n",
       "      <td>60.50000000</td>\n",
       "      <td>60.52000000</td>\n",
       "      <td>60.41000000</td>\n",
       "      <td>60.41000000</td>\n",
       "      <td>277.04361000</td>\n",
       "      <td>1582932539999</td>\n",
       "      <td>16754.93934650</td>\n",
       "      <td>35</td>\n",
       "      <td>21.30428000</td>\n",
       "      <td>1288.97313550</td>\n",
       "      <td>0</td>\n",
       "    </tr>\n",
       "    <tr>\n",
       "      <th>1</th>\n",
       "      <td>1582932540000</td>\n",
       "      <td>60.40000000</td>\n",
       "      <td>60.44000000</td>\n",
       "      <td>60.40000000</td>\n",
       "      <td>60.44000000</td>\n",
       "      <td>100.79347000</td>\n",
       "      <td>1582932599999</td>\n",
       "      <td>6090.37210260</td>\n",
       "      <td>20</td>\n",
       "      <td>76.14043000</td>\n",
       "      <td>4600.63889720</td>\n",
       "      <td>0</td>\n",
       "    </tr>\n",
       "    <tr>\n",
       "      <th>2</th>\n",
       "      <td>1582932600000</td>\n",
       "      <td>60.49000000</td>\n",
       "      <td>60.49000000</td>\n",
       "      <td>60.44000000</td>\n",
       "      <td>60.44000000</td>\n",
       "      <td>497.02716000</td>\n",
       "      <td>1582932659999</td>\n",
       "      <td>30049.63724430</td>\n",
       "      <td>37</td>\n",
       "      <td>107.43144000</td>\n",
       "      <td>6494.65180550</td>\n",
       "      <td>0</td>\n",
       "    </tr>\n",
       "    <tr>\n",
       "      <th>3</th>\n",
       "      <td>1582932660000</td>\n",
       "      <td>60.45000000</td>\n",
       "      <td>60.47000000</td>\n",
       "      <td>60.45000000</td>\n",
       "      <td>60.47000000</td>\n",
       "      <td>129.05952000</td>\n",
       "      <td>1582932719999</td>\n",
       "      <td>7803.13032430</td>\n",
       "      <td>22</td>\n",
       "      <td>129.05952000</td>\n",
       "      <td>7803.13032430</td>\n",
       "      <td>0</td>\n",
       "    </tr>\n",
       "    <tr>\n",
       "      <th>4</th>\n",
       "      <td>1582932720000</td>\n",
       "      <td>60.47000000</td>\n",
       "      <td>60.58000000</td>\n",
       "      <td>60.45000000</td>\n",
       "      <td>60.58000000</td>\n",
       "      <td>292.63088000</td>\n",
       "      <td>1582932779999</td>\n",
       "      <td>17705.21307120</td>\n",
       "      <td>53</td>\n",
       "      <td>280.43188000</td>\n",
       "      <td>16967.31006290</td>\n",
       "      <td>0</td>\n",
       "    </tr>\n",
       "  </tbody>\n",
       "</table>\n",
       "</div>"
      ],
      "text/plain": [
       "       Open Time         Open         High          Low        Close  \\\n",
       "0  1582932480000  60.50000000  60.52000000  60.41000000  60.41000000   \n",
       "1  1582932540000  60.40000000  60.44000000  60.40000000  60.44000000   \n",
       "2  1582932600000  60.49000000  60.49000000  60.44000000  60.44000000   \n",
       "3  1582932660000  60.45000000  60.47000000  60.45000000  60.47000000   \n",
       "4  1582932720000  60.47000000  60.58000000  60.45000000  60.58000000   \n",
       "\n",
       "         Volume     Close Time Quote asset volume  n_trades  \\\n",
       "0  277.04361000  1582932539999     16754.93934650        35   \n",
       "1  100.79347000  1582932599999      6090.37210260        20   \n",
       "2  497.02716000  1582932659999     30049.63724430        37   \n",
       "3  129.05952000  1582932719999      7803.13032430        22   \n",
       "4  292.63088000  1582932779999     17705.21307120        53   \n",
       "\n",
       "  Taker buy base asset volume Taker buy quote asset volume Ignore  \n",
       "0                 21.30428000                1288.97313550      0  \n",
       "1                 76.14043000                4600.63889720      0  \n",
       "2                107.43144000                6494.65180550      0  \n",
       "3                129.05952000                7803.13032430      0  \n",
       "4                280.43188000               16967.31006290      0  "
      ]
     },
     "execution_count": 8,
     "metadata": {},
     "output_type": "execute_result"
    }
   ],
   "source": [
    "ltc_usdt_df.head()"
   ]
  },
  {
   "cell_type": "code",
   "execution_count": 9,
   "metadata": {},
   "outputs": [
    {
     "name": "stdout",
     "output_type": "stream",
     "text": [
      "<class 'pandas.core.frame.DataFrame'>\n",
      "RangeIndex: 1000 entries, 0 to 999\n",
      "Data columns (total 12 columns):\n",
      " #   Column                        Non-Null Count  Dtype \n",
      "---  ------                        --------------  ----- \n",
      " 0   Open Time                     1000 non-null   int64 \n",
      " 1   Open                          1000 non-null   object\n",
      " 2   High                          1000 non-null   object\n",
      " 3   Low                           1000 non-null   object\n",
      " 4   Close                         1000 non-null   object\n",
      " 5   Volume                        1000 non-null   object\n",
      " 6   Close Time                    1000 non-null   int64 \n",
      " 7   Quote asset volume            1000 non-null   object\n",
      " 8   n_trades                      1000 non-null   int64 \n",
      " 9   Taker buy base asset volume   1000 non-null   object\n",
      " 10  Taker buy quote asset volume  1000 non-null   object\n",
      " 11  Ignore                        1000 non-null   object\n",
      "dtypes: int64(3), object(9)\n",
      "memory usage: 93.9+ KB\n"
     ]
    }
   ],
   "source": [
    "ltc_usdt_df.info()"
   ]
  },
  {
   "cell_type": "code",
   "execution_count": 10,
   "metadata": {},
   "outputs": [],
   "source": [
    "ltc_usdt_df[['Open','Close', 'High','Low', 'Volume', 'Quote asset volume', \n",
    "            'Taker buy base asset volume', 'Taker buy quote asset volume'\n",
    "           ]] = ltc_usdt_df[['Open','Close', 'High','Low', 'Volume', 'Quote asset volume', \n",
    "            'Taker buy base asset volume', 'Taker buy quote asset volume']].astype(float)"
   ]
  },
  {
   "cell_type": "code",
   "execution_count": 11,
   "metadata": {},
   "outputs": [
    {
     "name": "stdout",
     "output_type": "stream",
     "text": [
      "<class 'pandas.core.frame.DataFrame'>\n",
      "RangeIndex: 1000 entries, 0 to 999\n",
      "Data columns (total 12 columns):\n",
      " #   Column                        Non-Null Count  Dtype  \n",
      "---  ------                        --------------  -----  \n",
      " 0   Open Time                     1000 non-null   int64  \n",
      " 1   Open                          1000 non-null   float64\n",
      " 2   High                          1000 non-null   float64\n",
      " 3   Low                           1000 non-null   float64\n",
      " 4   Close                         1000 non-null   float64\n",
      " 5   Volume                        1000 non-null   float64\n",
      " 6   Close Time                    1000 non-null   int64  \n",
      " 7   Quote asset volume            1000 non-null   float64\n",
      " 8   n_trades                      1000 non-null   int64  \n",
      " 9   Taker buy base asset volume   1000 non-null   float64\n",
      " 10  Taker buy quote asset volume  1000 non-null   float64\n",
      " 11  Ignore                        1000 non-null   object \n",
      "dtypes: float64(8), int64(3), object(1)\n",
      "memory usage: 93.9+ KB\n"
     ]
    }
   ],
   "source": [
    "ltc_usdt_df.info()"
   ]
  },
  {
   "cell_type": "code",
   "execution_count": 12,
   "metadata": {},
   "outputs": [],
   "source": [
    "ltc_usdt_df['Close Time'] = ltc_usdt_df['Close Time'].apply(\n",
    "    lambda x: datetime.fromtimestamp(int(x/1000)))"
   ]
  },
  {
   "cell_type": "code",
   "execution_count": 13,
   "metadata": {},
   "outputs": [],
   "source": [
    "ltc_usdt_df['Open Time'] = ltc_usdt_df['Open Time'].apply(\n",
    "    lambda x: datetime.fromtimestamp(int(x/1000)))"
   ]
  },
  {
   "cell_type": "code",
   "execution_count": 14,
   "metadata": {},
   "outputs": [
    {
     "data": {
      "text/html": [
       "<div>\n",
       "<style scoped>\n",
       "    .dataframe tbody tr th:only-of-type {\n",
       "        vertical-align: middle;\n",
       "    }\n",
       "\n",
       "    .dataframe tbody tr th {\n",
       "        vertical-align: top;\n",
       "    }\n",
       "\n",
       "    .dataframe thead th {\n",
       "        text-align: right;\n",
       "    }\n",
       "</style>\n",
       "<table border=\"1\" class=\"dataframe\">\n",
       "  <thead>\n",
       "    <tr style=\"text-align: right;\">\n",
       "      <th></th>\n",
       "      <th>Open Time</th>\n",
       "      <th>Open</th>\n",
       "      <th>High</th>\n",
       "      <th>Low</th>\n",
       "      <th>Close</th>\n",
       "      <th>Volume</th>\n",
       "      <th>Close Time</th>\n",
       "      <th>Quote asset volume</th>\n",
       "      <th>n_trades</th>\n",
       "      <th>Taker buy base asset volume</th>\n",
       "      <th>Taker buy quote asset volume</th>\n",
       "      <th>Ignore</th>\n",
       "    </tr>\n",
       "  </thead>\n",
       "  <tbody>\n",
       "    <tr>\n",
       "      <th>0</th>\n",
       "      <td>2020-02-29 00:28:00</td>\n",
       "      <td>60.50</td>\n",
       "      <td>60.52</td>\n",
       "      <td>60.41</td>\n",
       "      <td>60.41</td>\n",
       "      <td>277.04361</td>\n",
       "      <td>2020-02-29 00:28:59</td>\n",
       "      <td>16754.939346</td>\n",
       "      <td>35</td>\n",
       "      <td>21.30428</td>\n",
       "      <td>1288.973135</td>\n",
       "      <td>0</td>\n",
       "    </tr>\n",
       "    <tr>\n",
       "      <th>1</th>\n",
       "      <td>2020-02-29 00:29:00</td>\n",
       "      <td>60.40</td>\n",
       "      <td>60.44</td>\n",
       "      <td>60.40</td>\n",
       "      <td>60.44</td>\n",
       "      <td>100.79347</td>\n",
       "      <td>2020-02-29 00:29:59</td>\n",
       "      <td>6090.372103</td>\n",
       "      <td>20</td>\n",
       "      <td>76.14043</td>\n",
       "      <td>4600.638897</td>\n",
       "      <td>0</td>\n",
       "    </tr>\n",
       "    <tr>\n",
       "      <th>2</th>\n",
       "      <td>2020-02-29 00:30:00</td>\n",
       "      <td>60.49</td>\n",
       "      <td>60.49</td>\n",
       "      <td>60.44</td>\n",
       "      <td>60.44</td>\n",
       "      <td>497.02716</td>\n",
       "      <td>2020-02-29 00:30:59</td>\n",
       "      <td>30049.637244</td>\n",
       "      <td>37</td>\n",
       "      <td>107.43144</td>\n",
       "      <td>6494.651805</td>\n",
       "      <td>0</td>\n",
       "    </tr>\n",
       "    <tr>\n",
       "      <th>3</th>\n",
       "      <td>2020-02-29 00:31:00</td>\n",
       "      <td>60.45</td>\n",
       "      <td>60.47</td>\n",
       "      <td>60.45</td>\n",
       "      <td>60.47</td>\n",
       "      <td>129.05952</td>\n",
       "      <td>2020-02-29 00:31:59</td>\n",
       "      <td>7803.130324</td>\n",
       "      <td>22</td>\n",
       "      <td>129.05952</td>\n",
       "      <td>7803.130324</td>\n",
       "      <td>0</td>\n",
       "    </tr>\n",
       "    <tr>\n",
       "      <th>4</th>\n",
       "      <td>2020-02-29 00:32:00</td>\n",
       "      <td>60.47</td>\n",
       "      <td>60.58</td>\n",
       "      <td>60.45</td>\n",
       "      <td>60.58</td>\n",
       "      <td>292.63088</td>\n",
       "      <td>2020-02-29 00:32:59</td>\n",
       "      <td>17705.213071</td>\n",
       "      <td>53</td>\n",
       "      <td>280.43188</td>\n",
       "      <td>16967.310063</td>\n",
       "      <td>0</td>\n",
       "    </tr>\n",
       "  </tbody>\n",
       "</table>\n",
       "</div>"
      ],
      "text/plain": [
       "            Open Time   Open   High    Low  Close     Volume  \\\n",
       "0 2020-02-29 00:28:00  60.50  60.52  60.41  60.41  277.04361   \n",
       "1 2020-02-29 00:29:00  60.40  60.44  60.40  60.44  100.79347   \n",
       "2 2020-02-29 00:30:00  60.49  60.49  60.44  60.44  497.02716   \n",
       "3 2020-02-29 00:31:00  60.45  60.47  60.45  60.47  129.05952   \n",
       "4 2020-02-29 00:32:00  60.47  60.58  60.45  60.58  292.63088   \n",
       "\n",
       "           Close Time  Quote asset volume  n_trades  \\\n",
       "0 2020-02-29 00:28:59        16754.939346        35   \n",
       "1 2020-02-29 00:29:59         6090.372103        20   \n",
       "2 2020-02-29 00:30:59        30049.637244        37   \n",
       "3 2020-02-29 00:31:59         7803.130324        22   \n",
       "4 2020-02-29 00:32:59        17705.213071        53   \n",
       "\n",
       "   Taker buy base asset volume  Taker buy quote asset volume Ignore  \n",
       "0                     21.30428                   1288.973135      0  \n",
       "1                     76.14043                   4600.638897      0  \n",
       "2                    107.43144                   6494.651805      0  \n",
       "3                    129.05952                   7803.130324      0  \n",
       "4                    280.43188                  16967.310063      0  "
      ]
     },
     "execution_count": 14,
     "metadata": {},
     "output_type": "execute_result"
    }
   ],
   "source": [
    "ltc_usdt_df.head()"
   ]
  },
  {
   "cell_type": "code",
   "execution_count": 15,
   "metadata": {},
   "outputs": [
    {
     "data": {
      "text/plain": [
       "numpy.datetime64('2020-02-29T17:07:00.000000000')"
      ]
     },
     "execution_count": 15,
     "metadata": {},
     "output_type": "execute_result"
    }
   ],
   "source": [
    "ltc_usdt_df['Open Time'].unique().max()"
   ]
  },
  {
   "cell_type": "code",
   "execution_count": 16,
   "metadata": {},
   "outputs": [
    {
     "data": {
      "text/plain": [
       "numpy.datetime64('2020-02-29T00:28:00.000000000')"
      ]
     },
     "execution_count": 16,
     "metadata": {},
     "output_type": "execute_result"
    }
   ],
   "source": [
    "ltc_usdt_df['Open Time'].unique().min()"
   ]
  },
  {
   "cell_type": "code",
   "execution_count": 26,
   "metadata": {},
   "outputs": [
    {
     "data": {
      "text/plain": [
       "datetime.datetime(2020, 2, 29, 17, 7, 19, 633027)"
      ]
     },
     "execution_count": 26,
     "metadata": {},
     "output_type": "execute_result"
    }
   ],
   "source": [
    "x = datetime.now()\n",
    "x"
   ]
  },
  {
   "cell_type": "code",
   "execution_count": 29,
   "metadata": {},
   "outputs": [
    {
     "data": {
      "text/plain": [
       "datetime.datetime(2020, 1, 30, 17, 7, 19, 633027)"
      ]
     },
     "execution_count": 29,
     "metadata": {},
     "output_type": "execute_result"
    }
   ],
   "source": [
    "y = x - timedelta(days=30)\n",
    "y"
   ]
  },
  {
   "cell_type": "code",
   "execution_count": 42,
   "metadata": {},
   "outputs": [
    {
     "data": {
      "text/plain": [
       "1580400439.633027"
      ]
     },
     "execution_count": 42,
     "metadata": {},
     "output_type": "execute_result"
    }
   ],
   "source": [
    "y.timestamp()"
   ]
  },
  {
   "cell_type": "code",
   "execution_count": 44,
   "metadata": {},
   "outputs": [],
   "source": [
    "ltc_month = client.get_klines(symbol='LTCUSDT',\n",
    "                              interval=Client.KLINE_INTERVAL_15MINUTE,\n",
    "                             startTime=int(y.timestamp()))"
   ]
  },
  {
   "cell_type": "code",
   "execution_count": 32,
   "metadata": {},
   "outputs": [],
   "source": [
    "ltc_month_df = pd.DataFrame(ltc_month, columns=columns)"
   ]
  },
  {
   "cell_type": "code",
   "execution_count": 33,
   "metadata": {},
   "outputs": [
    {
     "name": "stdout",
     "output_type": "stream",
     "text": [
      "<class 'pandas.core.frame.DataFrame'>\n",
      "RangeIndex: 500 entries, 0 to 499\n",
      "Data columns (total 12 columns):\n",
      " #   Column                        Non-Null Count  Dtype \n",
      "---  ------                        --------------  ----- \n",
      " 0   Open Time                     500 non-null    int64 \n",
      " 1   Open                          500 non-null    object\n",
      " 2   High                          500 non-null    object\n",
      " 3   Low                           500 non-null    object\n",
      " 4   Close                         500 non-null    object\n",
      " 5   Volume                        500 non-null    object\n",
      " 6   Close Time                    500 non-null    int64 \n",
      " 7   Quote asset volume            500 non-null    object\n",
      " 8   n_trades                      500 non-null    int64 \n",
      " 9   Taker buy base asset volume   500 non-null    object\n",
      " 10  Taker buy quote asset volume  500 non-null    object\n",
      " 11  Ignore                        500 non-null    object\n",
      "dtypes: int64(3), object(9)\n",
      "memory usage: 47.0+ KB\n"
     ]
    }
   ],
   "source": [
    "ltc_month_df.info()"
   ]
  },
  {
   "cell_type": "code",
   "execution_count": 34,
   "metadata": {},
   "outputs": [],
   "source": [
    "ltc_month_df['Open Time'] = ltc_month_df['Open Time'].apply(\n",
    "    lambda x: datetime.fromtimestamp(int(x/1000)))\n",
    "\n",
    "ltc_month_df['Close Time'] = ltc_month_df['Close Time'].apply(\n",
    "    lambda x: datetime.fromtimestamp(int(x/1000)))"
   ]
  },
  {
   "cell_type": "code",
   "execution_count": 35,
   "metadata": {},
   "outputs": [
    {
     "data": {
      "text/plain": [
       "Timestamp('2017-12-18 09:15:00')"
      ]
     },
     "execution_count": 35,
     "metadata": {},
     "output_type": "execute_result"
    }
   ],
   "source": [
    "ltc_month_df['Open Time'].max()"
   ]
  },
  {
   "cell_type": "code",
   "execution_count": 36,
   "metadata": {},
   "outputs": [
    {
     "data": {
      "text/plain": [
       "Timestamp('2017-12-13 04:30:00')"
      ]
     },
     "execution_count": 36,
     "metadata": {},
     "output_type": "execute_result"
    }
   ],
   "source": [
    "ltc_month_df['Open Time'].min()"
   ]
  },
  {
   "cell_type": "code",
   "execution_count": null,
   "metadata": {},
   "outputs": [],
   "source": []
  },
  {
   "cell_type": "code",
   "execution_count": null,
   "metadata": {},
   "outputs": [],
   "source": []
  }
 ],
 "metadata": {
  "kernelspec": {
   "display_name": "Python 3",
   "language": "python",
   "name": "python3"
  },
  "language_info": {
   "codemirror_mode": {
    "name": "ipython",
    "version": 3
   },
   "file_extension": ".py",
   "mimetype": "text/x-python",
   "name": "python",
   "nbconvert_exporter": "python",
   "pygments_lexer": "ipython3",
   "version": "3.8.1"
  }
 },
 "nbformat": 4,
 "nbformat_minor": 4
}
