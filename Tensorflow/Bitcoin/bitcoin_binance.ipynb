{
 "cells": [
  {
   "cell_type": "code",
   "execution_count": 1,
   "metadata": {},
   "outputs": [],
   "source": [
    "import numpy as np\n",
    "import pandas as pd\n",
    "import matplotlib.pyplot as plt\n",
    "import seaborn as sns\n",
    "from datetime import datetime, timedelta"
   ]
  },
  {
   "cell_type": "code",
   "execution_count": 2,
   "metadata": {},
   "outputs": [],
   "source": [
    "%matplotlib inline\n",
    "sns.set_style(style='whitegrid')"
   ]
  },
  {
   "cell_type": "code",
   "execution_count": 3,
   "metadata": {},
   "outputs": [],
   "source": [
    "from keys import keys\n",
    "from binance.client import Client"
   ]
  },
  {
   "cell_type": "code",
   "execution_count": 4,
   "metadata": {},
   "outputs": [],
   "source": [
    "client = Client(api_key=keys.apiKey, api_secret=keys.secretKey)"
   ]
  },
  {
   "cell_type": "code",
   "execution_count": 5,
   "metadata": {},
   "outputs": [],
   "source": [
    "\"\"\"\n",
    "The various columns used by Binance\n",
    "taken from:\n",
    "https://python-binance.readthedocs.io/en/latest/binance.html#module-binance.client\n",
    "\"\"\"\n",
    "\n",
    "columns = ['Open Time', 'Open', 'High', 'Low', 'Close',\n",
    "            'Volume', 'Close Time', 'Quote asset volume', \n",
    "            'n_trades', 'Taker buy base asset volume', \n",
    "            'Taker buy quote asset volume', 'Ignore']"
   ]
  },
  {
   "cell_type": "code",
   "execution_count": 6,
   "metadata": {},
   "outputs": [],
   "source": [
    "\"\"\"\n",
    "DOWNLOADS DATA FROM BINANCE IN BATCHES OF 500 items\n",
    "\n",
    "INPUTS:\n",
    "    n_iterations: how many batches of 500 items to download\n",
    "    \n",
    "    currency: one of the varios currencies, examples: \n",
    "                'BTCUSDT', 'LTCUSDT' ...etc\n",
    "    interval: dictionary, example: interval_5min = { \n",
    "                                        'interval' : Client.KLINE_INTERVAL_5MINUTE,\n",
    "                                        'interval_diff' : 300000 \n",
    "                                    }\n",
    "            interval_diff: the difference in millisec of of new_data[1][0] - new_data[0][0]\n",
    "            (the difference in binance timeframes of misurations)\n",
    "\"\"\"\n",
    "def get_by_intervals(n_iterations, currency, interval):\n",
    "    df = pd.DataFrame(columns=columns)\n",
    "    print(df)\n",
    "    for i in range(0,n_iterations):\n",
    "        if df.empty:\n",
    "            new_data = client.get_klines(symbol=currency, \n",
    "                              interval=interval['interval'])\n",
    "        else:\n",
    "            end_time = df['Open Time'].iloc[0] - interval['interval_diff']\n",
    "            new_data = client.get_klines(symbol=currency, \n",
    "                              interval=interval['interval'],\n",
    "                              endTime=end_time\n",
    "                             )\n",
    "        \n",
    "        new_data_df = pd.DataFrame(new_data, columns=columns)\n",
    "        df = pd.concat([new_data_df,df])\n",
    "    return df"
   ]
  },
  {
   "cell_type": "code",
   "execution_count": 7,
   "metadata": {},
   "outputs": [],
   "source": [
    "interval_5min = { 'interval' : Client.KLINE_INTERVAL_5MINUTE,\n",
    "                    'interval_diff': 300000 }"
   ]
  },
  {
   "cell_type": "code",
   "execution_count": 8,
   "metadata": {},
   "outputs": [],
   "source": [
    "\"\"\"\n",
    "USED TO TEST IF TIMESTAMPS ARE ALIGNED AND THERE ARE NO SUDDEN JUMPS\n",
    "\"\"\"\n",
    "\n",
    "def test_time_skip(i_init,i_end,df):\n",
    "    for i in range(i_init,i_end):\n",
    "        if (df['Open Time'].iloc[i+1] - df['Open Time'].iloc[i] != 300000):\n",
    "            print('FUUUCK',(df['Open Time'].iloc[i+1] - df['Open Time'].iloc[i]), \n",
    "                df['Open Time'].iloc[i+1], df['Open Time'].iloc[i],i)"
   ]
  },
  {
   "cell_type": "code",
   "execution_count": 9,
   "metadata": {},
   "outputs": [
    {
     "name": "stdout",
     "output_type": "stream",
     "text": [
      "Empty DataFrame\n",
      "Columns: [Open Time, Open, High, Low, Close, Volume, Close Time, Quote asset volume, n_trades, Taker buy base asset volume, Taker buy quote asset volume, Ignore]\n",
      "Index: []\n"
     ]
    }
   ],
   "source": [
    "ltc_test = get_by_intervals(20, 'LTCUSDT', interval_5min)"
   ]
  },
  {
   "cell_type": "code",
   "execution_count": 10,
   "metadata": {},
   "outputs": [
    {
     "name": "stdout",
     "output_type": "stream",
     "text": [
      "<class 'pandas.core.frame.DataFrame'>\n",
      "Int64Index: 10000 entries, 0 to 499\n",
      "Data columns (total 12 columns):\n",
      " #   Column                        Non-Null Count  Dtype \n",
      "---  ------                        --------------  ----- \n",
      " 0   Open Time                     10000 non-null  object\n",
      " 1   Open                          10000 non-null  object\n",
      " 2   High                          10000 non-null  object\n",
      " 3   Low                           10000 non-null  object\n",
      " 4   Close                         10000 non-null  object\n",
      " 5   Volume                        10000 non-null  object\n",
      " 6   Close Time                    10000 non-null  object\n",
      " 7   Quote asset volume            10000 non-null  object\n",
      " 8   n_trades                      10000 non-null  object\n",
      " 9   Taker buy base asset volume   10000 non-null  object\n",
      " 10  Taker buy quote asset volume  10000 non-null  object\n",
      " 11  Ignore                        10000 non-null  object\n",
      "dtypes: object(12)\n",
      "memory usage: 1015.6+ KB\n"
     ]
    }
   ],
   "source": [
    "ltc_test.info()"
   ]
  },
  {
   "cell_type": "code",
   "execution_count": 11,
   "metadata": {},
   "outputs": [
    {
     "data": {
      "text/html": [
       "<div>\n",
       "<style scoped>\n",
       "    .dataframe tbody tr th:only-of-type {\n",
       "        vertical-align: middle;\n",
       "    }\n",
       "\n",
       "    .dataframe tbody tr th {\n",
       "        vertical-align: top;\n",
       "    }\n",
       "\n",
       "    .dataframe thead th {\n",
       "        text-align: right;\n",
       "    }\n",
       "</style>\n",
       "<table border=\"1\" class=\"dataframe\">\n",
       "  <thead>\n",
       "    <tr style=\"text-align: right;\">\n",
       "      <th></th>\n",
       "      <th>Open Time</th>\n",
       "      <th>Open</th>\n",
       "      <th>High</th>\n",
       "      <th>Low</th>\n",
       "      <th>Close</th>\n",
       "      <th>Volume</th>\n",
       "      <th>Close Time</th>\n",
       "      <th>Quote asset volume</th>\n",
       "      <th>n_trades</th>\n",
       "      <th>Taker buy base asset volume</th>\n",
       "      <th>Taker buy quote asset volume</th>\n",
       "      <th>Ignore</th>\n",
       "    </tr>\n",
       "  </thead>\n",
       "  <tbody>\n",
       "    <tr>\n",
       "      <th>0</th>\n",
       "      <td>1579980300000</td>\n",
       "      <td>53.57000000</td>\n",
       "      <td>53.58000000</td>\n",
       "      <td>53.38000000</td>\n",
       "      <td>53.38000000</td>\n",
       "      <td>632.57920000</td>\n",
       "      <td>1579980599999</td>\n",
       "      <td>33836.74429640</td>\n",
       "      <td>74</td>\n",
       "      <td>172.79818000</td>\n",
       "      <td>9244.80049830</td>\n",
       "      <td>0</td>\n",
       "    </tr>\n",
       "    <tr>\n",
       "      <th>1</th>\n",
       "      <td>1579980600000</td>\n",
       "      <td>53.38000000</td>\n",
       "      <td>53.57000000</td>\n",
       "      <td>53.38000000</td>\n",
       "      <td>53.43000000</td>\n",
       "      <td>760.52114000</td>\n",
       "      <td>1579980899999</td>\n",
       "      <td>40689.32234870</td>\n",
       "      <td>92</td>\n",
       "      <td>429.85255000</td>\n",
       "      <td>23003.21147490</td>\n",
       "      <td>0</td>\n",
       "    </tr>\n",
       "    <tr>\n",
       "      <th>2</th>\n",
       "      <td>1579980900000</td>\n",
       "      <td>53.44000000</td>\n",
       "      <td>53.64000000</td>\n",
       "      <td>53.43000000</td>\n",
       "      <td>53.61000000</td>\n",
       "      <td>886.83121000</td>\n",
       "      <td>1579981199999</td>\n",
       "      <td>47505.91231400</td>\n",
       "      <td>90</td>\n",
       "      <td>656.68728000</td>\n",
       "      <td>35187.97308180</td>\n",
       "      <td>0</td>\n",
       "    </tr>\n",
       "    <tr>\n",
       "      <th>3</th>\n",
       "      <td>1579981200000</td>\n",
       "      <td>53.62000000</td>\n",
       "      <td>53.76000000</td>\n",
       "      <td>53.61000000</td>\n",
       "      <td>53.70000000</td>\n",
       "      <td>1163.47783000</td>\n",
       "      <td>1579981499999</td>\n",
       "      <td>62442.15589090</td>\n",
       "      <td>182</td>\n",
       "      <td>509.65811000</td>\n",
       "      <td>27355.49212980</td>\n",
       "      <td>0</td>\n",
       "    </tr>\n",
       "    <tr>\n",
       "      <th>4</th>\n",
       "      <td>1579981500000</td>\n",
       "      <td>53.71000000</td>\n",
       "      <td>53.88000000</td>\n",
       "      <td>53.71000000</td>\n",
       "      <td>53.88000000</td>\n",
       "      <td>767.45981000</td>\n",
       "      <td>1579981799999</td>\n",
       "      <td>41317.04821770</td>\n",
       "      <td>173</td>\n",
       "      <td>522.86628000</td>\n",
       "      <td>28145.87709050</td>\n",
       "      <td>0</td>\n",
       "    </tr>\n",
       "  </tbody>\n",
       "</table>\n",
       "</div>"
      ],
      "text/plain": [
       "       Open Time         Open         High          Low        Close  \\\n",
       "0  1579980300000  53.57000000  53.58000000  53.38000000  53.38000000   \n",
       "1  1579980600000  53.38000000  53.57000000  53.38000000  53.43000000   \n",
       "2  1579980900000  53.44000000  53.64000000  53.43000000  53.61000000   \n",
       "3  1579981200000  53.62000000  53.76000000  53.61000000  53.70000000   \n",
       "4  1579981500000  53.71000000  53.88000000  53.71000000  53.88000000   \n",
       "\n",
       "          Volume     Close Time Quote asset volume n_trades  \\\n",
       "0   632.57920000  1579980599999     33836.74429640       74   \n",
       "1   760.52114000  1579980899999     40689.32234870       92   \n",
       "2   886.83121000  1579981199999     47505.91231400       90   \n",
       "3  1163.47783000  1579981499999     62442.15589090      182   \n",
       "4   767.45981000  1579981799999     41317.04821770      173   \n",
       "\n",
       "  Taker buy base asset volume Taker buy quote asset volume Ignore  \n",
       "0                172.79818000                9244.80049830      0  \n",
       "1                429.85255000               23003.21147490      0  \n",
       "2                656.68728000               35187.97308180      0  \n",
       "3                509.65811000               27355.49212980      0  \n",
       "4                522.86628000               28145.87709050      0  "
      ]
     },
     "execution_count": 11,
     "metadata": {},
     "output_type": "execute_result"
    }
   ],
   "source": [
    "ltc_test.head()"
   ]
  },
  {
   "cell_type": "code",
   "execution_count": 12,
   "metadata": {},
   "outputs": [],
   "source": [
    "test_time_skip(0,999,ltc_test)"
   ]
  },
  {
   "cell_type": "code",
   "execution_count": 13,
   "metadata": {},
   "outputs": [],
   "source": [
    "ltc_test[['Open','Close', 'High','Low', 'Volume', 'Quote asset volume', \n",
    "            'Taker buy base asset volume', 'Taker buy quote asset volume'\n",
    "           ]] = ltc_test[['Open','Close', 'High','Low', 'Volume', 'Quote asset volume', \n",
    "            'Taker buy base asset volume', 'Taker buy quote asset volume']].astype(float)"
   ]
  },
  {
   "cell_type": "code",
   "execution_count": 14,
   "metadata": {},
   "outputs": [],
   "source": [
    "ltc_test['Close Time'] = ltc_test['Close Time'].apply(\n",
    "    lambda x: datetime.fromtimestamp(int(x/1000)))\n",
    "ltc_test['Open Time'] = ltc_test['Open Time'].apply(\n",
    "    lambda x: datetime.fromtimestamp(int(x/1000)))"
   ]
  },
  {
   "cell_type": "code",
   "execution_count": 15,
   "metadata": {},
   "outputs": [
    {
     "name": "stdout",
     "output_type": "stream",
     "text": [
      "<class 'pandas.core.frame.DataFrame'>\n",
      "Int64Index: 10000 entries, 0 to 499\n",
      "Data columns (total 12 columns):\n",
      " #   Column                        Non-Null Count  Dtype         \n",
      "---  ------                        --------------  -----         \n",
      " 0   Open Time                     10000 non-null  datetime64[ns]\n",
      " 1   Open                          10000 non-null  float64       \n",
      " 2   High                          10000 non-null  float64       \n",
      " 3   Low                           10000 non-null  float64       \n",
      " 4   Close                         10000 non-null  float64       \n",
      " 5   Volume                        10000 non-null  float64       \n",
      " 6   Close Time                    10000 non-null  datetime64[ns]\n",
      " 7   Quote asset volume            10000 non-null  float64       \n",
      " 8   n_trades                      10000 non-null  object        \n",
      " 9   Taker buy base asset volume   10000 non-null  float64       \n",
      " 10  Taker buy quote asset volume  10000 non-null  float64       \n",
      " 11  Ignore                        10000 non-null  object        \n",
      "dtypes: datetime64[ns](2), float64(8), object(2)\n",
      "memory usage: 1015.6+ KB\n"
     ]
    }
   ],
   "source": [
    "ltc_test.info()"
   ]
  },
  {
   "cell_type": "code",
   "execution_count": 16,
   "metadata": {},
   "outputs": [
    {
     "name": "stdout",
     "output_type": "stream",
     "text": [
      "Data timeframe:\n",
      "From:   2020-02-29 20:34:59\n",
      "To      2020-01-25 20:29:59\n"
     ]
    }
   ],
   "source": [
    "print('Data timeframe:')\n",
    "print( 'From:  ',ltc_test['Close Time'].max())\n",
    "print( 'To     ',ltc_test['Close Time'].min())"
   ]
  },
  {
   "cell_type": "code",
   "execution_count": 17,
   "metadata": {},
   "outputs": [
    {
     "data": {
      "text/plain": [
       "<matplotlib.axes._subplots.AxesSubplot at 0x7f7d1d8dba60>"
      ]
     },
     "execution_count": 17,
     "metadata": {},
     "output_type": "execute_result"
    },
    {
     "data": {
      "image/png": "[encoded data removed]",
      "text/plain": [
       "<Figure size 1152x576 with 1 Axes>"
      ]
     },
     "metadata": {},
     "output_type": "display_data"
    }
   ],
   "source": [
    "plt.figure(figsize=(16,8))\n",
    "ltc_test['Close'].iloc[:500].plot()"
   ]
  },
  {
   "cell_type": "code",
   "execution_count": null,
   "metadata": {},
   "outputs": [],
   "source": []
  }
 ],
 "metadata": {
  "kernelspec": {
   "display_name": "Python 3",
   "language": "python",
   "name": "python3"
  },
  "language_info": {
   "codemirror_mode": {
    "name": "ipython",
    "version": 3
   },
   "file_extension": ".py",
   "mimetype": "text/x-python",
   "name": "python",
   "nbconvert_exporter": "python",
   "pygments_lexer": "ipython3",
   "version": "3.8.1"
  }
 },
 "nbformat": 4,
 "nbformat_minor": 4
}
