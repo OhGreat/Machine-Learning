{
 "cells": [
  {
   "cell_type": "code",
   "execution_count": 1,
   "metadata": {},
   "outputs": [],
   "source": [
    "import numpy as np\n",
    "import pandas as pd\n",
    "import matplotlib.pyplot as plt\n",
    "import seaborn as sns\n",
    "from datetime import datetime, timedelta"
   ]
  },
  {
   "cell_type": "code",
   "execution_count": 2,
   "metadata": {},
   "outputs": [],
   "source": [
    "%matplotlib inline\n",
    "sns.set_style(style='whitegrid')"
   ]
  },
  {
   "cell_type": "code",
   "execution_count": 3,
   "metadata": {},
   "outputs": [],
   "source": [
    "from keys import keys\n",
    "from binance.client import Client"
   ]
  },
  {
   "cell_type": "code",
   "execution_count": 4,
   "metadata": {},
   "outputs": [],
   "source": [
    "client = Client(api_key=keys.apiKey, api_secret=keys.secretKey)"
   ]
  },
  {
   "cell_type": "code",
   "execution_count": 5,
   "metadata": {},
   "outputs": [],
   "source": [
    "\"\"\"\n",
    "The various columns used by Binance\n",
    "taken from:\n",
    "https://python-binance.readthedocs.io/en/latest/binance.html#module-binance.client\n",
    "\"\"\"\n",
    "\n",
    "columns = ['Open Time', 'Open', 'High', 'Low', 'Close',\n",
    "            'Volume', 'Close Time', 'Quote asset volume', \n",
    "            'n_trades', 'Taker buy base asset volume', \n",
    "            'Taker buy quote asset volume', 'Ignore']"
   ]
  },
  {
   "cell_type": "code",
   "execution_count": 6,
   "metadata": {},
   "outputs": [],
   "source": [
    "\"\"\"\n",
    "DOWNLOADS DATA FROM BINANCE IN BATCHES OF 500 items\n",
    "in total will return 500*n_rows - (n_rows+1) and\n",
    "no duplicate data should be present\n",
    "\n",
    "INPUTS:\n",
    "    n_iterations: how many batches of 500 items to download\n",
    "    \n",
    "    currency: one of the varios currencies, examples: \n",
    "                'BTCUSDT', 'LTCUSDT' ...etc\n",
    "    interval:   Client.KLINE_INTERVAL_1MINUTE\n",
    "                Client.KLINE_INTERVAL_3MINUTE\n",
    "                Client.KLINE_INTERVAL_5MINUTE\n",
    "                Client.KLINE_INTERVAL_15MINUTE\n",
    "                Client.KLINE_INTERVAL_30MINUTE\n",
    "                Client.KLINE_INTERVAL_1HOUR\n",
    "                ...\n",
    "\"\"\"\n",
    "def get_data_by_intervals(n_iterations, currencies, interval):\n",
    "    \n",
    "    #columns template\n",
    "    columns = ['Open Time', 'Open', 'High', 'Low', 'Close',\n",
    "            'Volume', 'Close Time', 'Quote asset volume', \n",
    "            'n_trades', 'Taker buy base asset volume', \n",
    "            'Taker buy quote asset volume', 'Ignore']\n",
    "    \n",
    "    #most recent timestamp to start downloading from\n",
    "    starting_point = client.get_klines(symbol=currencies[0], \n",
    "                                  interval=interval, limit=1)[-1][0]\n",
    "    \n",
    "    main_df = pd.DataFrame()\n",
    "    \n",
    "    for currency in currencies:\n",
    "        currency_cols = []\n",
    "        for col in columns:\n",
    "            currency_cols.append(currency+' '+col)\n",
    "        specific_currency_df = pd.DataFrame(columns=currency_cols)\n",
    "        \n",
    "        #downloading n iterations of a specific currency\n",
    "        for i in range(0,n_iterations):\n",
    "            #split in if elseto use starting_point\n",
    "            if specific_currency_df.empty:\n",
    "                new_data = client.get_klines(symbol=currency, \n",
    "                                              interval=interval,\n",
    "                                              endTime = starting_point,\n",
    "                                              limit=500\n",
    "                                            )\n",
    "            else:\n",
    "                end_time = specific_currency_df[currency+' Open Time'].iloc[0]\n",
    "                new_data = client.get_klines(symbol=currency, \n",
    "                                              interval=interval,\n",
    "                                              endTime=end_time,\n",
    "                                              limit=500\n",
    "                                            )\n",
    "            #merging all the rows of a specific currency in one DataFrame\n",
    "            #we need to delete the first row of specific_currency_df or\n",
    "            # delete the last row of new_data_df, it's repeated\n",
    "            new_data_df = pd.DataFrame(new_data, columns=currency_cols)\n",
    "            specific_currency_df = pd.concat([new_data_df,specific_currency_df[1:]],\n",
    "                                             ignore_index=True)\n",
    "            \n",
    "        #merging the specific currency created into the main_df were we keep all the data\n",
    "        main_df = pd.concat([main_df, specific_currency_df],axis=1)\n",
    "    return main_df"
   ]
  },
  {
   "cell_type": "code",
   "execution_count": null,
   "metadata": {},
   "outputs": [],
   "source": []
  },
  {
   "cell_type": "code",
   "execution_count": 7,
   "metadata": {},
   "outputs": [],
   "source": [
    "coin_list = ['BTCUSDT', 'ETHUSDT', 'BCHUSDT', 'LTCUSDT', 'XRPUSDT']"
   ]
  },
  {
   "cell_type": "code",
   "execution_count": 8,
   "metadata": {},
   "outputs": [
    {
     "name": "stdout",
     "output_type": "stream",
     "text": [
      "<class 'pandas.core.frame.DataFrame'>\n",
      "RangeIndex: 500 entries, 0 to 499\n",
      "Data columns (total 60 columns):\n",
      " #   Column                                Non-Null Count  Dtype \n",
      "---  ------                                --------------  ----- \n",
      " 0   BTCUSDT Open Time                     500 non-null    object\n",
      " 1   BTCUSDT Open                          500 non-null    object\n",
      " 2   BTCUSDT High                          500 non-null    object\n",
      " 3   BTCUSDT Low                           500 non-null    object\n",
      " 4   BTCUSDT Close                         500 non-null    object\n",
      " 5   BTCUSDT Volume                        500 non-null    object\n",
      " 6   BTCUSDT Close Time                    500 non-null    object\n",
      " 7   BTCUSDT Quote asset volume            500 non-null    object\n",
      " 8   BTCUSDT n_trades                      500 non-null    object\n",
      " 9   BTCUSDT Taker buy base asset volume   500 non-null    object\n",
      " 10  BTCUSDT Taker buy quote asset volume  500 non-null    object\n",
      " 11  BTCUSDT Ignore                        500 non-null    object\n",
      " 12  ETHUSDT Open Time                     500 non-null    object\n",
      " 13  ETHUSDT Open                          500 non-null    object\n",
      " 14  ETHUSDT High                          500 non-null    object\n",
      " 15  ETHUSDT Low                           500 non-null    object\n",
      " 16  ETHUSDT Close                         500 non-null    object\n",
      " 17  ETHUSDT Volume                        500 non-null    object\n",
      " 18  ETHUSDT Close Time                    500 non-null    object\n",
      " 19  ETHUSDT Quote asset volume            500 non-null    object\n",
      " 20  ETHUSDT n_trades                      500 non-null    object\n",
      " 21  ETHUSDT Taker buy base asset volume   500 non-null    object\n",
      " 22  ETHUSDT Taker buy quote asset volume  500 non-null    object\n",
      " 23  ETHUSDT Ignore                        500 non-null    object\n",
      " 24  BCHUSDT Open Time                     500 non-null    object\n",
      " 25  BCHUSDT Open                          500 non-null    object\n",
      " 26  BCHUSDT High                          500 non-null    object\n",
      " 27  BCHUSDT Low                           500 non-null    object\n",
      " 28  BCHUSDT Close                         500 non-null    object\n",
      " 29  BCHUSDT Volume                        500 non-null    object\n",
      " 30  BCHUSDT Close Time                    500 non-null    object\n",
      " 31  BCHUSDT Quote asset volume            500 non-null    object\n",
      " 32  BCHUSDT n_trades                      500 non-null    object\n",
      " 33  BCHUSDT Taker buy base asset volume   500 non-null    object\n",
      " 34  BCHUSDT Taker buy quote asset volume  500 non-null    object\n",
      " 35  BCHUSDT Ignore                        500 non-null    object\n",
      " 36  LTCUSDT Open Time                     500 non-null    object\n",
      " 37  LTCUSDT Open                          500 non-null    object\n",
      " 38  LTCUSDT High                          500 non-null    object\n",
      " 39  LTCUSDT Low                           500 non-null    object\n",
      " 40  LTCUSDT Close                         500 non-null    object\n",
      " 41  LTCUSDT Volume                        500 non-null    object\n",
      " 42  LTCUSDT Close Time                    500 non-null    object\n",
      " 43  LTCUSDT Quote asset volume            500 non-null    object\n",
      " 44  LTCUSDT n_trades                      500 non-null    object\n",
      " 45  LTCUSDT Taker buy base asset volume   500 non-null    object\n",
      " 46  LTCUSDT Taker buy quote asset volume  500 non-null    object\n",
      " 47  LTCUSDT Ignore                        500 non-null    object\n",
      " 48  XRPUSDT Open Time                     500 non-null    object\n",
      " 49  XRPUSDT Open                          500 non-null    object\n",
      " 50  XRPUSDT High                          500 non-null    object\n",
      " 51  XRPUSDT Low                           500 non-null    object\n",
      " 52  XRPUSDT Close                         500 non-null    object\n",
      " 53  XRPUSDT Volume                        500 non-null    object\n",
      " 54  XRPUSDT Close Time                    500 non-null    object\n",
      " 55  XRPUSDT Quote asset volume            500 non-null    object\n",
      " 56  XRPUSDT n_trades                      500 non-null    object\n",
      " 57  XRPUSDT Taker buy base asset volume   500 non-null    object\n",
      " 58  XRPUSDT Taker buy quote asset volume  500 non-null    object\n",
      " 59  XRPUSDT Ignore                        500 non-null    object\n",
      "dtypes: object(60)\n",
      "memory usage: 234.5+ KB\n"
     ]
    }
   ],
   "source": [
    "coins = get_data_by_intervals(1, coin_list, Client.KLINE_INTERVAL_15MINUTE)\n",
    "coins.info()"
   ]
  },
  {
   "cell_type": "code",
   "execution_count": 9,
   "metadata": {},
   "outputs": [
    {
     "data": {
      "text/html": [
       "<div>\n",
       "<style scoped>\n",
       "    .dataframe tbody tr th:only-of-type {\n",
       "        vertical-align: middle;\n",
       "    }\n",
       "\n",
       "    .dataframe tbody tr th {\n",
       "        vertical-align: top;\n",
       "    }\n",
       "\n",
       "    .dataframe thead th {\n",
       "        text-align: right;\n",
       "    }\n",
       "</style>\n",
       "<table border=\"1\" class=\"dataframe\">\n",
       "  <thead>\n",
       "    <tr style=\"text-align: right;\">\n",
       "      <th></th>\n",
       "      <th>BTCUSDT Open Time</th>\n",
       "      <th>BTCUSDT Open</th>\n",
       "      <th>BTCUSDT High</th>\n",
       "      <th>BTCUSDT Low</th>\n",
       "      <th>BTCUSDT Close</th>\n",
       "      <th>BTCUSDT Volume</th>\n",
       "      <th>BTCUSDT Close Time</th>\n",
       "      <th>BTCUSDT Quote asset volume</th>\n",
       "      <th>BTCUSDT n_trades</th>\n",
       "      <th>BTCUSDT Taker buy base asset volume</th>\n",
       "      <th>...</th>\n",
       "      <th>XRPUSDT High</th>\n",
       "      <th>XRPUSDT Low</th>\n",
       "      <th>XRPUSDT Close</th>\n",
       "      <th>XRPUSDT Volume</th>\n",
       "      <th>XRPUSDT Close Time</th>\n",
       "      <th>XRPUSDT Quote asset volume</th>\n",
       "      <th>XRPUSDT n_trades</th>\n",
       "      <th>XRPUSDT Taker buy base asset volume</th>\n",
       "      <th>XRPUSDT Taker buy quote asset volume</th>\n",
       "      <th>XRPUSDT Ignore</th>\n",
       "    </tr>\n",
       "  </thead>\n",
       "  <tbody>\n",
       "    <tr>\n",
       "      <th>0</th>\n",
       "      <td>1582650900000</td>\n",
       "      <td>9331.76000000</td>\n",
       "      <td>9349.59000000</td>\n",
       "      <td>9305.00000000</td>\n",
       "      <td>9339.21000000</td>\n",
       "      <td>850.68538700</td>\n",
       "      <td>1582651799999</td>\n",
       "      <td>7935212.32160702</td>\n",
       "      <td>7661</td>\n",
       "      <td>378.20985900</td>\n",
       "      <td>...</td>\n",
       "      <td>0.25472000</td>\n",
       "      <td>0.25317000</td>\n",
       "      <td>0.25416000</td>\n",
       "      <td>2582458.60000000</td>\n",
       "      <td>1582651799999</td>\n",
       "      <td>655949.11557500</td>\n",
       "      <td>1430</td>\n",
       "      <td>1227817.90000000</td>\n",
       "      <td>311883.14674200</td>\n",
       "      <td>0</td>\n",
       "    </tr>\n",
       "    <tr>\n",
       "      <th>1</th>\n",
       "      <td>1582651800000</td>\n",
       "      <td>9339.20000000</td>\n",
       "      <td>9392.06000000</td>\n",
       "      <td>9331.29000000</td>\n",
       "      <td>9372.65000000</td>\n",
       "      <td>674.15387100</td>\n",
       "      <td>1582652699999</td>\n",
       "      <td>6308107.25246233</td>\n",
       "      <td>7087</td>\n",
       "      <td>334.35475700</td>\n",
       "      <td>...</td>\n",
       "      <td>0.25586000</td>\n",
       "      <td>0.25405000</td>\n",
       "      <td>0.25510000</td>\n",
       "      <td>3374949.80000000</td>\n",
       "      <td>1582652699999</td>\n",
       "      <td>860244.23571500</td>\n",
       "      <td>1709</td>\n",
       "      <td>1944216.60000000</td>\n",
       "      <td>495518.35579300</td>\n",
       "      <td>0</td>\n",
       "    </tr>\n",
       "    <tr>\n",
       "      <th>2</th>\n",
       "      <td>1582652700000</td>\n",
       "      <td>9372.76000000</td>\n",
       "      <td>9374.96000000</td>\n",
       "      <td>9335.00000000</td>\n",
       "      <td>9335.24000000</td>\n",
       "      <td>622.45661900</td>\n",
       "      <td>1582653599999</td>\n",
       "      <td>5820694.98198025</td>\n",
       "      <td>5679</td>\n",
       "      <td>255.61382400</td>\n",
       "      <td>...</td>\n",
       "      <td>0.25528000</td>\n",
       "      <td>0.25390000</td>\n",
       "      <td>0.25400000</td>\n",
       "      <td>1502698.30000000</td>\n",
       "      <td>1582653599999</td>\n",
       "      <td>382313.76830900</td>\n",
       "      <td>901</td>\n",
       "      <td>672947.20000000</td>\n",
       "      <td>171214.82959100</td>\n",
       "      <td>0</td>\n",
       "    </tr>\n",
       "    <tr>\n",
       "      <th>3</th>\n",
       "      <td>1582653600000</td>\n",
       "      <td>9335.21000000</td>\n",
       "      <td>9368.92000000</td>\n",
       "      <td>9322.47000000</td>\n",
       "      <td>9368.40000000</td>\n",
       "      <td>621.06272400</td>\n",
       "      <td>1582654499999</td>\n",
       "      <td>5806196.93899016</td>\n",
       "      <td>5647</td>\n",
       "      <td>297.83619100</td>\n",
       "      <td>...</td>\n",
       "      <td>0.25540000</td>\n",
       "      <td>0.25360000</td>\n",
       "      <td>0.25531000</td>\n",
       "      <td>1390103.10000000</td>\n",
       "      <td>1582654499999</td>\n",
       "      <td>353784.24953400</td>\n",
       "      <td>921</td>\n",
       "      <td>943308.80000000</td>\n",
       "      <td>240034.56379700</td>\n",
       "      <td>0</td>\n",
       "    </tr>\n",
       "    <tr>\n",
       "      <th>4</th>\n",
       "      <td>1582654500000</td>\n",
       "      <td>9368.40000000</td>\n",
       "      <td>9375.33000000</td>\n",
       "      <td>9339.75000000</td>\n",
       "      <td>9361.88000000</td>\n",
       "      <td>606.76436300</td>\n",
       "      <td>1582655399999</td>\n",
       "      <td>5676128.53096742</td>\n",
       "      <td>5945</td>\n",
       "      <td>336.64103200</td>\n",
       "      <td>...</td>\n",
       "      <td>0.25579000</td>\n",
       "      <td>0.25445000</td>\n",
       "      <td>0.25557000</td>\n",
       "      <td>1486367.00000000</td>\n",
       "      <td>1582655399999</td>\n",
       "      <td>379158.28983800</td>\n",
       "      <td>982</td>\n",
       "      <td>606549.30000000</td>\n",
       "      <td>154706.42501800</td>\n",
       "      <td>0</td>\n",
       "    </tr>\n",
       "  </tbody>\n",
       "</table>\n",
       "<p>5 rows × 60 columns</p>\n",
       "</div>"
      ],
      "text/plain": [
       "  BTCUSDT Open Time   BTCUSDT Open   BTCUSDT High    BTCUSDT Low  \\\n",
       "0     1582650900000  9331.76000000  9349.59000000  9305.00000000   \n",
       "1     1582651800000  9339.20000000  9392.06000000  9331.29000000   \n",
       "2     1582652700000  9372.76000000  9374.96000000  9335.00000000   \n",
       "3     1582653600000  9335.21000000  9368.92000000  9322.47000000   \n",
       "4     1582654500000  9368.40000000  9375.33000000  9339.75000000   \n",
       "\n",
       "   BTCUSDT Close BTCUSDT Volume BTCUSDT Close Time BTCUSDT Quote asset volume  \\\n",
       "0  9339.21000000   850.68538700      1582651799999           7935212.32160702   \n",
       "1  9372.65000000   674.15387100      1582652699999           6308107.25246233   \n",
       "2  9335.24000000   622.45661900      1582653599999           5820694.98198025   \n",
       "3  9368.40000000   621.06272400      1582654499999           5806196.93899016   \n",
       "4  9361.88000000   606.76436300      1582655399999           5676128.53096742   \n",
       "\n",
       "  BTCUSDT n_trades BTCUSDT Taker buy base asset volume  ... XRPUSDT High  \\\n",
       "0             7661                        378.20985900  ...   0.25472000   \n",
       "1             7087                        334.35475700  ...   0.25586000   \n",
       "2             5679                        255.61382400  ...   0.25528000   \n",
       "3             5647                        297.83619100  ...   0.25540000   \n",
       "4             5945                        336.64103200  ...   0.25579000   \n",
       "\n",
       "  XRPUSDT Low XRPUSDT Close    XRPUSDT Volume XRPUSDT Close Time  \\\n",
       "0  0.25317000    0.25416000  2582458.60000000      1582651799999   \n",
       "1  0.25405000    0.25510000  3374949.80000000      1582652699999   \n",
       "2  0.25390000    0.25400000  1502698.30000000      1582653599999   \n",
       "3  0.25360000    0.25531000  1390103.10000000      1582654499999   \n",
       "4  0.25445000    0.25557000  1486367.00000000      1582655399999   \n",
       "\n",
       "  XRPUSDT Quote asset volume XRPUSDT n_trades  \\\n",
       "0            655949.11557500             1430   \n",
       "1            860244.23571500             1709   \n",
       "2            382313.76830900              901   \n",
       "3            353784.24953400              921   \n",
       "4            379158.28983800              982   \n",
       "\n",
       "  XRPUSDT Taker buy base asset volume XRPUSDT Taker buy quote asset volume  \\\n",
       "0                    1227817.90000000                      311883.14674200   \n",
       "1                    1944216.60000000                      495518.35579300   \n",
       "2                     672947.20000000                      171214.82959100   \n",
       "3                     943308.80000000                      240034.56379700   \n",
       "4                     606549.30000000                      154706.42501800   \n",
       "\n",
       "  XRPUSDT Ignore  \n",
       "0              0  \n",
       "1              0  \n",
       "2              0  \n",
       "3              0  \n",
       "4              0  \n",
       "\n",
       "[5 rows x 60 columns]"
      ]
     },
     "execution_count": 9,
     "metadata": {},
     "output_type": "execute_result"
    }
   ],
   "source": [
    "coins.head()"
   ]
  },
  {
   "cell_type": "code",
   "execution_count": 10,
   "metadata": {},
   "outputs": [],
   "source": [
    "\"\"\"\n",
    "USED TO CHECK IF THERE ARE ANY SUDDEN JUMPS IN THE TIMESTAMPS\n",
    "\"\"\"\n",
    "\n",
    "def test_time_skip(df, currencies):\n",
    "    diff = 0\n",
    "    df_len = len(df)\n",
    "    for i in range(0,df_len-1):\n",
    "        for currency in currencies:\n",
    "            if i == 0:\n",
    "                #get first time difference to compare with the rest\n",
    "                diff = df[currency+' Open Time'].iloc[i+1] - df[currency+' Open Time'].iloc[i]\n",
    "            if (df[currency+' Open Time'].iloc[i+1] - df[\n",
    "                    currency+' Open Time'].iloc[i] != diff):\n",
    "                print('Time difference: ',(df[currency+' Open Time'\n",
    "                                  ].iloc[i+1] - df[currency+' Open Time'].iloc[i]), currency)\n",
    "                print('time 1: ',df[currency+' Open Time'].iloc[i+1],i+1)\n",
    "                print('time 2: ',df[currency+' Open Time'].iloc[i],i)\n"
   ]
  },
  {
   "cell_type": "code",
   "execution_count": 11,
   "metadata": {},
   "outputs": [],
   "source": [
    "test_time_skip(coins,coin_list)"
   ]
  },
  {
   "cell_type": "markdown",
   "metadata": {},
   "source": [
    "There might some time jumps due to server downtime of binance upgrades etc..\n",
    "if we search for 9/2/2020 on google binance we can see there was a maintenance"
   ]
  },
  {
   "cell_type": "code",
   "execution_count": 12,
   "metadata": {},
   "outputs": [],
   "source": [
    "\"\"\"\n",
    "remove ignore column and repeated timestamp columns\n",
    "\"\"\"\n",
    "def clean_data(df, currencies):\n",
    "    coins['Timestamp'] = df[currencies[0]+' Close Time']\n",
    "    for currency in currencies:\n",
    "        df.drop(currency+' Ignore', axis=1, inplace=True)\n",
    "        df.drop([currency+' Open Time',\n",
    "                 currency+' Close Time'],\n",
    "                 axis=1, inplace=True)\n"
   ]
  },
  {
   "cell_type": "code",
   "execution_count": 13,
   "metadata": {},
   "outputs": [],
   "source": [
    "clean_data(coins, coin_list)"
   ]
  },
  {
   "cell_type": "code",
   "execution_count": 14,
   "metadata": {},
   "outputs": [],
   "source": [
    "coins['Timestamp'] = coins['Timestamp'].apply(\n",
    "    lambda x: datetime.fromtimestamp(int(x/1000)))"
   ]
  },
  {
   "cell_type": "code",
   "execution_count": 15,
   "metadata": {},
   "outputs": [
    {
     "name": "stdout",
     "output_type": "stream",
     "text": [
      "Data timeframe:\n",
      "From:   2020-03-01 23:14:59\n",
      "To      2020-02-25 18:29:59\n"
     ]
    }
   ],
   "source": [
    "print('Data timeframe:')\n",
    "print( 'From:  ',coins['Timestamp'].max())\n",
    "print( 'To     ',coins['Timestamp'].min())"
   ]
  },
  {
   "cell_type": "code",
   "execution_count": 16,
   "metadata": {},
   "outputs": [],
   "source": [
    "for i in coins.columns:\n",
    "    if i != 'Timestamp':\n",
    "        coins[i] = coins[i].astype(float)"
   ]
  },
  {
   "cell_type": "code",
   "execution_count": 17,
   "metadata": {},
   "outputs": [
    {
     "data": {
      "text/plain": [
       "<matplotlib.axes._subplots.AxesSubplot at 0x7fc30cd8b6a0>"
      ]
     },
     "execution_count": 17,
     "metadata": {},
     "output_type": "execute_result"
    },
    {
     "data": {
      "image/png": "[encoded data removed]",
      "text/plain": [
       "<Figure size 1152x576 with 1 Axes>"
      ]
     },
     "metadata": {},
     "output_type": "display_data"
    }
   ],
   "source": [
    "plt.figure(figsize=(16,8))\n",
    "coins['BTCUSDT Close'].iloc[:500].plot()"
   ]
  },
  {
   "cell_type": "code",
   "execution_count": 21,
   "metadata": {},
   "outputs": [],
   "source": [
    "SEQUENCE_LEN = 240\n",
    "FUTURE_PERIOD_PREDICT = 15\n",
    "RATIO_TO_PREDICT = 'BTCUSDT'"
   ]
  },
  {
   "cell_type": "code",
   "execution_count": 60,
   "metadata": {},
   "outputs": [],
   "source": [
    "def classify(current_price, future_price):\n",
    "    if future_price > (current_price + current_price*0.0125):\n",
    "        return 1\n",
    "    return 0"
   ]
  },
  {
   "cell_type": "code",
   "execution_count": 34,
   "metadata": {},
   "outputs": [],
   "source": [
    "coins['Future Value'] = coins['BTCUSDT Close'].shift(-FUTURE_PERIOD_PREDICT)"
   ]
  },
  {
   "cell_type": "code",
   "execution_count": 61,
   "metadata": {},
   "outputs": [],
   "source": [
    "coins['Target'] = list(map(classify, coins['BTCUSDT Close'], coins['Future Value']))"
   ]
  },
  {
   "cell_type": "code",
   "execution_count": 62,
   "metadata": {},
   "outputs": [
    {
     "data": {
      "text/plain": [
       "array([0, 1])"
      ]
     },
     "execution_count": 62,
     "metadata": {},
     "output_type": "execute_result"
    }
   ],
   "source": [
    "coins['Target'].unique()"
   ]
  },
  {
   "cell_type": "code",
   "execution_count": null,
   "metadata": {},
   "outputs": [],
   "source": []
  }
 ],
 "metadata": {
  "kernelspec": {
   "display_name": "Python 3",
   "language": "python",
   "name": "python3"
  },
  "language_info": {
   "codemirror_mode": {
    "name": "ipython",
    "version": 3
   },
   "file_extension": ".py",
   "mimetype": "text/x-python",
   "name": "python",
   "nbconvert_exporter": "python",
   "pygments_lexer": "ipython3",
   "version": "3.8.1"
  }
 },
 "nbformat": 4,
 "nbformat_minor": 4
}
