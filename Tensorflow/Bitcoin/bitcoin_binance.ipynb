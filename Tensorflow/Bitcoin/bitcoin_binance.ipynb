{
 "cells": [
  {
   "cell_type": "code",
   "execution_count": 1,
   "metadata": {},
   "outputs": [],
   "source": [
    "import numpy as np\n",
    "import pandas as pd\n",
    "import matplotlib.pyplot as plt\n",
    "import seaborn as sns\n",
    "from datetime import datetime"
   ]
  },
  {
   "cell_type": "code",
   "execution_count": 2,
   "metadata": {},
   "outputs": [],
   "source": [
    "%matplotlib inline\n",
    "sns.set_style(style='whitegrid')"
   ]
  },
  {
   "cell_type": "code",
   "execution_count": 3,
   "metadata": {},
   "outputs": [],
   "source": [
    "import bin_keys\n",
    "from binance.client import Client"
   ]
  },
  {
   "cell_type": "code",
   "execution_count": 4,
   "metadata": {},
   "outputs": [],
   "source": [
    "client = Client(api_key=bin_keys.apiKey, api_secret=bin_keys.secretKey)"
   ]
  },
  {
   "cell_type": "code",
   "execution_count": 5,
   "metadata": {},
   "outputs": [],
   "source": [
    "candles = client.get_klines(symbol='LTCUSDT', interval=Client.KLINE_INTERVAL_1MINUTE, limit=2000)"
   ]
  },
  {
   "cell_type": "code",
   "execution_count": 6,
   "metadata": {},
   "outputs": [],
   "source": [
    "columns = ['Open Time', 'Open', 'High', 'Low', 'Close',\n",
    "            'Volume', 'Close Time', 'Quote asset volume', \n",
    "            'n_trades', 'Taker buy base asset volume', \n",
    "            'Taker buy quote asset volume', 'Ignore']"
   ]
  },
  {
   "cell_type": "code",
   "execution_count": 7,
   "metadata": {},
   "outputs": [],
   "source": [
    "ltc_usdt_df = pd.DataFrame(candles, columns=columns)"
   ]
  },
  {
   "cell_type": "code",
   "execution_count": 8,
   "metadata": {},
   "outputs": [
    {
     "data": {
      "text/html": [
       "<div>\n",
       "<style scoped>\n",
       "    .dataframe tbody tr th:only-of-type {\n",
       "        vertical-align: middle;\n",
       "    }\n",
       "\n",
       "    .dataframe tbody tr th {\n",
       "        vertical-align: top;\n",
       "    }\n",
       "\n",
       "    .dataframe thead th {\n",
       "        text-align: right;\n",
       "    }\n",
       "</style>\n",
       "<table border=\"1\" class=\"dataframe\">\n",
       "  <thead>\n",
       "    <tr style=\"text-align: right;\">\n",
       "      <th></th>\n",
       "      <th>Open Time</th>\n",
       "      <th>Open</th>\n",
       "      <th>High</th>\n",
       "      <th>Low</th>\n",
       "      <th>Close</th>\n",
       "      <th>Volume</th>\n",
       "      <th>Close Time</th>\n",
       "      <th>Quote asset volume</th>\n",
       "      <th>n_trades</th>\n",
       "      <th>Taker buy base asset volume</th>\n",
       "      <th>Taker buy quote asset volume</th>\n",
       "      <th>Ignore</th>\n",
       "    </tr>\n",
       "  </thead>\n",
       "  <tbody>\n",
       "    <tr>\n",
       "      <th>0</th>\n",
       "      <td>1582929540000</td>\n",
       "      <td>60.26000000</td>\n",
       "      <td>60.34000000</td>\n",
       "      <td>60.25000000</td>\n",
       "      <td>60.29000000</td>\n",
       "      <td>533.74720000</td>\n",
       "      <td>1582929599999</td>\n",
       "      <td>32185.51656320</td>\n",
       "      <td>141</td>\n",
       "      <td>478.45478000</td>\n",
       "      <td>28852.02915970</td>\n",
       "      <td>0</td>\n",
       "    </tr>\n",
       "    <tr>\n",
       "      <th>1</th>\n",
       "      <td>1582929600000</td>\n",
       "      <td>60.32000000</td>\n",
       "      <td>60.42000000</td>\n",
       "      <td>60.30000000</td>\n",
       "      <td>60.42000000</td>\n",
       "      <td>511.21730000</td>\n",
       "      <td>1582929659999</td>\n",
       "      <td>30867.02726740</td>\n",
       "      <td>165</td>\n",
       "      <td>385.90142000</td>\n",
       "      <td>23301.12160630</td>\n",
       "      <td>0</td>\n",
       "    </tr>\n",
       "    <tr>\n",
       "      <th>2</th>\n",
       "      <td>1582929660000</td>\n",
       "      <td>60.40000000</td>\n",
       "      <td>60.43000000</td>\n",
       "      <td>60.32000000</td>\n",
       "      <td>60.35000000</td>\n",
       "      <td>284.04923000</td>\n",
       "      <td>1582929719999</td>\n",
       "      <td>17146.87510010</td>\n",
       "      <td>74</td>\n",
       "      <td>156.74457000</td>\n",
       "      <td>9463.93841160</td>\n",
       "      <td>0</td>\n",
       "    </tr>\n",
       "    <tr>\n",
       "      <th>3</th>\n",
       "      <td>1582929720000</td>\n",
       "      <td>60.35000000</td>\n",
       "      <td>60.39000000</td>\n",
       "      <td>60.29000000</td>\n",
       "      <td>60.39000000</td>\n",
       "      <td>163.07259000</td>\n",
       "      <td>1582929779999</td>\n",
       "      <td>9836.22396530</td>\n",
       "      <td>91</td>\n",
       "      <td>71.59456000</td>\n",
       "      <td>4319.97480640</td>\n",
       "      <td>0</td>\n",
       "    </tr>\n",
       "    <tr>\n",
       "      <th>4</th>\n",
       "      <td>1582929780000</td>\n",
       "      <td>60.39000000</td>\n",
       "      <td>60.48000000</td>\n",
       "      <td>60.36000000</td>\n",
       "      <td>60.45000000</td>\n",
       "      <td>434.31424000</td>\n",
       "      <td>1582929839999</td>\n",
       "      <td>26255.40850970</td>\n",
       "      <td>159</td>\n",
       "      <td>377.24694000</td>\n",
       "      <td>22807.87605810</td>\n",
       "      <td>0</td>\n",
       "    </tr>\n",
       "  </tbody>\n",
       "</table>\n",
       "</div>"
      ],
      "text/plain": [
       "       Open Time         Open         High          Low        Close  \\\n",
       "0  1582929540000  60.26000000  60.34000000  60.25000000  60.29000000   \n",
       "1  1582929600000  60.32000000  60.42000000  60.30000000  60.42000000   \n",
       "2  1582929660000  60.40000000  60.43000000  60.32000000  60.35000000   \n",
       "3  1582929720000  60.35000000  60.39000000  60.29000000  60.39000000   \n",
       "4  1582929780000  60.39000000  60.48000000  60.36000000  60.45000000   \n",
       "\n",
       "         Volume     Close Time Quote asset volume  n_trades  \\\n",
       "0  533.74720000  1582929599999     32185.51656320       141   \n",
       "1  511.21730000  1582929659999     30867.02726740       165   \n",
       "2  284.04923000  1582929719999     17146.87510010        74   \n",
       "3  163.07259000  1582929779999      9836.22396530        91   \n",
       "4  434.31424000  1582929839999     26255.40850970       159   \n",
       "\n",
       "  Taker buy base asset volume Taker buy quote asset volume Ignore  \n",
       "0                478.45478000               28852.02915970      0  \n",
       "1                385.90142000               23301.12160630      0  \n",
       "2                156.74457000                9463.93841160      0  \n",
       "3                 71.59456000                4319.97480640      0  \n",
       "4                377.24694000               22807.87605810      0  "
      ]
     },
     "execution_count": 8,
     "metadata": {},
     "output_type": "execute_result"
    }
   ],
   "source": [
    "ltc_usdt_df.head()"
   ]
  },
  {
   "cell_type": "code",
   "execution_count": 9,
   "metadata": {},
   "outputs": [
    {
     "name": "stdout",
     "output_type": "stream",
     "text": [
      "<class 'pandas.core.frame.DataFrame'>\n",
      "RangeIndex: 1000 entries, 0 to 999\n",
      "Data columns (total 12 columns):\n",
      " #   Column                        Non-Null Count  Dtype \n",
      "---  ------                        --------------  ----- \n",
      " 0   Open Time                     1000 non-null   int64 \n",
      " 1   Open                          1000 non-null   object\n",
      " 2   High                          1000 non-null   object\n",
      " 3   Low                           1000 non-null   object\n",
      " 4   Close                         1000 non-null   object\n",
      " 5   Volume                        1000 non-null   object\n",
      " 6   Close Time                    1000 non-null   int64 \n",
      " 7   Quote asset volume            1000 non-null   object\n",
      " 8   n_trades                      1000 non-null   int64 \n",
      " 9   Taker buy base asset volume   1000 non-null   object\n",
      " 10  Taker buy quote asset volume  1000 non-null   object\n",
      " 11  Ignore                        1000 non-null   object\n",
      "dtypes: int64(3), object(9)\n",
      "memory usage: 93.9+ KB\n"
     ]
    }
   ],
   "source": [
    "ltc_usdt_df.info()"
   ]
  },
  {
   "cell_type": "code",
   "execution_count": 10,
   "metadata": {},
   "outputs": [],
   "source": [
    "ltc_usdt_df[['Open','Close', 'High','Low', 'Volume', 'Quote asset volume', \n",
    "            'Taker buy base asset volume', 'Taker buy quote asset volume'\n",
    "           ]] = ltc_usdt_df[['Open','Close', 'High','Low', 'Volume', 'Quote asset volume', \n",
    "            'Taker buy base asset volume', 'Taker buy quote asset volume']].astype(float)"
   ]
  },
  {
   "cell_type": "code",
   "execution_count": 11,
   "metadata": {},
   "outputs": [
    {
     "name": "stdout",
     "output_type": "stream",
     "text": [
      "<class 'pandas.core.frame.DataFrame'>\n",
      "RangeIndex: 1000 entries, 0 to 999\n",
      "Data columns (total 12 columns):\n",
      " #   Column                        Non-Null Count  Dtype  \n",
      "---  ------                        --------------  -----  \n",
      " 0   Open Time                     1000 non-null   int64  \n",
      " 1   Open                          1000 non-null   float64\n",
      " 2   High                          1000 non-null   float64\n",
      " 3   Low                           1000 non-null   float64\n",
      " 4   Close                         1000 non-null   float64\n",
      " 5   Volume                        1000 non-null   float64\n",
      " 6   Close Time                    1000 non-null   int64  \n",
      " 7   Quote asset volume            1000 non-null   float64\n",
      " 8   n_trades                      1000 non-null   int64  \n",
      " 9   Taker buy base asset volume   1000 non-null   float64\n",
      " 10  Taker buy quote asset volume  1000 non-null   float64\n",
      " 11  Ignore                        1000 non-null   object \n",
      "dtypes: float64(8), int64(3), object(1)\n",
      "memory usage: 93.9+ KB\n"
     ]
    }
   ],
   "source": [
    "ltc_usdt_df.info()"
   ]
  },
  {
   "cell_type": "code",
   "execution_count": 12,
   "metadata": {},
   "outputs": [],
   "source": [
    "ltc_usdt_df['Close Time'] = ltc_usdt_df['Close Time'].apply(\n",
    "    lambda x: datetime.fromtimestamp(int(x/1000)))"
   ]
  },
  {
   "cell_type": "code",
   "execution_count": 13,
   "metadata": {},
   "outputs": [],
   "source": [
    "ltc_usdt_df['Open Time'] = ltc_usdt_df['Open Time'].apply(\n",
    "    lambda x: datetime.fromtimestamp(int(x/1000)))"
   ]
  },
  {
   "cell_type": "code",
   "execution_count": 14,
   "metadata": {},
   "outputs": [
    {
     "data": {
      "text/html": [
       "<div>\n",
       "<style scoped>\n",
       "    .dataframe tbody tr th:only-of-type {\n",
       "        vertical-align: middle;\n",
       "    }\n",
       "\n",
       "    .dataframe tbody tr th {\n",
       "        vertical-align: top;\n",
       "    }\n",
       "\n",
       "    .dataframe thead th {\n",
       "        text-align: right;\n",
       "    }\n",
       "</style>\n",
       "<table border=\"1\" class=\"dataframe\">\n",
       "  <thead>\n",
       "    <tr style=\"text-align: right;\">\n",
       "      <th></th>\n",
       "      <th>Open Time</th>\n",
       "      <th>Open</th>\n",
       "      <th>High</th>\n",
       "      <th>Low</th>\n",
       "      <th>Close</th>\n",
       "      <th>Volume</th>\n",
       "      <th>Close Time</th>\n",
       "      <th>Quote asset volume</th>\n",
       "      <th>n_trades</th>\n",
       "      <th>Taker buy base asset volume</th>\n",
       "      <th>Taker buy quote asset volume</th>\n",
       "      <th>Ignore</th>\n",
       "    </tr>\n",
       "  </thead>\n",
       "  <tbody>\n",
       "    <tr>\n",
       "      <th>0</th>\n",
       "      <td>2020-02-28 23:39:00</td>\n",
       "      <td>60.26</td>\n",
       "      <td>60.34</td>\n",
       "      <td>60.25</td>\n",
       "      <td>60.29</td>\n",
       "      <td>533.74720</td>\n",
       "      <td>2020-02-28 23:39:59</td>\n",
       "      <td>32185.516563</td>\n",
       "      <td>141</td>\n",
       "      <td>478.45478</td>\n",
       "      <td>28852.029160</td>\n",
       "      <td>0</td>\n",
       "    </tr>\n",
       "    <tr>\n",
       "      <th>1</th>\n",
       "      <td>2020-02-28 23:40:00</td>\n",
       "      <td>60.32</td>\n",
       "      <td>60.42</td>\n",
       "      <td>60.30</td>\n",
       "      <td>60.42</td>\n",
       "      <td>511.21730</td>\n",
       "      <td>2020-02-28 23:40:59</td>\n",
       "      <td>30867.027267</td>\n",
       "      <td>165</td>\n",
       "      <td>385.90142</td>\n",
       "      <td>23301.121606</td>\n",
       "      <td>0</td>\n",
       "    </tr>\n",
       "    <tr>\n",
       "      <th>2</th>\n",
       "      <td>2020-02-28 23:41:00</td>\n",
       "      <td>60.40</td>\n",
       "      <td>60.43</td>\n",
       "      <td>60.32</td>\n",
       "      <td>60.35</td>\n",
       "      <td>284.04923</td>\n",
       "      <td>2020-02-28 23:41:59</td>\n",
       "      <td>17146.875100</td>\n",
       "      <td>74</td>\n",
       "      <td>156.74457</td>\n",
       "      <td>9463.938412</td>\n",
       "      <td>0</td>\n",
       "    </tr>\n",
       "    <tr>\n",
       "      <th>3</th>\n",
       "      <td>2020-02-28 23:42:00</td>\n",
       "      <td>60.35</td>\n",
       "      <td>60.39</td>\n",
       "      <td>60.29</td>\n",
       "      <td>60.39</td>\n",
       "      <td>163.07259</td>\n",
       "      <td>2020-02-28 23:42:59</td>\n",
       "      <td>9836.223965</td>\n",
       "      <td>91</td>\n",
       "      <td>71.59456</td>\n",
       "      <td>4319.974806</td>\n",
       "      <td>0</td>\n",
       "    </tr>\n",
       "    <tr>\n",
       "      <th>4</th>\n",
       "      <td>2020-02-28 23:43:00</td>\n",
       "      <td>60.39</td>\n",
       "      <td>60.48</td>\n",
       "      <td>60.36</td>\n",
       "      <td>60.45</td>\n",
       "      <td>434.31424</td>\n",
       "      <td>2020-02-28 23:43:59</td>\n",
       "      <td>26255.408510</td>\n",
       "      <td>159</td>\n",
       "      <td>377.24694</td>\n",
       "      <td>22807.876058</td>\n",
       "      <td>0</td>\n",
       "    </tr>\n",
       "  </tbody>\n",
       "</table>\n",
       "</div>"
      ],
      "text/plain": [
       "            Open Time   Open   High    Low  Close     Volume  \\\n",
       "0 2020-02-28 23:39:00  60.26  60.34  60.25  60.29  533.74720   \n",
       "1 2020-02-28 23:40:00  60.32  60.42  60.30  60.42  511.21730   \n",
       "2 2020-02-28 23:41:00  60.40  60.43  60.32  60.35  284.04923   \n",
       "3 2020-02-28 23:42:00  60.35  60.39  60.29  60.39  163.07259   \n",
       "4 2020-02-28 23:43:00  60.39  60.48  60.36  60.45  434.31424   \n",
       "\n",
       "           Close Time  Quote asset volume  n_trades  \\\n",
       "0 2020-02-28 23:39:59        32185.516563       141   \n",
       "1 2020-02-28 23:40:59        30867.027267       165   \n",
       "2 2020-02-28 23:41:59        17146.875100        74   \n",
       "3 2020-02-28 23:42:59         9836.223965        91   \n",
       "4 2020-02-28 23:43:59        26255.408510       159   \n",
       "\n",
       "   Taker buy base asset volume  Taker buy quote asset volume Ignore  \n",
       "0                    478.45478                  28852.029160      0  \n",
       "1                    385.90142                  23301.121606      0  \n",
       "2                    156.74457                   9463.938412      0  \n",
       "3                     71.59456                   4319.974806      0  \n",
       "4                    377.24694                  22807.876058      0  "
      ]
     },
     "execution_count": 14,
     "metadata": {},
     "output_type": "execute_result"
    }
   ],
   "source": [
    "ltc_usdt_df.head()"
   ]
  },
  {
   "cell_type": "code",
   "execution_count": 15,
   "metadata": {},
   "outputs": [
    {
     "data": {
      "text/plain": [
       "numpy.datetime64('2020-02-29T16:18:00.000000000')"
      ]
     },
     "execution_count": 15,
     "metadata": {},
     "output_type": "execute_result"
    }
   ],
   "source": [
    "ltc_usdt_df['Open Time'].unique().max()"
   ]
  },
  {
   "cell_type": "code",
   "execution_count": 16,
   "metadata": {},
   "outputs": [
    {
     "data": {
      "text/plain": [
       "numpy.datetime64('2020-02-28T23:39:00.000000000')"
      ]
     },
     "execution_count": 16,
     "metadata": {},
     "output_type": "execute_result"
    }
   ],
   "source": [
    "ltc_usdt_df['Open Time'].unique().min()"
   ]
  },
  {
   "cell_type": "code",
   "execution_count": null,
   "metadata": {},
   "outputs": [],
   "source": []
  }
 ],
 "metadata": {
  "kernelspec": {
   "display_name": "Python 3",
   "language": "python",
   "name": "python3"
  },
  "language_info": {
   "codemirror_mode": {
    "name": "ipython",
    "version": 3
   },
   "file_extension": ".py",
   "mimetype": "text/x-python",
   "name": "python",
   "nbconvert_exporter": "python",
   "pygments_lexer": "ipython3",
   "version": "3.8.1"
  }
 },
 "nbformat": 4,
 "nbformat_minor": 4
}
