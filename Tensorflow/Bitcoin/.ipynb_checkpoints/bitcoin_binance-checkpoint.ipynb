{
 "cells": [
  {
   "cell_type": "code",
   "execution_count": 1,
   "metadata": {},
   "outputs": [],
   "source": [
    "import numpy as np\n",
    "import pandas as pd\n",
    "import matplotlib.pyplot as plt\n",
    "import seaborn as sns\n",
    "from datetime import datetime, timedelta"
   ]
  },
  {
   "cell_type": "code",
   "execution_count": 2,
   "metadata": {},
   "outputs": [],
   "source": [
    "%matplotlib inline\n",
    "sns.set_style(style='whitegrid')"
   ]
  },
  {
   "cell_type": "code",
   "execution_count": 125,
   "metadata": {},
   "outputs": [],
   "source": [
    "from keys import keys\n",
    "from binance.client import Client"
   ]
  },
  {
   "cell_type": "code",
   "execution_count": 126,
   "metadata": {},
   "outputs": [],
   "source": [
    "DIFF_INTERVAL_5MIN = 300000\n",
    "interval_5min = { 'interval' : Client.KLINE_INTERVAL_5MINUTE,\n",
    "                    'interval_diff': 300000 }"
   ]
  },
  {
   "cell_type": "code",
   "execution_count": 4,
   "metadata": {},
   "outputs": [],
   "source": [
    "client = Client(api_key=keys.apiKey, api_secret=keys.secretKey)"
   ]
  },
  {
   "cell_type": "code",
   "execution_count": 5,
   "metadata": {},
   "outputs": [],
   "source": [
    "ltc_usdt = client.get_klines(symbol='LTCUSDT', \n",
    "                             interval=Client.KLINE_INTERVAL_5MINUTE)"
   ]
  },
  {
   "cell_type": "code",
   "execution_count": 6,
   "metadata": {},
   "outputs": [],
   "source": [
    "columns = ['Open Time', 'Open', 'High', 'Low', 'Close',\n",
    "            'Volume', 'Close Time', 'Quote asset volume', \n",
    "            'n_trades', 'Taker buy base asset volume', \n",
    "            'Taker buy quote asset volume', 'Ignore']"
   ]
  },
  {
   "cell_type": "code",
   "execution_count": 7,
   "metadata": {},
   "outputs": [],
   "source": [
    "ltc_usdt_df = pd.DataFrame(ltc_usdt, columns=columns)"
   ]
  },
  {
   "cell_type": "code",
   "execution_count": 8,
   "metadata": {},
   "outputs": [
    {
     "data": {
      "text/html": [
       "<div>\n",
       "<style scoped>\n",
       "    .dataframe tbody tr th:only-of-type {\n",
       "        vertical-align: middle;\n",
       "    }\n",
       "\n",
       "    .dataframe tbody tr th {\n",
       "        vertical-align: top;\n",
       "    }\n",
       "\n",
       "    .dataframe thead th {\n",
       "        text-align: right;\n",
       "    }\n",
       "</style>\n",
       "<table border=\"1\" class=\"dataframe\">\n",
       "  <thead>\n",
       "    <tr style=\"text-align: right;\">\n",
       "      <th></th>\n",
       "      <th>Open Time</th>\n",
       "      <th>Open</th>\n",
       "      <th>High</th>\n",
       "      <th>Low</th>\n",
       "      <th>Close</th>\n",
       "      <th>Volume</th>\n",
       "      <th>Close Time</th>\n",
       "      <th>Quote asset volume</th>\n",
       "      <th>n_trades</th>\n",
       "      <th>Taker buy base asset volume</th>\n",
       "      <th>Taker buy quote asset volume</th>\n",
       "      <th>Ignore</th>\n",
       "    </tr>\n",
       "  </thead>\n",
       "  <tbody>\n",
       "    <tr>\n",
       "      <th>0</th>\n",
       "      <td>1582846200000</td>\n",
       "      <td>61.85000000</td>\n",
       "      <td>61.86000000</td>\n",
       "      <td>61.22000000</td>\n",
       "      <td>61.43000000</td>\n",
       "      <td>3134.40328000</td>\n",
       "      <td>1582846499999</td>\n",
       "      <td>192567.96110640</td>\n",
       "      <td>638</td>\n",
       "      <td>1128.18231000</td>\n",
       "      <td>69294.54475340</td>\n",
       "      <td>0</td>\n",
       "    </tr>\n",
       "    <tr>\n",
       "      <th>1</th>\n",
       "      <td>1582846500000</td>\n",
       "      <td>61.47000000</td>\n",
       "      <td>61.51000000</td>\n",
       "      <td>61.25000000</td>\n",
       "      <td>61.28000000</td>\n",
       "      <td>2051.01024000</td>\n",
       "      <td>1582846799999</td>\n",
       "      <td>125866.68221490</td>\n",
       "      <td>249</td>\n",
       "      <td>851.68926000</td>\n",
       "      <td>52251.98470320</td>\n",
       "      <td>0</td>\n",
       "    </tr>\n",
       "    <tr>\n",
       "      <th>2</th>\n",
       "      <td>1582846800000</td>\n",
       "      <td>61.27000000</td>\n",
       "      <td>61.57000000</td>\n",
       "      <td>61.27000000</td>\n",
       "      <td>61.47000000</td>\n",
       "      <td>1699.04378000</td>\n",
       "      <td>1582847099999</td>\n",
       "      <td>104366.01934010</td>\n",
       "      <td>307</td>\n",
       "      <td>726.49384000</td>\n",
       "      <td>44613.53734150</td>\n",
       "      <td>0</td>\n",
       "    </tr>\n",
       "    <tr>\n",
       "      <th>3</th>\n",
       "      <td>1582847100000</td>\n",
       "      <td>61.49000000</td>\n",
       "      <td>61.58000000</td>\n",
       "      <td>61.32000000</td>\n",
       "      <td>61.39000000</td>\n",
       "      <td>1954.41476000</td>\n",
       "      <td>1582847399999</td>\n",
       "      <td>120072.29026330</td>\n",
       "      <td>232</td>\n",
       "      <td>966.39689000</td>\n",
       "      <td>59373.79260670</td>\n",
       "      <td>0</td>\n",
       "    </tr>\n",
       "    <tr>\n",
       "      <th>4</th>\n",
       "      <td>1582847400000</td>\n",
       "      <td>61.36000000</td>\n",
       "      <td>61.41000000</td>\n",
       "      <td>61.04000000</td>\n",
       "      <td>61.22000000</td>\n",
       "      <td>4310.04460000</td>\n",
       "      <td>1582847699999</td>\n",
       "      <td>263867.45743890</td>\n",
       "      <td>470</td>\n",
       "      <td>1408.36933000</td>\n",
       "      <td>86245.55449310</td>\n",
       "      <td>0</td>\n",
       "    </tr>\n",
       "  </tbody>\n",
       "</table>\n",
       "</div>"
      ],
      "text/plain": [
       "       Open Time         Open         High          Low        Close  \\\n",
       "0  1582846200000  61.85000000  61.86000000  61.22000000  61.43000000   \n",
       "1  1582846500000  61.47000000  61.51000000  61.25000000  61.28000000   \n",
       "2  1582846800000  61.27000000  61.57000000  61.27000000  61.47000000   \n",
       "3  1582847100000  61.49000000  61.58000000  61.32000000  61.39000000   \n",
       "4  1582847400000  61.36000000  61.41000000  61.04000000  61.22000000   \n",
       "\n",
       "          Volume     Close Time Quote asset volume  n_trades  \\\n",
       "0  3134.40328000  1582846499999    192567.96110640       638   \n",
       "1  2051.01024000  1582846799999    125866.68221490       249   \n",
       "2  1699.04378000  1582847099999    104366.01934010       307   \n",
       "3  1954.41476000  1582847399999    120072.29026330       232   \n",
       "4  4310.04460000  1582847699999    263867.45743890       470   \n",
       "\n",
       "  Taker buy base asset volume Taker buy quote asset volume Ignore  \n",
       "0               1128.18231000               69294.54475340      0  \n",
       "1                851.68926000               52251.98470320      0  \n",
       "2                726.49384000               44613.53734150      0  \n",
       "3                966.39689000               59373.79260670      0  \n",
       "4               1408.36933000               86245.55449310      0  "
      ]
     },
     "execution_count": 8,
     "metadata": {},
     "output_type": "execute_result"
    }
   ],
   "source": [
    "ltc_usdt_df.head()"
   ]
  },
  {
   "cell_type": "code",
   "execution_count": 9,
   "metadata": {},
   "outputs": [
    {
     "name": "stdout",
     "output_type": "stream",
     "text": [
      "<class 'pandas.core.frame.DataFrame'>\n",
      "RangeIndex: 500 entries, 0 to 499\n",
      "Data columns (total 12 columns):\n",
      " #   Column                        Non-Null Count  Dtype \n",
      "---  ------                        --------------  ----- \n",
      " 0   Open Time                     500 non-null    int64 \n",
      " 1   Open                          500 non-null    object\n",
      " 2   High                          500 non-null    object\n",
      " 3   Low                           500 non-null    object\n",
      " 4   Close                         500 non-null    object\n",
      " 5   Volume                        500 non-null    object\n",
      " 6   Close Time                    500 non-null    int64 \n",
      " 7   Quote asset volume            500 non-null    object\n",
      " 8   n_trades                      500 non-null    int64 \n",
      " 9   Taker buy base asset volume   500 non-null    object\n",
      " 10  Taker buy quote asset volume  500 non-null    object\n",
      " 11  Ignore                        500 non-null    object\n",
      "dtypes: int64(3), object(9)\n",
      "memory usage: 47.0+ KB\n"
     ]
    }
   ],
   "source": [
    "ltc_usdt_df.info()"
   ]
  },
  {
   "cell_type": "code",
   "execution_count": 10,
   "metadata": {},
   "outputs": [],
   "source": [
    "ltc_usdt_df[['Open','Close', 'High','Low', 'Volume', 'Quote asset volume', \n",
    "            'Taker buy base asset volume', 'Taker buy quote asset volume'\n",
    "           ]] = ltc_usdt_df[['Open','Close', 'High','Low', 'Volume', 'Quote asset volume', \n",
    "            'Taker buy base asset volume', 'Taker buy quote asset volume']].astype(float)"
   ]
  },
  {
   "cell_type": "code",
   "execution_count": 11,
   "metadata": {},
   "outputs": [
    {
     "name": "stdout",
     "output_type": "stream",
     "text": [
      "<class 'pandas.core.frame.DataFrame'>\n",
      "RangeIndex: 500 entries, 0 to 499\n",
      "Data columns (total 12 columns):\n",
      " #   Column                        Non-Null Count  Dtype  \n",
      "---  ------                        --------------  -----  \n",
      " 0   Open Time                     500 non-null    int64  \n",
      " 1   Open                          500 non-null    float64\n",
      " 2   High                          500 non-null    float64\n",
      " 3   Low                           500 non-null    float64\n",
      " 4   Close                         500 non-null    float64\n",
      " 5   Volume                        500 non-null    float64\n",
      " 6   Close Time                    500 non-null    int64  \n",
      " 7   Quote asset volume            500 non-null    float64\n",
      " 8   n_trades                      500 non-null    int64  \n",
      " 9   Taker buy base asset volume   500 non-null    float64\n",
      " 10  Taker buy quote asset volume  500 non-null    float64\n",
      " 11  Ignore                        500 non-null    object \n",
      "dtypes: float64(8), int64(3), object(1)\n",
      "memory usage: 47.0+ KB\n"
     ]
    }
   ],
   "source": [
    "ltc_usdt_df.info()"
   ]
  },
  {
   "cell_type": "code",
   "execution_count": 12,
   "metadata": {},
   "outputs": [
    {
     "data": {
      "text/plain": [
       "\"\\nltc_usdt_df['Close Time'] = ltc_usdt_df['Close Time'].apply(\\n    lambda x: datetime.fromtimestamp(int(x/1000)))\\nltc_usdt_df['Open Time'] = ltc_usdt_df['Open Time'].apply(\\n    lambda x: datetime.fromtimestamp(int(x/1000)))\\n\""
      ]
     },
     "execution_count": 12,
     "metadata": {},
     "output_type": "execute_result"
    }
   ],
   "source": [
    "\"\"\"\n",
    "ltc_usdt_df['Close Time'] = ltc_usdt_df['Close Time'].apply(\n",
    "    lambda x: datetime.fromtimestamp(int(x/1000)))\n",
    "ltc_usdt_df['Open Time'] = ltc_usdt_df['Open Time'].apply(\n",
    "    lambda x: datetime.fromtimestamp(int(x/1000)))\n",
    "\"\"\""
   ]
  },
  {
   "cell_type": "code",
   "execution_count": 13,
   "metadata": {},
   "outputs": [
    {
     "data": {
      "text/html": [
       "<div>\n",
       "<style scoped>\n",
       "    .dataframe tbody tr th:only-of-type {\n",
       "        vertical-align: middle;\n",
       "    }\n",
       "\n",
       "    .dataframe tbody tr th {\n",
       "        vertical-align: top;\n",
       "    }\n",
       "\n",
       "    .dataframe thead th {\n",
       "        text-align: right;\n",
       "    }\n",
       "</style>\n",
       "<table border=\"1\" class=\"dataframe\">\n",
       "  <thead>\n",
       "    <tr style=\"text-align: right;\">\n",
       "      <th></th>\n",
       "      <th>Open Time</th>\n",
       "      <th>Open</th>\n",
       "      <th>High</th>\n",
       "      <th>Low</th>\n",
       "      <th>Close</th>\n",
       "      <th>Volume</th>\n",
       "      <th>Close Time</th>\n",
       "      <th>Quote asset volume</th>\n",
       "      <th>n_trades</th>\n",
       "      <th>Taker buy base asset volume</th>\n",
       "      <th>Taker buy quote asset volume</th>\n",
       "      <th>Ignore</th>\n",
       "    </tr>\n",
       "  </thead>\n",
       "  <tbody>\n",
       "    <tr>\n",
       "      <th>0</th>\n",
       "      <td>1582846200000</td>\n",
       "      <td>61.85</td>\n",
       "      <td>61.86</td>\n",
       "      <td>61.22</td>\n",
       "      <td>61.43</td>\n",
       "      <td>3134.40328</td>\n",
       "      <td>1582846499999</td>\n",
       "      <td>192567.961106</td>\n",
       "      <td>638</td>\n",
       "      <td>1128.18231</td>\n",
       "      <td>69294.544753</td>\n",
       "      <td>0</td>\n",
       "    </tr>\n",
       "    <tr>\n",
       "      <th>1</th>\n",
       "      <td>1582846500000</td>\n",
       "      <td>61.47</td>\n",
       "      <td>61.51</td>\n",
       "      <td>61.25</td>\n",
       "      <td>61.28</td>\n",
       "      <td>2051.01024</td>\n",
       "      <td>1582846799999</td>\n",
       "      <td>125866.682215</td>\n",
       "      <td>249</td>\n",
       "      <td>851.68926</td>\n",
       "      <td>52251.984703</td>\n",
       "      <td>0</td>\n",
       "    </tr>\n",
       "    <tr>\n",
       "      <th>2</th>\n",
       "      <td>1582846800000</td>\n",
       "      <td>61.27</td>\n",
       "      <td>61.57</td>\n",
       "      <td>61.27</td>\n",
       "      <td>61.47</td>\n",
       "      <td>1699.04378</td>\n",
       "      <td>1582847099999</td>\n",
       "      <td>104366.019340</td>\n",
       "      <td>307</td>\n",
       "      <td>726.49384</td>\n",
       "      <td>44613.537341</td>\n",
       "      <td>0</td>\n",
       "    </tr>\n",
       "    <tr>\n",
       "      <th>3</th>\n",
       "      <td>1582847100000</td>\n",
       "      <td>61.49</td>\n",
       "      <td>61.58</td>\n",
       "      <td>61.32</td>\n",
       "      <td>61.39</td>\n",
       "      <td>1954.41476</td>\n",
       "      <td>1582847399999</td>\n",
       "      <td>120072.290263</td>\n",
       "      <td>232</td>\n",
       "      <td>966.39689</td>\n",
       "      <td>59373.792607</td>\n",
       "      <td>0</td>\n",
       "    </tr>\n",
       "    <tr>\n",
       "      <th>4</th>\n",
       "      <td>1582847400000</td>\n",
       "      <td>61.36</td>\n",
       "      <td>61.41</td>\n",
       "      <td>61.04</td>\n",
       "      <td>61.22</td>\n",
       "      <td>4310.04460</td>\n",
       "      <td>1582847699999</td>\n",
       "      <td>263867.457439</td>\n",
       "      <td>470</td>\n",
       "      <td>1408.36933</td>\n",
       "      <td>86245.554493</td>\n",
       "      <td>0</td>\n",
       "    </tr>\n",
       "  </tbody>\n",
       "</table>\n",
       "</div>"
      ],
      "text/plain": [
       "       Open Time   Open   High    Low  Close      Volume     Close Time  \\\n",
       "0  1582846200000  61.85  61.86  61.22  61.43  3134.40328  1582846499999   \n",
       "1  1582846500000  61.47  61.51  61.25  61.28  2051.01024  1582846799999   \n",
       "2  1582846800000  61.27  61.57  61.27  61.47  1699.04378  1582847099999   \n",
       "3  1582847100000  61.49  61.58  61.32  61.39  1954.41476  1582847399999   \n",
       "4  1582847400000  61.36  61.41  61.04  61.22  4310.04460  1582847699999   \n",
       "\n",
       "   Quote asset volume  n_trades  Taker buy base asset volume  \\\n",
       "0       192567.961106       638                   1128.18231   \n",
       "1       125866.682215       249                    851.68926   \n",
       "2       104366.019340       307                    726.49384   \n",
       "3       120072.290263       232                    966.39689   \n",
       "4       263867.457439       470                   1408.36933   \n",
       "\n",
       "   Taker buy quote asset volume Ignore  \n",
       "0                  69294.544753      0  \n",
       "1                  52251.984703      0  \n",
       "2                  44613.537341      0  \n",
       "3                  59373.792607      0  \n",
       "4                  86245.554493      0  "
      ]
     },
     "execution_count": 13,
     "metadata": {},
     "output_type": "execute_result"
    }
   ],
   "source": [
    "ltc_usdt_df.head()"
   ]
  },
  {
   "cell_type": "code",
   "execution_count": 127,
   "metadata": {},
   "outputs": [],
   "source": [
    "\n",
    "ltc_usdt2 = client.get_klines(symbol='LTCUSDT', \n",
    "                              interval=Client.KLINE_INTERVAL_5MINUTE,\n",
    "                              endTime=ltc_usdt[0][0] - DIFF_15_MIN_INTERVAL\n",
    "                             )"
   ]
  },
  {
   "cell_type": "code",
   "execution_count": null,
   "metadata": {},
   "outputs": [],
   "source": [
    "def get_by_intervals(n_iterations, currency, interval):\n",
    "    df = pd.DataFrame()\n",
    "    for i in range(0,n_iterations):\n",
    "        new_data = client.get_klines(symbol=currency, \n",
    "                              interval=Client.KLINE_INTERVAL_5MINUTE,\n",
    "                              endTime=ltc_usdt[0][0] - DIFF_INTERVAL_5MIN\n",
    "                             )\n",
    "        df = pd.concat([df])"
   ]
  },
  {
   "cell_type": "code",
   "execution_count": null,
   "metadata": {},
   "outputs": [],
   "source": [
    "ltc_usdt[0]"
   ]
  },
  {
   "cell_type": "code",
   "execution_count": 129,
   "metadata": {},
   "outputs": [
    {
     "data": {
      "text/plain": [
       "-300000"
      ]
     },
     "execution_count": 129,
     "metadata": {},
     "output_type": "execute_result"
    }
   ],
   "source": [
    "ltc_usdt[0][0] - ltc_usdt[1][0]"
   ]
  },
  {
   "cell_type": "code",
   "execution_count": 130,
   "metadata": {},
   "outputs": [
    {
     "data": {
      "text/plain": [
       "[1582845900000,\n",
       " '62.02000000',\n",
       " '62.15000000',\n",
       " '61.73000000',\n",
       " '61.85000000',\n",
       " '4046.52485000',\n",
       " 1582846199999,\n",
       " '250694.42510400',\n",
       " 615,\n",
       " '2110.29808000',\n",
       " '130763.43671670',\n",
       " '0']"
      ]
     },
     "execution_count": 130,
     "metadata": {},
     "output_type": "execute_result"
    }
   ],
   "source": [
    "ltc_usdt2[-1]"
   ]
  },
  {
   "cell_type": "code",
   "execution_count": 131,
   "metadata": {},
   "outputs": [
    {
     "name": "stdout",
     "output_type": "stream",
     "text": [
      "<class 'pandas.core.frame.DataFrame'>\n",
      "RangeIndex: 500 entries, 0 to 499\n",
      "Data columns (total 12 columns):\n",
      " #   Column                        Non-Null Count  Dtype \n",
      "---  ------                        --------------  ----- \n",
      " 0   Open Time                     500 non-null    int64 \n",
      " 1   Open                          500 non-null    object\n",
      " 2   High                          500 non-null    object\n",
      " 3   Low                           500 non-null    object\n",
      " 4   Close                         500 non-null    object\n",
      " 5   Volume                        500 non-null    object\n",
      " 6   Close Time                    500 non-null    int64 \n",
      " 7   Quote asset volume            500 non-null    object\n",
      " 8   n_trades                      500 non-null    int64 \n",
      " 9   Taker buy base asset volume   500 non-null    object\n",
      " 10  Taker buy quote asset volume  500 non-null    object\n",
      " 11  Ignore                        500 non-null    object\n",
      "dtypes: int64(3), object(9)\n",
      "memory usage: 47.0+ KB\n"
     ]
    }
   ],
   "source": [
    "ltc_usdt2_df = pd.DataFrame(ltc_usdt2, columns=columns)\n",
    "ltc_usdt2_df.info()"
   ]
  },
  {
   "cell_type": "code",
   "execution_count": 132,
   "metadata": {},
   "outputs": [],
   "source": [
    "ltc = pd.concat([ltc_usdt2_df, ltc_usdt_df])"
   ]
  },
  {
   "cell_type": "code",
   "execution_count": 133,
   "metadata": {},
   "outputs": [
    {
     "name": "stdout",
     "output_type": "stream",
     "text": [
      "<class 'pandas.core.frame.DataFrame'>\n",
      "Int64Index: 1000 entries, 0 to 499\n",
      "Data columns (total 12 columns):\n",
      " #   Column                        Non-Null Count  Dtype \n",
      "---  ------                        --------------  ----- \n",
      " 0   Open Time                     1000 non-null   int64 \n",
      " 1   Open                          1000 non-null   object\n",
      " 2   High                          1000 non-null   object\n",
      " 3   Low                           1000 non-null   object\n",
      " 4   Close                         1000 non-null   object\n",
      " 5   Volume                        1000 non-null   object\n",
      " 6   Close Time                    1000 non-null   int64 \n",
      " 7   Quote asset volume            1000 non-null   object\n",
      " 8   n_trades                      1000 non-null   int64 \n",
      " 9   Taker buy base asset volume   1000 non-null   object\n",
      " 10  Taker buy quote asset volume  1000 non-null   object\n",
      " 11  Ignore                        1000 non-null   object\n",
      "dtypes: int64(3), object(9)\n",
      "memory usage: 101.6+ KB\n"
     ]
    }
   ],
   "source": [
    "ltc.info()"
   ]
  },
  {
   "cell_type": "code",
   "execution_count": 134,
   "metadata": {},
   "outputs": [
    {
     "data": {
      "text/html": [
       "<div>\n",
       "<style scoped>\n",
       "    .dataframe tbody tr th:only-of-type {\n",
       "        vertical-align: middle;\n",
       "    }\n",
       "\n",
       "    .dataframe tbody tr th {\n",
       "        vertical-align: top;\n",
       "    }\n",
       "\n",
       "    .dataframe thead th {\n",
       "        text-align: right;\n",
       "    }\n",
       "</style>\n",
       "<table border=\"1\" class=\"dataframe\">\n",
       "  <thead>\n",
       "    <tr style=\"text-align: right;\">\n",
       "      <th></th>\n",
       "      <th>Open Time</th>\n",
       "      <th>Open</th>\n",
       "      <th>High</th>\n",
       "      <th>Low</th>\n",
       "      <th>Close</th>\n",
       "      <th>Volume</th>\n",
       "      <th>Close Time</th>\n",
       "      <th>Quote asset volume</th>\n",
       "      <th>n_trades</th>\n",
       "      <th>Taker buy base asset volume</th>\n",
       "      <th>Taker buy quote asset volume</th>\n",
       "      <th>Ignore</th>\n",
       "    </tr>\n",
       "  </thead>\n",
       "  <tbody>\n",
       "    <tr>\n",
       "      <th>0</th>\n",
       "      <td>1582696200000</td>\n",
       "      <td>68.89000000</td>\n",
       "      <td>69.00000000</td>\n",
       "      <td>68.69000000</td>\n",
       "      <td>68.95000000</td>\n",
       "      <td>2472.68560000</td>\n",
       "      <td>1582696499999</td>\n",
       "      <td>170325.36626150</td>\n",
       "      <td>342</td>\n",
       "      <td>1811.65863000</td>\n",
       "      <td>124798.46497750</td>\n",
       "      <td>0</td>\n",
       "    </tr>\n",
       "    <tr>\n",
       "      <th>1</th>\n",
       "      <td>1582696500000</td>\n",
       "      <td>68.99000000</td>\n",
       "      <td>69.56000000</td>\n",
       "      <td>68.91000000</td>\n",
       "      <td>69.48000000</td>\n",
       "      <td>9199.78693000</td>\n",
       "      <td>1582696799999</td>\n",
       "      <td>637529.21630110</td>\n",
       "      <td>1503</td>\n",
       "      <td>6384.66309000</td>\n",
       "      <td>442514.39530260</td>\n",
       "      <td>0</td>\n",
       "    </tr>\n",
       "    <tr>\n",
       "      <th>2</th>\n",
       "      <td>1582696800000</td>\n",
       "      <td>69.50000000</td>\n",
       "      <td>69.95000000</td>\n",
       "      <td>69.40000000</td>\n",
       "      <td>69.68000000</td>\n",
       "      <td>6260.02338000</td>\n",
       "      <td>1582697099999</td>\n",
       "      <td>436104.92643610</td>\n",
       "      <td>996</td>\n",
       "      <td>2554.34295000</td>\n",
       "      <td>178124.35080510</td>\n",
       "      <td>0</td>\n",
       "    </tr>\n",
       "    <tr>\n",
       "      <th>3</th>\n",
       "      <td>1582697100000</td>\n",
       "      <td>69.70000000</td>\n",
       "      <td>69.80000000</td>\n",
       "      <td>69.45000000</td>\n",
       "      <td>69.66000000</td>\n",
       "      <td>2880.46031000</td>\n",
       "      <td>1582697399999</td>\n",
       "      <td>200659.99092410</td>\n",
       "      <td>449</td>\n",
       "      <td>1753.74989000</td>\n",
       "      <td>122179.70230270</td>\n",
       "      <td>0</td>\n",
       "    </tr>\n",
       "    <tr>\n",
       "      <th>4</th>\n",
       "      <td>1582697400000</td>\n",
       "      <td>69.66000000</td>\n",
       "      <td>69.80000000</td>\n",
       "      <td>69.52000000</td>\n",
       "      <td>69.69000000</td>\n",
       "      <td>2710.36477000</td>\n",
       "      <td>1582697699999</td>\n",
       "      <td>188757.95608300</td>\n",
       "      <td>439</td>\n",
       "      <td>1747.63633000</td>\n",
       "      <td>121726.61325910</td>\n",
       "      <td>0</td>\n",
       "    </tr>\n",
       "  </tbody>\n",
       "</table>\n",
       "</div>"
      ],
      "text/plain": [
       "       Open Time         Open         High          Low        Close  \\\n",
       "0  1582696200000  68.89000000  69.00000000  68.69000000  68.95000000   \n",
       "1  1582696500000  68.99000000  69.56000000  68.91000000  69.48000000   \n",
       "2  1582696800000  69.50000000  69.95000000  69.40000000  69.68000000   \n",
       "3  1582697100000  69.70000000  69.80000000  69.45000000  69.66000000   \n",
       "4  1582697400000  69.66000000  69.80000000  69.52000000  69.69000000   \n",
       "\n",
       "          Volume     Close Time Quote asset volume  n_trades  \\\n",
       "0  2472.68560000  1582696499999    170325.36626150       342   \n",
       "1  9199.78693000  1582696799999    637529.21630110      1503   \n",
       "2  6260.02338000  1582697099999    436104.92643610       996   \n",
       "3  2880.46031000  1582697399999    200659.99092410       449   \n",
       "4  2710.36477000  1582697699999    188757.95608300       439   \n",
       "\n",
       "  Taker buy base asset volume Taker buy quote asset volume Ignore  \n",
       "0               1811.65863000              124798.46497750      0  \n",
       "1               6384.66309000              442514.39530260      0  \n",
       "2               2554.34295000              178124.35080510      0  \n",
       "3               1753.74989000              122179.70230270      0  \n",
       "4               1747.63633000              121726.61325910      0  "
      ]
     },
     "execution_count": 134,
     "metadata": {},
     "output_type": "execute_result"
    }
   ],
   "source": [
    "ltc.head()"
   ]
  },
  {
   "cell_type": "code",
   "execution_count": 122,
   "metadata": {},
   "outputs": [
    {
     "data": {
      "text/html": [
       "<div>\n",
       "<style scoped>\n",
       "    .dataframe tbody tr th:only-of-type {\n",
       "        vertical-align: middle;\n",
       "    }\n",
       "\n",
       "    .dataframe tbody tr th {\n",
       "        vertical-align: top;\n",
       "    }\n",
       "\n",
       "    .dataframe thead th {\n",
       "        text-align: right;\n",
       "    }\n",
       "</style>\n",
       "<table border=\"1\" class=\"dataframe\">\n",
       "  <thead>\n",
       "    <tr style=\"text-align: right;\">\n",
       "      <th></th>\n",
       "      <th>Open Time</th>\n",
       "      <th>Open</th>\n",
       "      <th>High</th>\n",
       "      <th>Low</th>\n",
       "      <th>Close</th>\n",
       "      <th>Volume</th>\n",
       "      <th>Close Time</th>\n",
       "      <th>Quote asset volume</th>\n",
       "      <th>n_trades</th>\n",
       "      <th>Taker buy base asset volume</th>\n",
       "      <th>Taker buy quote asset volume</th>\n",
       "      <th>Ignore</th>\n",
       "    </tr>\n",
       "  </thead>\n",
       "  <tbody>\n",
       "  </tbody>\n",
       "</table>\n",
       "</div>"
      ],
      "text/plain": [
       "Empty DataFrame\n",
       "Columns: [Open Time, Open, High, Low, Close, Volume, Close Time, Quote asset volume, n_trades, Taker buy base asset volume, Taker buy quote asset volume, Ignore]\n",
       "Index: []"
      ]
     },
     "execution_count": 122,
     "metadata": {},
     "output_type": "execute_result"
    }
   ],
   "source": [
    "ltc[ ltc['Open Time'].duplicated()] #we don't want duplicates"
   ]
  },
  {
   "cell_type": "code",
   "execution_count": 123,
   "metadata": {},
   "outputs": [
    {
     "data": {
      "text/plain": [
       "1582696200000"
      ]
     },
     "execution_count": 123,
     "metadata": {},
     "output_type": "execute_result"
    }
   ],
   "source": [
    "ltc['Open Time'].min()"
   ]
  },
  {
   "cell_type": "code",
   "execution_count": 135,
   "metadata": {},
   "outputs": [],
   "source": [
    "def test_time_skip(i_init,i_end):\n",
    "    for i in range(i_init,i_end):\n",
    "        if (ltc['Open Time'].iloc[i+1] - ltc['Open Time'].iloc[i] != 300000):\n",
    "            print('FUUUCK',(ltc['Open Time'].iloc[i+1] - ltc['Open Time'].iloc[i]), \n",
    "                ltc['Open Time'].iloc[i+1], ltc['Open Time'].iloc[i],i)\n",
    "            \n",
    "test_time_skip(0,999)"
   ]
  },
  {
   "cell_type": "code",
   "execution_count": null,
   "metadata": {},
   "outputs": [],
   "source": []
  },
  {
   "cell_type": "code",
   "execution_count": null,
   "metadata": {},
   "outputs": [],
   "source": []
  }
 ],
 "metadata": {
  "kernelspec": {
   "display_name": "Python 3",
   "language": "python",
   "name": "python3"
  },
  "language_info": {
   "codemirror_mode": {
    "name": "ipython",
    "version": 3
   },
   "file_extension": ".py",
   "mimetype": "text/x-python",
   "name": "python",
   "nbconvert_exporter": "python",
   "pygments_lexer": "ipython3",
   "version": "3.8.1"
  }
 },
 "nbformat": 4,
 "nbformat_minor": 4
}
