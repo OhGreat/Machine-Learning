{
 "cells": [
  {
   "cell_type": "code",
   "execution_count": 1,
   "metadata": {},
   "outputs": [],
   "source": [
    "import numpy as np\n",
    "import pandas as pd\n",
    "import matplotlib.pyplot as plt\n",
    "import seaborn as sns\n",
    "from datetime import datetime, timedelta"
   ]
  },
  {
   "cell_type": "code",
   "execution_count": 2,
   "metadata": {},
   "outputs": [],
   "source": [
    "%matplotlib inline\n",
    "sns.set_style(style='whitegrid')"
   ]
  },
  {
   "cell_type": "code",
   "execution_count": 3,
   "metadata": {},
   "outputs": [],
   "source": [
    "from keys import keys\n",
    "from binance.client import Client"
   ]
  },
  {
   "cell_type": "code",
   "execution_count": 4,
   "metadata": {},
   "outputs": [],
   "source": [
    "client = Client(api_key=keys.apiKey, api_secret=keys.secretKey)"
   ]
  },
  {
   "cell_type": "code",
   "execution_count": 5,
   "metadata": {},
   "outputs": [],
   "source": [
    "\"\"\"\n",
    "The various columns used by Binance\n",
    "taken from:\n",
    "https://python-binance.readthedocs.io/en/latest/binance.html#module-binance.client\n",
    "\"\"\"\n",
    "\n",
    "columns = ['Open Time', 'Open', 'High', 'Low', 'Close',\n",
    "            'Volume', 'Close Time', 'Quote asset volume', \n",
    "            'n_trades', 'Taker buy base asset volume', \n",
    "            'Taker buy quote asset volume', 'Ignore']"
   ]
  },
  {
   "cell_type": "code",
   "execution_count": 6,
   "metadata": {},
   "outputs": [],
   "source": [
    "\"\"\"\n",
    "DOWNLOADS DATA FROM BINANCE IN BATCHES OF 500 items.\n",
    "In total will return 500*n_rows - (n_rows+1) and\n",
    "no duplicate data should be present\n",
    "\n",
    "INPUTS:\n",
    "    n_iterations: how many batches of 500 items to download\n",
    "    \n",
    "    currency: one of the varios currencies, examples: \n",
    "                'BTCUSDT', 'LTCUSDT' ...etc\n",
    "    interval:   Client.KLINE_INTERVAL_1MINUTE\n",
    "                Client.KLINE_INTERVAL_3MINUTE\n",
    "                Client.KLINE_INTERVAL_5MINUTE\n",
    "                Client.KLINE_INTERVAL_15MINUTE\n",
    "                Client.KLINE_INTERVAL_30MINUTE\n",
    "                Client.KLINE_INTERVAL_1HOUR\n",
    "                ...\n",
    "\"\"\"\n",
    "def get_data_by_intervals(n_iterations, currencies, interval):\n",
    "    \n",
    "    #columns template\n",
    "    columns = ['Open Time', 'Open', 'High', 'Low', 'Close',\n",
    "            'Volume', 'Close Time', 'Quote asset volume', \n",
    "            'n_trades', 'Taker buy base asset volume', \n",
    "            'Taker buy quote asset volume', 'Ignore']\n",
    "    \n",
    "    #most recent timestamp to start downloading from\n",
    "    starting_point = client.get_klines(symbol=currencies[0], \n",
    "                                  interval=interval, limit=1)[-1][0]\n",
    "    \n",
    "    main_df = pd.DataFrame()\n",
    "    \n",
    "    for currency in currencies:\n",
    "        currency_cols = []\n",
    "        for col in columns:\n",
    "            currency_cols.append(currency+' '+col)\n",
    "        specific_currency_df = pd.DataFrame(columns=currency_cols)\n",
    "        \n",
    "        #downloading n iterations of a specific currency\n",
    "        for i in range(0,n_iterations):\n",
    "            #split in if elseto use starting_point\n",
    "            if specific_currency_df.empty:\n",
    "                new_data = client.get_klines(symbol=currency, \n",
    "                                              interval=interval,\n",
    "                                              endTime = starting_point,\n",
    "                                              limit=500\n",
    "                                            )\n",
    "            else:\n",
    "                end_time = specific_currency_df[currency+' Open Time'].iloc[0]\n",
    "                new_data = client.get_klines(symbol=currency, \n",
    "                                              interval=interval,\n",
    "                                              endTime=end_time,\n",
    "                                              limit=500\n",
    "                                            )\n",
    "            #merging all the rows of a specific currency in one DataFrame\n",
    "            #we need to delete the first row of specific_currency_df or\n",
    "            # delete the last row of new_data_df, it's repeated\n",
    "            new_data_df = pd.DataFrame(new_data, columns=currency_cols)\n",
    "            specific_currency_df = pd.concat([new_data_df,specific_currency_df[1:]],\n",
    "                                             ignore_index=True)\n",
    "            \n",
    "        #merging the specific currency created into the main_df were we keep all the data\n",
    "        main_df = pd.concat([main_df, specific_currency_df],axis=1)\n",
    "    return main_df"
   ]
  },
  {
   "cell_type": "code",
   "execution_count": 7,
   "metadata": {},
   "outputs": [],
   "source": [
    "coin_list = ['BTCUSDT', 'ETHUSDT', 'BCHUSDT', 'LTCUSDT', 'XRPUSDT']"
   ]
  },
  {
   "cell_type": "code",
   "execution_count": 8,
   "metadata": {},
   "outputs": [
    {
     "name": "stdout",
     "output_type": "stream",
     "text": [
      "<class 'pandas.core.frame.DataFrame'>\n",
      "RangeIndex: 4991 entries, 0 to 4990\n",
      "Data columns (total 60 columns):\n",
      " #   Column                                Non-Null Count  Dtype \n",
      "---  ------                                --------------  ----- \n",
      " 0   BTCUSDT Open Time                     4991 non-null   object\n",
      " 1   BTCUSDT Open                          4991 non-null   object\n",
      " 2   BTCUSDT High                          4991 non-null   object\n",
      " 3   BTCUSDT Low                           4991 non-null   object\n",
      " 4   BTCUSDT Close                         4991 non-null   object\n",
      " 5   BTCUSDT Volume                        4991 non-null   object\n",
      " 6   BTCUSDT Close Time                    4991 non-null   object\n",
      " 7   BTCUSDT Quote asset volume            4991 non-null   object\n",
      " 8   BTCUSDT n_trades                      4991 non-null   object\n",
      " 9   BTCUSDT Taker buy base asset volume   4991 non-null   object\n",
      " 10  BTCUSDT Taker buy quote asset volume  4991 non-null   object\n",
      " 11  BTCUSDT Ignore                        4991 non-null   object\n",
      " 12  ETHUSDT Open Time                     4991 non-null   object\n",
      " 13  ETHUSDT Open                          4991 non-null   object\n",
      " 14  ETHUSDT High                          4991 non-null   object\n",
      " 15  ETHUSDT Low                           4991 non-null   object\n",
      " 16  ETHUSDT Close                         4991 non-null   object\n",
      " 17  ETHUSDT Volume                        4991 non-null   object\n",
      " 18  ETHUSDT Close Time                    4991 non-null   object\n",
      " 19  ETHUSDT Quote asset volume            4991 non-null   object\n",
      " 20  ETHUSDT n_trades                      4991 non-null   object\n",
      " 21  ETHUSDT Taker buy base asset volume   4991 non-null   object\n",
      " 22  ETHUSDT Taker buy quote asset volume  4991 non-null   object\n",
      " 23  ETHUSDT Ignore                        4991 non-null   object\n",
      " 24  BCHUSDT Open Time                     4991 non-null   object\n",
      " 25  BCHUSDT Open                          4991 non-null   object\n",
      " 26  BCHUSDT High                          4991 non-null   object\n",
      " 27  BCHUSDT Low                           4991 non-null   object\n",
      " 28  BCHUSDT Close                         4991 non-null   object\n",
      " 29  BCHUSDT Volume                        4991 non-null   object\n",
      " 30  BCHUSDT Close Time                    4991 non-null   object\n",
      " 31  BCHUSDT Quote asset volume            4991 non-null   object\n",
      " 32  BCHUSDT n_trades                      4991 non-null   object\n",
      " 33  BCHUSDT Taker buy base asset volume   4991 non-null   object\n",
      " 34  BCHUSDT Taker buy quote asset volume  4991 non-null   object\n",
      " 35  BCHUSDT Ignore                        4991 non-null   object\n",
      " 36  LTCUSDT Open Time                     4991 non-null   object\n",
      " 37  LTCUSDT Open                          4991 non-null   object\n",
      " 38  LTCUSDT High                          4991 non-null   object\n",
      " 39  LTCUSDT Low                           4991 non-null   object\n",
      " 40  LTCUSDT Close                         4991 non-null   object\n",
      " 41  LTCUSDT Volume                        4991 non-null   object\n",
      " 42  LTCUSDT Close Time                    4991 non-null   object\n",
      " 43  LTCUSDT Quote asset volume            4991 non-null   object\n",
      " 44  LTCUSDT n_trades                      4991 non-null   object\n",
      " 45  LTCUSDT Taker buy base asset volume   4991 non-null   object\n",
      " 46  LTCUSDT Taker buy quote asset volume  4991 non-null   object\n",
      " 47  LTCUSDT Ignore                        4991 non-null   object\n",
      " 48  XRPUSDT Open Time                     4991 non-null   object\n",
      " 49  XRPUSDT Open                          4991 non-null   object\n",
      " 50  XRPUSDT High                          4991 non-null   object\n",
      " 51  XRPUSDT Low                           4991 non-null   object\n",
      " 52  XRPUSDT Close                         4991 non-null   object\n",
      " 53  XRPUSDT Volume                        4991 non-null   object\n",
      " 54  XRPUSDT Close Time                    4991 non-null   object\n",
      " 55  XRPUSDT Quote asset volume            4991 non-null   object\n",
      " 56  XRPUSDT n_trades                      4991 non-null   object\n",
      " 57  XRPUSDT Taker buy base asset volume   4991 non-null   object\n",
      " 58  XRPUSDT Taker buy quote asset volume  4991 non-null   object\n",
      " 59  XRPUSDT Ignore                        4991 non-null   object\n",
      "dtypes: object(60)\n",
      "memory usage: 2.3+ MB\n"
     ]
    }
   ],
   "source": [
    "coins = get_data_by_intervals(10, coin_list, Client.KLINE_INTERVAL_1MINUTE)\n",
    "coins.info()"
   ]
  },
  {
   "cell_type": "code",
   "execution_count": 9,
   "metadata": {},
   "outputs": [
    {
     "data": {
      "text/html": [
       "<div>\n",
       "<style scoped>\n",
       "    .dataframe tbody tr th:only-of-type {\n",
       "        vertical-align: middle;\n",
       "    }\n",
       "\n",
       "    .dataframe tbody tr th {\n",
       "        vertical-align: top;\n",
       "    }\n",
       "\n",
       "    .dataframe thead th {\n",
       "        text-align: right;\n",
       "    }\n",
       "</style>\n",
       "<table border=\"1\" class=\"dataframe\">\n",
       "  <thead>\n",
       "    <tr style=\"text-align: right;\">\n",
       "      <th></th>\n",
       "      <th>BTCUSDT Open Time</th>\n",
       "      <th>BTCUSDT Open</th>\n",
       "      <th>BTCUSDT High</th>\n",
       "      <th>BTCUSDT Low</th>\n",
       "      <th>BTCUSDT Close</th>\n",
       "      <th>BTCUSDT Volume</th>\n",
       "      <th>BTCUSDT Close Time</th>\n",
       "      <th>BTCUSDT Quote asset volume</th>\n",
       "      <th>BTCUSDT n_trades</th>\n",
       "      <th>BTCUSDT Taker buy base asset volume</th>\n",
       "      <th>...</th>\n",
       "      <th>XRPUSDT High</th>\n",
       "      <th>XRPUSDT Low</th>\n",
       "      <th>XRPUSDT Close</th>\n",
       "      <th>XRPUSDT Volume</th>\n",
       "      <th>XRPUSDT Close Time</th>\n",
       "      <th>XRPUSDT Quote asset volume</th>\n",
       "      <th>XRPUSDT n_trades</th>\n",
       "      <th>XRPUSDT Taker buy base asset volume</th>\n",
       "      <th>XRPUSDT Taker buy quote asset volume</th>\n",
       "      <th>XRPUSDT Ignore</th>\n",
       "    </tr>\n",
       "  </thead>\n",
       "  <tbody>\n",
       "    <tr>\n",
       "      <th>0</th>\n",
       "      <td>1582806240000</td>\n",
       "      <td>8923.66000000</td>\n",
       "      <td>8926.49000000</td>\n",
       "      <td>8893.49000000</td>\n",
       "      <td>8897.80000000</td>\n",
       "      <td>170.88993500</td>\n",
       "      <td>1582806299999</td>\n",
       "      <td>1521499.99289772</td>\n",
       "      <td>1200</td>\n",
       "      <td>52.02199000</td>\n",
       "      <td>...</td>\n",
       "      <td>0.24074000</td>\n",
       "      <td>0.23977000</td>\n",
       "      <td>0.24004000</td>\n",
       "      <td>877956.60000000</td>\n",
       "      <td>1582806299999</td>\n",
       "      <td>210840.01418700</td>\n",
       "      <td>551</td>\n",
       "      <td>446265.90000000</td>\n",
       "      <td>107173.34209300</td>\n",
       "      <td>0</td>\n",
       "    </tr>\n",
       "    <tr>\n",
       "      <th>1</th>\n",
       "      <td>1582806300000</td>\n",
       "      <td>8897.45000000</td>\n",
       "      <td>8910.00000000</td>\n",
       "      <td>8893.64000000</td>\n",
       "      <td>8907.44000000</td>\n",
       "      <td>117.70591000</td>\n",
       "      <td>1582806359999</td>\n",
       "      <td>1047881.38936825</td>\n",
       "      <td>1040</td>\n",
       "      <td>68.70235600</td>\n",
       "      <td>...</td>\n",
       "      <td>0.24076000</td>\n",
       "      <td>0.23992000</td>\n",
       "      <td>0.24054000</td>\n",
       "      <td>999965.30000000</td>\n",
       "      <td>1582806359999</td>\n",
       "      <td>240354.38091800</td>\n",
       "      <td>380</td>\n",
       "      <td>441164.90000000</td>\n",
       "      <td>106006.70904200</td>\n",
       "      <td>0</td>\n",
       "    </tr>\n",
       "    <tr>\n",
       "      <th>2</th>\n",
       "      <td>1582806360000</td>\n",
       "      <td>8907.53000000</td>\n",
       "      <td>8908.00000000</td>\n",
       "      <td>8878.58000000</td>\n",
       "      <td>8879.72000000</td>\n",
       "      <td>196.25373600</td>\n",
       "      <td>1582806419999</td>\n",
       "      <td>1745014.27745998</td>\n",
       "      <td>1168</td>\n",
       "      <td>43.43480000</td>\n",
       "      <td>...</td>\n",
       "      <td>0.24060000</td>\n",
       "      <td>0.23958000</td>\n",
       "      <td>0.23977000</td>\n",
       "      <td>298689.00000000</td>\n",
       "      <td>1582806419999</td>\n",
       "      <td>71700.17046900</td>\n",
       "      <td>216</td>\n",
       "      <td>170776.10000000</td>\n",
       "      <td>41006.98788400</td>\n",
       "      <td>0</td>\n",
       "    </tr>\n",
       "    <tr>\n",
       "      <th>3</th>\n",
       "      <td>1582806420000</td>\n",
       "      <td>8881.01000000</td>\n",
       "      <td>8890.61000000</td>\n",
       "      <td>8870.01000000</td>\n",
       "      <td>8872.49000000</td>\n",
       "      <td>95.56584700</td>\n",
       "      <td>1582806479999</td>\n",
       "      <td>848571.32345114</td>\n",
       "      <td>998</td>\n",
       "      <td>57.02672800</td>\n",
       "      <td>...</td>\n",
       "      <td>0.24043000</td>\n",
       "      <td>0.23963000</td>\n",
       "      <td>0.23964000</td>\n",
       "      <td>357293.00000000</td>\n",
       "      <td>1582806479999</td>\n",
       "      <td>85767.51040500</td>\n",
       "      <td>291</td>\n",
       "      <td>235495.90000000</td>\n",
       "      <td>56529.14853300</td>\n",
       "      <td>0</td>\n",
       "    </tr>\n",
       "    <tr>\n",
       "      <th>4</th>\n",
       "      <td>1582806480000</td>\n",
       "      <td>8872.49000000</td>\n",
       "      <td>8886.98000000</td>\n",
       "      <td>8865.41000000</td>\n",
       "      <td>8871.22000000</td>\n",
       "      <td>107.92514500</td>\n",
       "      <td>1582806539999</td>\n",
       "      <td>958085.82622637</td>\n",
       "      <td>1248</td>\n",
       "      <td>49.94959400</td>\n",
       "      <td>...</td>\n",
       "      <td>0.24039000</td>\n",
       "      <td>0.23942000</td>\n",
       "      <td>0.24001000</td>\n",
       "      <td>231287.30000000</td>\n",
       "      <td>1582806539999</td>\n",
       "      <td>55487.08672500</td>\n",
       "      <td>241</td>\n",
       "      <td>129354.90000000</td>\n",
       "      <td>31030.95590400</td>\n",
       "      <td>0</td>\n",
       "    </tr>\n",
       "  </tbody>\n",
       "</table>\n",
       "<p>5 rows × 60 columns</p>\n",
       "</div>"
      ],
      "text/plain": [
       "  BTCUSDT Open Time   BTCUSDT Open   BTCUSDT High    BTCUSDT Low  \\\n",
       "0     1582806240000  8923.66000000  8926.49000000  8893.49000000   \n",
       "1     1582806300000  8897.45000000  8910.00000000  8893.64000000   \n",
       "2     1582806360000  8907.53000000  8908.00000000  8878.58000000   \n",
       "3     1582806420000  8881.01000000  8890.61000000  8870.01000000   \n",
       "4     1582806480000  8872.49000000  8886.98000000  8865.41000000   \n",
       "\n",
       "   BTCUSDT Close BTCUSDT Volume BTCUSDT Close Time BTCUSDT Quote asset volume  \\\n",
       "0  8897.80000000   170.88993500      1582806299999           1521499.99289772   \n",
       "1  8907.44000000   117.70591000      1582806359999           1047881.38936825   \n",
       "2  8879.72000000   196.25373600      1582806419999           1745014.27745998   \n",
       "3  8872.49000000    95.56584700      1582806479999            848571.32345114   \n",
       "4  8871.22000000   107.92514500      1582806539999            958085.82622637   \n",
       "\n",
       "  BTCUSDT n_trades BTCUSDT Taker buy base asset volume  ... XRPUSDT High  \\\n",
       "0             1200                         52.02199000  ...   0.24074000   \n",
       "1             1040                         68.70235600  ...   0.24076000   \n",
       "2             1168                         43.43480000  ...   0.24060000   \n",
       "3              998                         57.02672800  ...   0.24043000   \n",
       "4             1248                         49.94959400  ...   0.24039000   \n",
       "\n",
       "  XRPUSDT Low XRPUSDT Close   XRPUSDT Volume XRPUSDT Close Time  \\\n",
       "0  0.23977000    0.24004000  877956.60000000      1582806299999   \n",
       "1  0.23992000    0.24054000  999965.30000000      1582806359999   \n",
       "2  0.23958000    0.23977000  298689.00000000      1582806419999   \n",
       "3  0.23963000    0.23964000  357293.00000000      1582806479999   \n",
       "4  0.23942000    0.24001000  231287.30000000      1582806539999   \n",
       "\n",
       "  XRPUSDT Quote asset volume XRPUSDT n_trades  \\\n",
       "0            210840.01418700              551   \n",
       "1            240354.38091800              380   \n",
       "2             71700.17046900              216   \n",
       "3             85767.51040500              291   \n",
       "4             55487.08672500              241   \n",
       "\n",
       "  XRPUSDT Taker buy base asset volume XRPUSDT Taker buy quote asset volume  \\\n",
       "0                     446265.90000000                      107173.34209300   \n",
       "1                     441164.90000000                      106006.70904200   \n",
       "2                     170776.10000000                       41006.98788400   \n",
       "3                     235495.90000000                       56529.14853300   \n",
       "4                     129354.90000000                       31030.95590400   \n",
       "\n",
       "  XRPUSDT Ignore  \n",
       "0              0  \n",
       "1              0  \n",
       "2              0  \n",
       "3              0  \n",
       "4              0  \n",
       "\n",
       "[5 rows x 60 columns]"
      ]
     },
     "execution_count": 9,
     "metadata": {},
     "output_type": "execute_result"
    }
   ],
   "source": [
    "coins.head()"
   ]
  },
  {
   "cell_type": "code",
   "execution_count": 10,
   "metadata": {},
   "outputs": [],
   "source": [
    "\"\"\"\n",
    "USED TO CHECK IF THERE ARE ANY SUDDEN JUMPS IN THE TIMESTAMPS\n",
    "\"\"\"\n",
    "\n",
    "def test_time_skip(df, currencies):\n",
    "    diff = 0\n",
    "    df_len = len(df)\n",
    "    for i in range(0,df_len-1):\n",
    "        for currency in currencies:\n",
    "            if i == 0:\n",
    "                #get first time difference to compare with the rest\n",
    "                diff = df[currency+' Open Time'].iloc[i+1] - df[currency+' Open Time'].iloc[i]\n",
    "            if (df[currency+' Open Time'].iloc[i+1] - df[\n",
    "                    currency+' Open Time'].iloc[i] != diff):\n",
    "                print('Time difference: ',(df[currency+' Open Time'\n",
    "                                  ].iloc[i+1] - df[currency+' Open Time'].iloc[i]), currency)\n",
    "                print('time 1: ',df[currency+' Open Time'].iloc[i+1],i+1)\n",
    "                print('time 2: ',df[currency+' Open Time'].iloc[i],i)\n"
   ]
  },
  {
   "cell_type": "code",
   "execution_count": 11,
   "metadata": {},
   "outputs": [],
   "source": [
    "test_time_skip(coins,coin_list)"
   ]
  },
  {
   "cell_type": "markdown",
   "metadata": {},
   "source": [
    "There might some time jumps due to server downtime of binance upgrades etc..\n",
    "if we search for 9/2/2020 on google binance we can see there was a maintenance"
   ]
  },
  {
   "cell_type": "code",
   "execution_count": 12,
   "metadata": {},
   "outputs": [],
   "source": [
    "\"\"\"\n",
    "remove ignore column and repeated timestamp columns\n",
    "\"\"\"\n",
    "def clean_data(df, currencies):\n",
    "    coins['Timestamp'] = df[currencies[0]+' Close Time']\n",
    "    for currency in currencies:\n",
    "        df.drop(currency+' Ignore', axis=1, inplace=True)\n",
    "        df.drop([currency+' Open Time',\n",
    "                 currency+' Close Time'],\n",
    "                 axis=1, inplace=True)\n"
   ]
  },
  {
   "cell_type": "code",
   "execution_count": 13,
   "metadata": {},
   "outputs": [],
   "source": [
    "clean_data(coins, coin_list)"
   ]
  },
  {
   "cell_type": "code",
   "execution_count": 14,
   "metadata": {},
   "outputs": [],
   "source": [
    "coins['Timestamp'] = coins['Timestamp'].apply(\n",
    "    lambda x: datetime.fromtimestamp(int(x/1000)))"
   ]
  },
  {
   "cell_type": "code",
   "execution_count": 15,
   "metadata": {},
   "outputs": [
    {
     "name": "stdout",
     "output_type": "stream",
     "text": [
      "Data timeframe:\n",
      "From:   2020-03-02 00:34:59\n",
      "To      2020-02-27 13:24:59\n"
     ]
    }
   ],
   "source": [
    "print('Data timeframe:')\n",
    "print( 'From:  ',coins['Timestamp'].max())\n",
    "print( 'To     ',coins['Timestamp'].min())"
   ]
  },
  {
   "cell_type": "code",
   "execution_count": 16,
   "metadata": {},
   "outputs": [],
   "source": [
    "for i in coins.columns:\n",
    "    if i != 'Timestamp':\n",
    "        coins[i] = coins[i].astype(float)"
   ]
  },
  {
   "cell_type": "code",
   "execution_count": 17,
   "metadata": {},
   "outputs": [
    {
     "data": {
      "text/plain": [
       "<matplotlib.axes._subplots.AxesSubplot at 0x7f6320e43fd0>"
      ]
     },
     "execution_count": 17,
     "metadata": {},
     "output_type": "execute_result"
    },
    {
     "data": {
      "image/png": "[encoded data removed]",
      "text/plain": [
       "<Figure size 1152x576 with 1 Axes>"
      ]
     },
     "metadata": {},
     "output_type": "display_data"
    }
   ],
   "source": [
    "plt.figure(figsize=(16,8))\n",
    "coins['BTCUSDT Close'].iloc[:500].plot()"
   ]
  },
  {
   "cell_type": "code",
   "execution_count": 18,
   "metadata": {},
   "outputs": [],
   "source": [
    "SEQUENCE_LEN = 240\n",
    "FUTURE_PERIOD_PREDICT = 60\n",
    "RATIO_TO_PREDICT = 'BTCUSDT'"
   ]
  },
  {
   "cell_type": "code",
   "execution_count": 19,
   "metadata": {},
   "outputs": [],
   "source": [
    "#i want to predict if in the next FUTURE_PERIOD_PREDICT\n",
    "# the price will be higher than 1.25% of the current value\n",
    "def classify(current_price, future_price):\n",
    "    if future_price > (current_price + current_price*0.0125):\n",
    "        return 1\n",
    "    return 0"
   ]
  },
  {
   "cell_type": "code",
   "execution_count": 30,
   "metadata": {},
   "outputs": [],
   "source": [
    "coins['Future Value'] = coins['BTCUSDT Close'].shift(-FUTURE_PERIOD_PREDICT)"
   ]
  },
  {
   "cell_type": "code",
   "execution_count": 31,
   "metadata": {},
   "outputs": [],
   "source": [
    "coins.dropna(inplace=True)"
   ]
  },
  {
   "cell_type": "code",
   "execution_count": 22,
   "metadata": {},
   "outputs": [],
   "source": [
    "#coins['Target'] = list(map(classify, coins['BTCUSDT High'], coins['Future Value']))"
   ]
  },
  {
   "cell_type": "code",
   "execution_count": 23,
   "metadata": {},
   "outputs": [],
   "source": [
    "#coins['Target'].unique()"
   ]
  },
  {
   "cell_type": "code",
   "execution_count": 33,
   "metadata": {},
   "outputs": [
    {
     "ename": "SyntaxError",
     "evalue": "cannot assign to function call (<ipython-input-33-319bb0ec4e3d>, line 8)",
     "output_type": "error",
     "traceback": [
      "\u001b[0;36m  File \u001b[0;32m\"<ipython-input-33-319bb0ec4e3d>\"\u001b[0;36m, line \u001b[0;32m8\u001b[0m\n\u001b[0;31m    coins.at('Future Value', x) = current_max_price\u001b[0m\n\u001b[0m    ^\u001b[0m\n\u001b[0;31mSyntaxError\u001b[0m\u001b[0;31m:\u001b[0m cannot assign to function call\n"
     ]
    }
   ],
   "source": [
    "max_len = len(coins)\n",
    "\n",
    "for i in range(0,max_len-SEQUENCE_LEN):\n",
    "    current_max_price = coins['BTCUSDT High'][i]\n",
    "    for x in range(i,i+SEQUENCE_LEN):\n",
    "        if coins['BTCUSDT High'][x] > current_max_price:\n",
    "            current_max_price = coins['BTCUSDT High'][x]\n",
    "    coins['Future Value'][i] = current_max_price "
   ]
  },
  {
   "cell_type": "code",
   "execution_count": null,
   "metadata": {},
   "outputs": [],
   "source": [
    "coins['Timestamp'][1]"
   ]
  },
  {
   "cell_type": "code",
   "execution_count": null,
   "metadata": {},
   "outputs": [],
   "source": []
  }
 ],
 "metadata": {
  "kernelspec": {
   "display_name": "Python 3",
   "language": "python",
   "name": "python3"
  },
  "language_info": {
   "codemirror_mode": {
    "name": "ipython",
    "version": 3
   },
   "file_extension": ".py",
   "mimetype": "text/x-python",
   "name": "python",
   "nbconvert_exporter": "python",
   "pygments_lexer": "ipython3",
   "version": "3.8.1"
  }
 },
 "nbformat": 4,
 "nbformat_minor": 4
}
