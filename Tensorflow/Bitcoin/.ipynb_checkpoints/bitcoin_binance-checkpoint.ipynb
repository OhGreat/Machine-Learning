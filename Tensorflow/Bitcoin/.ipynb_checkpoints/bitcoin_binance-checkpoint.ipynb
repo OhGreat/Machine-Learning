{
 "cells": [
  {
   "cell_type": "code",
   "execution_count": 1,
   "metadata": {},
   "outputs": [],
   "source": [
    "import numpy as np\n",
    "import pandas as pd\n",
    "import matplotlib.pyplot as plt\n",
    "import seaborn as sns\n",
    "from datetime import datetime, timedelta"
   ]
  },
  {
   "cell_type": "code",
   "execution_count": 2,
   "metadata": {},
   "outputs": [],
   "source": [
    "%matplotlib inline\n",
    "sns.set_style(style='whitegrid')"
   ]
  },
  {
   "cell_type": "code",
   "execution_count": 3,
   "metadata": {},
   "outputs": [],
   "source": [
    "from keys import keys\n",
    "from binance.client import Client"
   ]
  },
  {
   "cell_type": "code",
   "execution_count": 4,
   "metadata": {},
   "outputs": [],
   "source": [
    "client = Client(api_key=keys.apiKey, api_secret=keys.secretKey)"
   ]
  },
  {
   "cell_type": "code",
   "execution_count": 5,
   "metadata": {},
   "outputs": [],
   "source": [
    "\"\"\"\n",
    "The various columns used by Binance\n",
    "taken from:\n",
    "https://python-binance.readthedocs.io/en/latest/binance.html#module-binance.client\n",
    "\"\"\"\n",
    "\n",
    "columns = ['Open Time', 'Open', 'High', 'Low', 'Close',\n",
    "            'Volume', 'Close Time', 'Quote asset volume', \n",
    "            'n_trades', 'Taker buy base asset volume', \n",
    "            'Taker buy quote asset volume', 'Ignore']"
   ]
  },
  {
   "cell_type": "code",
   "execution_count": 6,
   "metadata": {},
   "outputs": [],
   "source": [
    "\"\"\"\n",
    "DOWNLOADS DATA FROM BINANCE IN BATCHES OF 500 items.\n",
    "In total will return 500*n_rows - (n_rows+1) and\n",
    "no duplicate data should be present\n",
    "\n",
    "INPUTS:\n",
    "    n_iterations: how many batches of 500 items to download\n",
    "    \n",
    "    currency: one of the varios currencies, examples: \n",
    "                'BTCUSDT', 'LTCUSDT' ...etc\n",
    "    interval:   Client.KLINE_INTERVAL_1MINUTE\n",
    "                Client.KLINE_INTERVAL_3MINUTE\n",
    "                Client.KLINE_INTERVAL_5MINUTE\n",
    "                Client.KLINE_INTERVAL_15MINUTE\n",
    "                Client.KLINE_INTERVAL_30MINUTE\n",
    "                Client.KLINE_INTERVAL_1HOUR\n",
    "                ...\n",
    "\"\"\"\n",
    "def get_data_by_intervals(n_iterations, currencies, interval):\n",
    "    \n",
    "    #columns template\n",
    "    columns = ['Open Time', 'Open', 'High', 'Low', 'Close',\n",
    "            'Volume', 'Close Time', 'Quote asset volume', \n",
    "            'n_trades', 'Taker buy base asset volume', \n",
    "            'Taker buy quote asset volume', 'Ignore']\n",
    "    \n",
    "    #most recent timestamp to start downloading from\n",
    "    starting_point = client.get_klines(symbol=currencies[0], \n",
    "                                  interval=interval, limit=1)[-1][0]\n",
    "    \n",
    "    main_df = pd.DataFrame()\n",
    "    \n",
    "    for currency in currencies:\n",
    "        currency_cols = []\n",
    "        for col in columns:\n",
    "            currency_cols.append(currency+' '+col)\n",
    "        specific_currency_df = pd.DataFrame(columns=currency_cols)\n",
    "        \n",
    "        #downloading n iterations of a specific currency\n",
    "        for i in range(0,n_iterations):\n",
    "            #split in if elseto use starting_point\n",
    "            if specific_currency_df.empty:\n",
    "                new_data = client.get_klines(symbol=currency, \n",
    "                                              interval=interval,\n",
    "                                              endTime = starting_point,\n",
    "                                              limit=500\n",
    "                                            )\n",
    "            else:\n",
    "                end_time = specific_currency_df[currency+' Open Time'].iloc[0]\n",
    "                new_data = client.get_klines(symbol=currency, \n",
    "                                              interval=interval,\n",
    "                                              endTime=end_time,\n",
    "                                              limit=500\n",
    "                                            )\n",
    "            #merging all the rows of a specific currency in one DataFrame\n",
    "            #we need to delete the first row of specific_currency_df or\n",
    "            # delete the last row of new_data_df, it's repeated\n",
    "            new_data_df = pd.DataFrame(new_data, columns=currency_cols)\n",
    "            specific_currency_df = pd.concat([new_data_df,specific_currency_df[1:]],\n",
    "                                             ignore_index=True)\n",
    "            \n",
    "        #merging the specific currency created into the main_df were we keep all the data\n",
    "        main_df = pd.concat([main_df, specific_currency_df],axis=1)\n",
    "    return main_df"
   ]
  },
  {
   "cell_type": "code",
   "execution_count": 7,
   "metadata": {},
   "outputs": [],
   "source": [
    "coin_list = ['BTCUSDT', 'ETHUSDT', 'BCHUSDT', 'LTCUSDT', 'XRPUSDT']"
   ]
  },
  {
   "cell_type": "code",
   "execution_count": 32,
   "metadata": {},
   "outputs": [
    {
     "name": "stdout",
     "output_type": "stream",
     "text": [
      "<class 'pandas.core.frame.DataFrame'>\n",
      "RangeIndex: 4991 entries, 0 to 4990\n",
      "Data columns (total 60 columns):\n",
      " #   Column                                Non-Null Count  Dtype \n",
      "---  ------                                --------------  ----- \n",
      " 0   BTCUSDT Open Time                     4991 non-null   object\n",
      " 1   BTCUSDT Open                          4991 non-null   object\n",
      " 2   BTCUSDT High                          4991 non-null   object\n",
      " 3   BTCUSDT Low                           4991 non-null   object\n",
      " 4   BTCUSDT Close                         4991 non-null   object\n",
      " 5   BTCUSDT Volume                        4991 non-null   object\n",
      " 6   BTCUSDT Close Time                    4991 non-null   object\n",
      " 7   BTCUSDT Quote asset volume            4991 non-null   object\n",
      " 8   BTCUSDT n_trades                      4991 non-null   object\n",
      " 9   BTCUSDT Taker buy base asset volume   4991 non-null   object\n",
      " 10  BTCUSDT Taker buy quote asset volume  4991 non-null   object\n",
      " 11  BTCUSDT Ignore                        4991 non-null   object\n",
      " 12  ETHUSDT Open Time                     4991 non-null   object\n",
      " 13  ETHUSDT Open                          4991 non-null   object\n",
      " 14  ETHUSDT High                          4991 non-null   object\n",
      " 15  ETHUSDT Low                           4991 non-null   object\n",
      " 16  ETHUSDT Close                         4991 non-null   object\n",
      " 17  ETHUSDT Volume                        4991 non-null   object\n",
      " 18  ETHUSDT Close Time                    4991 non-null   object\n",
      " 19  ETHUSDT Quote asset volume            4991 non-null   object\n",
      " 20  ETHUSDT n_trades                      4991 non-null   object\n",
      " 21  ETHUSDT Taker buy base asset volume   4991 non-null   object\n",
      " 22  ETHUSDT Taker buy quote asset volume  4991 non-null   object\n",
      " 23  ETHUSDT Ignore                        4991 non-null   object\n",
      " 24  BCHUSDT Open Time                     4991 non-null   object\n",
      " 25  BCHUSDT Open                          4991 non-null   object\n",
      " 26  BCHUSDT High                          4991 non-null   object\n",
      " 27  BCHUSDT Low                           4991 non-null   object\n",
      " 28  BCHUSDT Close                         4991 non-null   object\n",
      " 29  BCHUSDT Volume                        4991 non-null   object\n",
      " 30  BCHUSDT Close Time                    4991 non-null   object\n",
      " 31  BCHUSDT Quote asset volume            4991 non-null   object\n",
      " 32  BCHUSDT n_trades                      4991 non-null   object\n",
      " 33  BCHUSDT Taker buy base asset volume   4991 non-null   object\n",
      " 34  BCHUSDT Taker buy quote asset volume  4991 non-null   object\n",
      " 35  BCHUSDT Ignore                        4991 non-null   object\n",
      " 36  LTCUSDT Open Time                     4991 non-null   object\n",
      " 37  LTCUSDT Open                          4991 non-null   object\n",
      " 38  LTCUSDT High                          4991 non-null   object\n",
      " 39  LTCUSDT Low                           4991 non-null   object\n",
      " 40  LTCUSDT Close                         4991 non-null   object\n",
      " 41  LTCUSDT Volume                        4991 non-null   object\n",
      " 42  LTCUSDT Close Time                    4991 non-null   object\n",
      " 43  LTCUSDT Quote asset volume            4991 non-null   object\n",
      " 44  LTCUSDT n_trades                      4991 non-null   object\n",
      " 45  LTCUSDT Taker buy base asset volume   4991 non-null   object\n",
      " 46  LTCUSDT Taker buy quote asset volume  4991 non-null   object\n",
      " 47  LTCUSDT Ignore                        4991 non-null   object\n",
      " 48  XRPUSDT Open Time                     4991 non-null   object\n",
      " 49  XRPUSDT Open                          4991 non-null   object\n",
      " 50  XRPUSDT High                          4991 non-null   object\n",
      " 51  XRPUSDT Low                           4991 non-null   object\n",
      " 52  XRPUSDT Close                         4991 non-null   object\n",
      " 53  XRPUSDT Volume                        4991 non-null   object\n",
      " 54  XRPUSDT Close Time                    4991 non-null   object\n",
      " 55  XRPUSDT Quote asset volume            4991 non-null   object\n",
      " 56  XRPUSDT n_trades                      4991 non-null   object\n",
      " 57  XRPUSDT Taker buy base asset volume   4991 non-null   object\n",
      " 58  XRPUSDT Taker buy quote asset volume  4991 non-null   object\n",
      " 59  XRPUSDT Ignore                        4991 non-null   object\n",
      "dtypes: object(60)\n",
      "memory usage: 2.3+ MB\n"
     ]
    }
   ],
   "source": [
    "coins = get_data_by_intervals(10, coin_list, Client.KLINE_INTERVAL_1MINUTE)\n",
    "coins.info()"
   ]
  },
  {
   "cell_type": "code",
   "execution_count": 33,
   "metadata": {},
   "outputs": [
    {
     "data": {
      "text/html": [
       "<div>\n",
       "<style scoped>\n",
       "    .dataframe tbody tr th:only-of-type {\n",
       "        vertical-align: middle;\n",
       "    }\n",
       "\n",
       "    .dataframe tbody tr th {\n",
       "        vertical-align: top;\n",
       "    }\n",
       "\n",
       "    .dataframe thead th {\n",
       "        text-align: right;\n",
       "    }\n",
       "</style>\n",
       "<table border=\"1\" class=\"dataframe\">\n",
       "  <thead>\n",
       "    <tr style=\"text-align: right;\">\n",
       "      <th></th>\n",
       "      <th>BTCUSDT Open Time</th>\n",
       "      <th>BTCUSDT Open</th>\n",
       "      <th>BTCUSDT High</th>\n",
       "      <th>BTCUSDT Low</th>\n",
       "      <th>BTCUSDT Close</th>\n",
       "      <th>BTCUSDT Volume</th>\n",
       "      <th>BTCUSDT Close Time</th>\n",
       "      <th>BTCUSDT Quote asset volume</th>\n",
       "      <th>BTCUSDT n_trades</th>\n",
       "      <th>BTCUSDT Taker buy base asset volume</th>\n",
       "      <th>...</th>\n",
       "      <th>XRPUSDT High</th>\n",
       "      <th>XRPUSDT Low</th>\n",
       "      <th>XRPUSDT Close</th>\n",
       "      <th>XRPUSDT Volume</th>\n",
       "      <th>XRPUSDT Close Time</th>\n",
       "      <th>XRPUSDT Quote asset volume</th>\n",
       "      <th>XRPUSDT n_trades</th>\n",
       "      <th>XRPUSDT Taker buy base asset volume</th>\n",
       "      <th>XRPUSDT Taker buy quote asset volume</th>\n",
       "      <th>XRPUSDT Ignore</th>\n",
       "    </tr>\n",
       "  </thead>\n",
       "  <tbody>\n",
       "    <tr>\n",
       "      <th>0</th>\n",
       "      <td>1582863060000</td>\n",
       "      <td>8837.73000000</td>\n",
       "      <td>8842.99000000</td>\n",
       "      <td>8837.05000000</td>\n",
       "      <td>8840.38000000</td>\n",
       "      <td>5.57926400</td>\n",
       "      <td>1582863119999</td>\n",
       "      <td>49323.11848296</td>\n",
       "      <td>179</td>\n",
       "      <td>3.40028400</td>\n",
       "      <td>...</td>\n",
       "      <td>0.24007000</td>\n",
       "      <td>0.23977000</td>\n",
       "      <td>0.23978000</td>\n",
       "      <td>83608.60000000</td>\n",
       "      <td>1582863119999</td>\n",
       "      <td>20058.60494400</td>\n",
       "      <td>56</td>\n",
       "      <td>31384.80000000</td>\n",
       "      <td>7531.39594800</td>\n",
       "      <td>0</td>\n",
       "    </tr>\n",
       "    <tr>\n",
       "      <th>1</th>\n",
       "      <td>1582863120000</td>\n",
       "      <td>8839.86000000</td>\n",
       "      <td>8839.86000000</td>\n",
       "      <td>8833.32000000</td>\n",
       "      <td>8839.01000000</td>\n",
       "      <td>13.08432200</td>\n",
       "      <td>1582863179999</td>\n",
       "      <td>115621.61752061</td>\n",
       "      <td>281</td>\n",
       "      <td>7.81688200</td>\n",
       "      <td>...</td>\n",
       "      <td>0.23979000</td>\n",
       "      <td>0.23957000</td>\n",
       "      <td>0.23975000</td>\n",
       "      <td>107348.50000000</td>\n",
       "      <td>1582863179999</td>\n",
       "      <td>25728.93567000</td>\n",
       "      <td>81</td>\n",
       "      <td>49487.40000000</td>\n",
       "      <td>11862.41286700</td>\n",
       "      <td>0</td>\n",
       "    </tr>\n",
       "    <tr>\n",
       "      <th>2</th>\n",
       "      <td>1582863180000</td>\n",
       "      <td>8839.01000000</td>\n",
       "      <td>8844.10000000</td>\n",
       "      <td>8838.94000000</td>\n",
       "      <td>8840.55000000</td>\n",
       "      <td>9.99363600</td>\n",
       "      <td>1582863239999</td>\n",
       "      <td>88358.65312964</td>\n",
       "      <td>261</td>\n",
       "      <td>3.86961600</td>\n",
       "      <td>...</td>\n",
       "      <td>0.23988000</td>\n",
       "      <td>0.23971000</td>\n",
       "      <td>0.23981000</td>\n",
       "      <td>80642.50000000</td>\n",
       "      <td>1582863239999</td>\n",
       "      <td>19336.99056100</td>\n",
       "      <td>44</td>\n",
       "      <td>17333.90000000</td>\n",
       "      <td>4156.74576500</td>\n",
       "      <td>0</td>\n",
       "    </tr>\n",
       "    <tr>\n",
       "      <th>3</th>\n",
       "      <td>1582863240000</td>\n",
       "      <td>8840.92000000</td>\n",
       "      <td>8845.00000000</td>\n",
       "      <td>8840.40000000</td>\n",
       "      <td>8844.99000000</td>\n",
       "      <td>9.09247600</td>\n",
       "      <td>1582863299999</td>\n",
       "      <td>80404.94322360</td>\n",
       "      <td>173</td>\n",
       "      <td>5.49887900</td>\n",
       "      <td>...</td>\n",
       "      <td>0.23987000</td>\n",
       "      <td>0.23961000</td>\n",
       "      <td>0.23982000</td>\n",
       "      <td>82288.00000000</td>\n",
       "      <td>1582863299999</td>\n",
       "      <td>19730.65811400</td>\n",
       "      <td>45</td>\n",
       "      <td>26578.10000000</td>\n",
       "      <td>6372.05203900</td>\n",
       "      <td>0</td>\n",
       "    </tr>\n",
       "    <tr>\n",
       "      <th>4</th>\n",
       "      <td>1582863300000</td>\n",
       "      <td>8844.99000000</td>\n",
       "      <td>8848.58000000</td>\n",
       "      <td>8839.88000000</td>\n",
       "      <td>8848.56000000</td>\n",
       "      <td>13.98606300</td>\n",
       "      <td>1582863359999</td>\n",
       "      <td>123702.93343643</td>\n",
       "      <td>238</td>\n",
       "      <td>10.82688400</td>\n",
       "      <td>...</td>\n",
       "      <td>0.23989000</td>\n",
       "      <td>0.23964000</td>\n",
       "      <td>0.23985000</td>\n",
       "      <td>36333.70000000</td>\n",
       "      <td>1582863359999</td>\n",
       "      <td>8711.05874500</td>\n",
       "      <td>37</td>\n",
       "      <td>10910.50000000</td>\n",
       "      <td>2616.28488700</td>\n",
       "      <td>0</td>\n",
       "    </tr>\n",
       "  </tbody>\n",
       "</table>\n",
       "<p>5 rows × 60 columns</p>\n",
       "</div>"
      ],
      "text/plain": [
       "  BTCUSDT Open Time   BTCUSDT Open   BTCUSDT High    BTCUSDT Low  \\\n",
       "0     1582863060000  8837.73000000  8842.99000000  8837.05000000   \n",
       "1     1582863120000  8839.86000000  8839.86000000  8833.32000000   \n",
       "2     1582863180000  8839.01000000  8844.10000000  8838.94000000   \n",
       "3     1582863240000  8840.92000000  8845.00000000  8840.40000000   \n",
       "4     1582863300000  8844.99000000  8848.58000000  8839.88000000   \n",
       "\n",
       "   BTCUSDT Close BTCUSDT Volume BTCUSDT Close Time BTCUSDT Quote asset volume  \\\n",
       "0  8840.38000000     5.57926400      1582863119999             49323.11848296   \n",
       "1  8839.01000000    13.08432200      1582863179999            115621.61752061   \n",
       "2  8840.55000000     9.99363600      1582863239999             88358.65312964   \n",
       "3  8844.99000000     9.09247600      1582863299999             80404.94322360   \n",
       "4  8848.56000000    13.98606300      1582863359999            123702.93343643   \n",
       "\n",
       "  BTCUSDT n_trades BTCUSDT Taker buy base asset volume  ... XRPUSDT High  \\\n",
       "0              179                          3.40028400  ...   0.24007000   \n",
       "1              281                          7.81688200  ...   0.23979000   \n",
       "2              261                          3.86961600  ...   0.23988000   \n",
       "3              173                          5.49887900  ...   0.23987000   \n",
       "4              238                         10.82688400  ...   0.23989000   \n",
       "\n",
       "  XRPUSDT Low XRPUSDT Close   XRPUSDT Volume XRPUSDT Close Time  \\\n",
       "0  0.23977000    0.23978000   83608.60000000      1582863119999   \n",
       "1  0.23957000    0.23975000  107348.50000000      1582863179999   \n",
       "2  0.23971000    0.23981000   80642.50000000      1582863239999   \n",
       "3  0.23961000    0.23982000   82288.00000000      1582863299999   \n",
       "4  0.23964000    0.23985000   36333.70000000      1582863359999   \n",
       "\n",
       "  XRPUSDT Quote asset volume XRPUSDT n_trades  \\\n",
       "0             20058.60494400               56   \n",
       "1             25728.93567000               81   \n",
       "2             19336.99056100               44   \n",
       "3             19730.65811400               45   \n",
       "4              8711.05874500               37   \n",
       "\n",
       "  XRPUSDT Taker buy base asset volume XRPUSDT Taker buy quote asset volume  \\\n",
       "0                      31384.80000000                        7531.39594800   \n",
       "1                      49487.40000000                       11862.41286700   \n",
       "2                      17333.90000000                        4156.74576500   \n",
       "3                      26578.10000000                        6372.05203900   \n",
       "4                      10910.50000000                        2616.28488700   \n",
       "\n",
       "  XRPUSDT Ignore  \n",
       "0              0  \n",
       "1              0  \n",
       "2              0  \n",
       "3              0  \n",
       "4              0  \n",
       "\n",
       "[5 rows x 60 columns]"
      ]
     },
     "execution_count": 33,
     "metadata": {},
     "output_type": "execute_result"
    }
   ],
   "source": [
    "coins.head()"
   ]
  },
  {
   "cell_type": "code",
   "execution_count": 10,
   "metadata": {},
   "outputs": [],
   "source": [
    "\"\"\"\n",
    "USED TO CHECK IF THERE ARE ANY SUDDEN JUMPS IN THE TIMESTAMPS\n",
    "\"\"\"\n",
    "\n",
    "def test_time_skip(df, currencies):\n",
    "    diff = 0\n",
    "    df_len = len(df)\n",
    "    for i in range(0,df_len-1):\n",
    "        for currency in currencies:\n",
    "            if i == 0:\n",
    "                #get first time difference to compare with the rest\n",
    "                diff = df[currency+' Open Time'].iloc[i+1] - df[currency+' Open Time'].iloc[i]\n",
    "            if (df[currency+' Open Time'].iloc[i+1] - df[\n",
    "                    currency+' Open Time'].iloc[i] != diff):\n",
    "                print('Time difference: ',(df[currency+' Open Time'\n",
    "                                  ].iloc[i+1] - df[currency+' Open Time'].iloc[i]), currency)\n",
    "                print('time 1: ',df[currency+' Open Time'].iloc[i+1],i+1)\n",
    "                print('time 2: ',df[currency+' Open Time'].iloc[i],i)\n"
   ]
  },
  {
   "cell_type": "code",
   "execution_count": 34,
   "metadata": {},
   "outputs": [],
   "source": [
    "test_time_skip(coins,coin_list)"
   ]
  },
  {
   "cell_type": "markdown",
   "metadata": {},
   "source": [
    "There might some time jumps due to server downtime of binance upgrades etc..\n",
    "if we search for 9/2/2020 on google binance we can see there was a maintenance"
   ]
  },
  {
   "cell_type": "code",
   "execution_count": 12,
   "metadata": {},
   "outputs": [],
   "source": [
    "\"\"\"\n",
    "remove ignore column and repeated timestamp columns\n",
    "\"\"\"\n",
    "def clean_data(df, currencies):\n",
    "    coins['Timestamp'] = df[currencies[0]+' Close Time']\n",
    "    for currency in currencies:\n",
    "        df.drop(currency+' Ignore', axis=1, inplace=True)\n",
    "        df.drop([currency+' Open Time',\n",
    "                 currency+' Close Time'],\n",
    "                 axis=1, inplace=True)\n"
   ]
  },
  {
   "cell_type": "code",
   "execution_count": 13,
   "metadata": {},
   "outputs": [],
   "source": [
    "clean_data(coins, coin_list)"
   ]
  },
  {
   "cell_type": "code",
   "execution_count": 14,
   "metadata": {},
   "outputs": [],
   "source": [
    "coins['Timestamp'] = coins['Timestamp'].apply(\n",
    "    lambda x: datetime.fromtimestamp(int(x/1000)))"
   ]
  },
  {
   "cell_type": "code",
   "execution_count": 15,
   "metadata": {},
   "outputs": [
    {
     "name": "stdout",
     "output_type": "stream",
     "text": [
      "Data timeframe:\n",
      "From:   2020-03-02 16:17:59\n",
      "To      2020-02-28 05:07:59\n"
     ]
    }
   ],
   "source": [
    "print('Data timeframe:')\n",
    "print( 'From:  ',coins['Timestamp'].max())\n",
    "print( 'To     ',coins['Timestamp'].min())"
   ]
  },
  {
   "cell_type": "code",
   "execution_count": 16,
   "metadata": {},
   "outputs": [],
   "source": [
    "for i in coins.columns:\n",
    "    if i != 'Timestamp':\n",
    "        coins[i] = coins[i].astype(float)"
   ]
  },
  {
   "cell_type": "code",
   "execution_count": 17,
   "metadata": {},
   "outputs": [
    {
     "data": {
      "text/plain": [
       "<matplotlib.axes._subplots.AxesSubplot at 0x7f89a4c8cfd0>"
      ]
     },
     "execution_count": 17,
     "metadata": {},
     "output_type": "execute_result"
    },
    {
     "data": {
      "image/png": "[encoded data removed]",
      "text/plain": [
       "<Figure size 1152x576 with 1 Axes>"
      ]
     },
     "metadata": {},
     "output_type": "display_data"
    }
   ],
   "source": [
    "plt.figure(figsize=(16,8))\n",
    "coins['BTCUSDT Close'].iloc[:500].plot()"
   ]
  },
  {
   "cell_type": "code",
   "execution_count": 18,
   "metadata": {},
   "outputs": [],
   "source": [
    "SEQUENCE_LEN = 240\n",
    "FUTURE_PERIOD_PREDICT = 60\n",
    "RATIO_TO_PREDICT = 'BTCUSDT'"
   ]
  },
  {
   "cell_type": "code",
   "execution_count": 19,
   "metadata": {},
   "outputs": [],
   "source": [
    "#i want to predict if in the next FUTURE_PERIOD_PREDICT\n",
    "# the price will be higher than 1.25% of the current value\n",
    "def classify(current_price, future_price):\n",
    "    if future_price > (current_price + current_price*0.0125):\n",
    "        return 1\n",
    "    return 0"
   ]
  },
  {
   "cell_type": "code",
   "execution_count": 20,
   "metadata": {},
   "outputs": [],
   "source": [
    "coins['Future Value'] = coins['BTCUSDT Close'].shift(-FUTURE_PERIOD_PREDICT)"
   ]
  },
  {
   "cell_type": "code",
   "execution_count": 21,
   "metadata": {},
   "outputs": [],
   "source": [
    "coins.dropna(inplace=True)"
   ]
  },
  {
   "cell_type": "code",
   "execution_count": 22,
   "metadata": {},
   "outputs": [],
   "source": [
    "#coins['Target'] = list(map(classify, coins['BTCUSDT High'], coins['Future Value']))"
   ]
  },
  {
   "cell_type": "code",
   "execution_count": 23,
   "metadata": {},
   "outputs": [],
   "source": [
    "#coins['Target'].unique()"
   ]
  },
  {
   "cell_type": "code",
   "execution_count": 24,
   "metadata": {},
   "outputs": [],
   "source": [
    "# I set the future value to \n",
    "\n",
    "max_len = len(coins)\n",
    "for i in range(0,max_len-SEQUENCE_LEN):\n",
    "    current_max_price = coins['BTCUSDT High'][i]\n",
    "    for x in range(i,i+SEQUENCE_LEN):\n",
    "        if coins['BTCUSDT High'][x] > current_max_price:\n",
    "            current_max_price = coins['BTCUSDT High'][x]\n",
    "    coins['Future Value'].replace(x,current_max_price)"
   ]
  },
  {
   "cell_type": "code",
   "execution_count": 25,
   "metadata": {},
   "outputs": [],
   "source": [
    "coins['Target'] = list(map(classify, coins['BTCUSDT High'], coins['Future Value']))"
   ]
  },
  {
   "cell_type": "code",
   "execution_count": 27,
   "metadata": {},
   "outputs": [
    {
     "data": {
      "text/plain": [
       "BTCUSDT Open                            107\n",
       "BTCUSDT High                            107\n",
       "BTCUSDT Low                             107\n",
       "BTCUSDT Close                           107\n",
       "BTCUSDT Volume                          107\n",
       "BTCUSDT Quote asset volume              107\n",
       "BTCUSDT n_trades                        107\n",
       "BTCUSDT Taker buy base asset volume     107\n",
       "BTCUSDT Taker buy quote asset volume    107\n",
       "ETHUSDT Open                            107\n",
       "ETHUSDT High                            107\n",
       "ETHUSDT Low                             107\n",
       "ETHUSDT Close                           107\n",
       "ETHUSDT Volume                          107\n",
       "ETHUSDT Quote asset volume              107\n",
       "ETHUSDT n_trades                        107\n",
       "ETHUSDT Taker buy base asset volume     107\n",
       "ETHUSDT Taker buy quote asset volume    107\n",
       "BCHUSDT Open                            107\n",
       "BCHUSDT High                            107\n",
       "BCHUSDT Low                             107\n",
       "BCHUSDT Close                           107\n",
       "BCHUSDT Volume                          107\n",
       "BCHUSDT Quote asset volume              107\n",
       "BCHUSDT n_trades                        107\n",
       "BCHUSDT Taker buy base asset volume     107\n",
       "BCHUSDT Taker buy quote asset volume    107\n",
       "LTCUSDT Open                            107\n",
       "LTCUSDT High                            107\n",
       "LTCUSDT Low                             107\n",
       "LTCUSDT Close                           107\n",
       "LTCUSDT Volume                          107\n",
       "LTCUSDT Quote asset volume              107\n",
       "LTCUSDT n_trades                        107\n",
       "LTCUSDT Taker buy base asset volume     107\n",
       "LTCUSDT Taker buy quote asset volume    107\n",
       "XRPUSDT Open                            107\n",
       "XRPUSDT High                            107\n",
       "XRPUSDT Low                             107\n",
       "XRPUSDT Close                           107\n",
       "XRPUSDT Volume                          107\n",
       "XRPUSDT Quote asset volume              107\n",
       "XRPUSDT n_trades                        107\n",
       "XRPUSDT Taker buy base asset volume     107\n",
       "XRPUSDT Taker buy quote asset volume    107\n",
       "Timestamp                               107\n",
       "Future Value                            107\n",
       "Target                                  107\n",
       "dtype: int64"
      ]
     },
     "execution_count": 27,
     "metadata": {},
     "output_type": "execute_result"
    }
   ],
   "source": [
    "coins[ coins['Target'] ==1].count()"
   ]
  },
  {
   "cell_type": "code",
   "execution_count": 30,
   "metadata": {},
   "outputs": [
    {
     "data": {
      "text/plain": [
       "BTCUSDT Open                            4931\n",
       "BTCUSDT High                            4931\n",
       "BTCUSDT Low                             4931\n",
       "BTCUSDT Close                           4931\n",
       "BTCUSDT Volume                          4931\n",
       "BTCUSDT Quote asset volume              4931\n",
       "BTCUSDT n_trades                        4931\n",
       "BTCUSDT Taker buy base asset volume     4931\n",
       "BTCUSDT Taker buy quote asset volume    4931\n",
       "ETHUSDT Open                            4931\n",
       "ETHUSDT High                            4931\n",
       "ETHUSDT Low                             4931\n",
       "ETHUSDT Close                           4931\n",
       "ETHUSDT Volume                          4931\n",
       "ETHUSDT Quote asset volume              4931\n",
       "ETHUSDT n_trades                        4931\n",
       "ETHUSDT Taker buy base asset volume     4931\n",
       "ETHUSDT Taker buy quote asset volume    4931\n",
       "BCHUSDT Open                            4931\n",
       "BCHUSDT High                            4931\n",
       "BCHUSDT Low                             4931\n",
       "BCHUSDT Close                           4931\n",
       "BCHUSDT Volume                          4931\n",
       "BCHUSDT Quote asset volume              4931\n",
       "BCHUSDT n_trades                        4931\n",
       "BCHUSDT Taker buy base asset volume     4931\n",
       "BCHUSDT Taker buy quote asset volume    4931\n",
       "LTCUSDT Open                            4931\n",
       "LTCUSDT High                            4931\n",
       "LTCUSDT Low                             4931\n",
       "LTCUSDT Close                           4931\n",
       "LTCUSDT Volume                          4931\n",
       "LTCUSDT Quote asset volume              4931\n",
       "LTCUSDT n_trades                        4931\n",
       "LTCUSDT Taker buy base asset volume     4931\n",
       "LTCUSDT Taker buy quote asset volume    4931\n",
       "XRPUSDT Open                            4931\n",
       "XRPUSDT High                            4931\n",
       "XRPUSDT Low                             4931\n",
       "XRPUSDT Close                           4931\n",
       "XRPUSDT Volume                          4931\n",
       "XRPUSDT Quote asset volume              4931\n",
       "XRPUSDT n_trades                        4931\n",
       "XRPUSDT Taker buy base asset volume     4931\n",
       "XRPUSDT Taker buy quote asset volume    4931\n",
       "Timestamp                               4931\n",
       "Future Value                            4931\n",
       "Target                                  4931\n",
       "dtype: int64"
      ]
     },
     "execution_count": 30,
     "metadata": {},
     "output_type": "execute_result"
    }
   ],
   "source": [
    "coins.notnull().count()"
   ]
  },
  {
   "cell_type": "code",
   "execution_count": 38,
   "metadata": {},
   "outputs": [],
   "source": [
    "coins_15min = get_data_by_intervals(15,coin_list,Client.KLINE_INTERVAL_15MINUTE)"
   ]
  },
  {
   "cell_type": "code",
   "execution_count": 39,
   "metadata": {},
   "outputs": [],
   "source": [
    "coins_15min.to_csv('interval_15min.csv')"
   ]
  },
  {
   "cell_type": "code",
   "execution_count": 40,
   "metadata": {},
   "outputs": [],
   "source": [
    "coins_5min = get_data_by_intervals(15,coin_list,Client.KLINE_INTERVAL_5MINUTE)"
   ]
  },
  {
   "cell_type": "code",
   "execution_count": 41,
   "metadata": {},
   "outputs": [],
   "source": [
    "coins_5min.to_csv('interval_5min.csv')"
   ]
  },
  {
   "cell_type": "code",
   "execution_count": 44,
   "metadata": {},
   "outputs": [],
   "source": [
    "coins_1min = get_data_by_intervals(15,coin_list,Client.KLINE_INTERVAL_1MINUTE)"
   ]
  },
  {
   "cell_type": "code",
   "execution_count": 45,
   "metadata": {},
   "outputs": [],
   "source": [
    "coins_1min.to_csv('interval_1min.csv')"
   ]
  },
  {
   "cell_type": "code",
   "execution_count": 49,
   "metadata": {},
   "outputs": [
    {
     "name": "stdout",
     "output_type": "stream",
     "text": [
      "<class 'pandas.core.frame.DataFrame'>\n",
      "RangeIndex: 7486 entries, 0 to 7485\n",
      "Data columns (total 60 columns):\n",
      " #   Column                                Non-Null Count  Dtype \n",
      "---  ------                                --------------  ----- \n",
      " 0   BTCUSDT Open Time                     7486 non-null   object\n",
      " 1   BTCUSDT Open                          7486 non-null   object\n",
      " 2   BTCUSDT High                          7486 non-null   object\n",
      " 3   BTCUSDT Low                           7486 non-null   object\n",
      " 4   BTCUSDT Close                         7486 non-null   object\n",
      " 5   BTCUSDT Volume                        7486 non-null   object\n",
      " 6   BTCUSDT Close Time                    7486 non-null   object\n",
      " 7   BTCUSDT Quote asset volume            7486 non-null   object\n",
      " 8   BTCUSDT n_trades                      7486 non-null   object\n",
      " 9   BTCUSDT Taker buy base asset volume   7486 non-null   object\n",
      " 10  BTCUSDT Taker buy quote asset volume  7486 non-null   object\n",
      " 11  BTCUSDT Ignore                        7486 non-null   object\n",
      " 12  ETHUSDT Open Time                     7486 non-null   object\n",
      " 13  ETHUSDT Open                          7486 non-null   object\n",
      " 14  ETHUSDT High                          7486 non-null   object\n",
      " 15  ETHUSDT Low                           7486 non-null   object\n",
      " 16  ETHUSDT Close                         7486 non-null   object\n",
      " 17  ETHUSDT Volume                        7486 non-null   object\n",
      " 18  ETHUSDT Close Time                    7486 non-null   object\n",
      " 19  ETHUSDT Quote asset volume            7486 non-null   object\n",
      " 20  ETHUSDT n_trades                      7486 non-null   object\n",
      " 21  ETHUSDT Taker buy base asset volume   7486 non-null   object\n",
      " 22  ETHUSDT Taker buy quote asset volume  7486 non-null   object\n",
      " 23  ETHUSDT Ignore                        7486 non-null   object\n",
      " 24  BCHUSDT Open Time                     7486 non-null   object\n",
      " 25  BCHUSDT Open                          7486 non-null   object\n",
      " 26  BCHUSDT High                          7486 non-null   object\n",
      " 27  BCHUSDT Low                           7486 non-null   object\n",
      " 28  BCHUSDT Close                         7486 non-null   object\n",
      " 29  BCHUSDT Volume                        7486 non-null   object\n",
      " 30  BCHUSDT Close Time                    7486 non-null   object\n",
      " 31  BCHUSDT Quote asset volume            7486 non-null   object\n",
      " 32  BCHUSDT n_trades                      7486 non-null   object\n",
      " 33  BCHUSDT Taker buy base asset volume   7486 non-null   object\n",
      " 34  BCHUSDT Taker buy quote asset volume  7486 non-null   object\n",
      " 35  BCHUSDT Ignore                        7486 non-null   object\n",
      " 36  LTCUSDT Open Time                     7486 non-null   object\n",
      " 37  LTCUSDT Open                          7486 non-null   object\n",
      " 38  LTCUSDT High                          7486 non-null   object\n",
      " 39  LTCUSDT Low                           7486 non-null   object\n",
      " 40  LTCUSDT Close                         7486 non-null   object\n",
      " 41  LTCUSDT Volume                        7486 non-null   object\n",
      " 42  LTCUSDT Close Time                    7486 non-null   object\n",
      " 43  LTCUSDT Quote asset volume            7486 non-null   object\n",
      " 44  LTCUSDT n_trades                      7486 non-null   object\n",
      " 45  LTCUSDT Taker buy base asset volume   7486 non-null   object\n",
      " 46  LTCUSDT Taker buy quote asset volume  7486 non-null   object\n",
      " 47  LTCUSDT Ignore                        7486 non-null   object\n",
      " 48  XRPUSDT Open Time                     7486 non-null   object\n",
      " 49  XRPUSDT Open                          7486 non-null   object\n",
      " 50  XRPUSDT High                          7486 non-null   object\n",
      " 51  XRPUSDT Low                           7486 non-null   object\n",
      " 52  XRPUSDT Close                         7486 non-null   object\n",
      " 53  XRPUSDT Volume                        7486 non-null   object\n",
      " 54  XRPUSDT Close Time                    7486 non-null   object\n",
      " 55  XRPUSDT Quote asset volume            7486 non-null   object\n",
      " 56  XRPUSDT n_trades                      7486 non-null   object\n",
      " 57  XRPUSDT Taker buy base asset volume   7486 non-null   object\n",
      " 58  XRPUSDT Taker buy quote asset volume  7486 non-null   object\n",
      " 59  XRPUSDT Ignore                        7486 non-null   object\n",
      "dtypes: object(60)\n",
      "memory usage: 3.4+ MB\n"
     ]
    }
   ],
   "source": [
    "coins_5min.info()"
   ]
  },
  {
   "cell_type": "code",
   "execution_count": null,
   "metadata": {},
   "outputs": [],
   "source": []
  }
 ],
 "metadata": {
  "kernelspec": {
   "display_name": "Python 3",
   "language": "python",
   "name": "python3"
  },
  "language_info": {
   "codemirror_mode": {
    "name": "ipython",
    "version": 3
   },
   "file_extension": ".py",
   "mimetype": "text/x-python",
   "name": "python",
   "nbconvert_exporter": "python",
   "pygments_lexer": "ipython3",
   "version": "3.8.1"
  }
 },
 "nbformat": 4,
 "nbformat_minor": 4
}
