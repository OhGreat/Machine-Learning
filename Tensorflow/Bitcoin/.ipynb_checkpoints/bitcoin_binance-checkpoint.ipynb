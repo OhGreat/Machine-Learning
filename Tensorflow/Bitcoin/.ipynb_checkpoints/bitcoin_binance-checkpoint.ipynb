{
 "cells": [
  {
   "cell_type": "code",
   "execution_count": 1,
   "metadata": {},
   "outputs": [],
   "source": [
    "import numpy as np\n",
    "import pandas as pd\n",
    "import matplotlib.pyplot as plt\n",
    "import seaborn as sns\n",
    "from datetime import datetime, timedelta"
   ]
  },
  {
   "cell_type": "code",
   "execution_count": 2,
   "metadata": {},
   "outputs": [],
   "source": [
    "%matplotlib inline\n",
    "sns.set_style(style='whitegrid')"
   ]
  },
  {
   "cell_type": "code",
   "execution_count": 3,
   "metadata": {},
   "outputs": [],
   "source": [
    "from keys import keys\n",
    "from binance.client import Client"
   ]
  },
  {
   "cell_type": "code",
   "execution_count": 4,
   "metadata": {},
   "outputs": [],
   "source": [
    "client = Client(api_key=keys.apiKey, api_secret=keys.secretKey)"
   ]
  },
  {
   "cell_type": "code",
   "execution_count": 5,
   "metadata": {},
   "outputs": [],
   "source": [
    "\"\"\"\n",
    "The various columns used by Binance\n",
    "taken from:\n",
    "https://python-binance.readthedocs.io/en/latest/binance.html#module-binance.client\n",
    "\"\"\"\n",
    "\n",
    "columns = ['Open Time', 'Open', 'High', 'Low', 'Close',\n",
    "            'Volume', 'Close Time', 'Quote asset volume', \n",
    "            'n_trades', 'Taker buy base asset volume', \n",
    "            'Taker buy quote asset volume', 'Ignore']"
   ]
  },
  {
   "cell_type": "code",
   "execution_count": 52,
   "metadata": {},
   "outputs": [],
   "source": [
    "\"\"\"\n",
    "DOWNLOADS DATA FROM BINANCE IN BATCHES OF 500 items\n",
    "\n",
    "INPUTS:\n",
    "    n_iterations: how many batches of 500 items to download\n",
    "    \n",
    "    currency: one of the varios currencies, examples: \n",
    "                'BTCUSDT', 'LTCUSDT' ...etc\n",
    "    interval: dictionary, example: interval_5min = { \n",
    "                                        'interval' : Client.KLINE_INTERVAL_5MINUTE,\n",
    "                                        'interval_diff' : 300000 \n",
    "                                    }\n",
    "            interval_diff: the difference in millisec of of new_data[1][0] - new_data[0][0]\n",
    "            (the difference in binance timeframes of misurations)\n",
    "\"\"\"\n",
    "def get_by_intervals(n_iterations, currencies, interval):\n",
    "    main_df = pd.DataFrame()\n",
    "    \n",
    "    for currency in currencies:\n",
    "        currency_cols = []\n",
    "        for col in columns:\n",
    "            currency_cols.append(currency+' '+col)\n",
    "        \n",
    "        df = pd.DataFrame(columns=currency_cols)\n",
    "        \n",
    "        for i in range(0,n_iterations):\n",
    "            if df.empty:\n",
    "                new_data = client.get_klines(symbol=currency, \n",
    "                                  interval=interval['interval'])\n",
    "            else:\n",
    "                end_time = df[currency+' Open Time'].iloc[0] - interval['interval_diff']\n",
    "                new_data = client.get_klines(symbol=currency, \n",
    "                                  interval=interval['interval'],\n",
    "                                  endTime=end_time\n",
    "                                 )\n",
    "\n",
    "            new_data_df = pd.DataFrame(new_data, columns=currency_cols)\n",
    "            df = pd.concat([new_data_df,df])\n",
    "    return df"
   ]
  },
  {
   "cell_type": "code",
   "execution_count": 49,
   "metadata": {},
   "outputs": [],
   "source": [
    "\"\"\"\n",
    "interval_diff: new_data[1][0] - new_data[0][0]\n",
    "\"\"\"\n",
    "\n",
    "interval_1min = { 'interval' : Client.KLINE_INTERVAL_1MINUTE,\n",
    "                     'interval_diff': 60000 }\n",
    "\n",
    "interval_5min = { 'interval' : Client.KLINE_INTERVAL_5MINUTE,\n",
    "                    'interval_diff': 300000 }\n",
    "\n",
    "interval_15min = { 'interval' : Client.KLINE_INTERVAL_15MINUTE,\n",
    "                     'interval_diff': 900000 }"
   ]
  },
  {
   "cell_type": "code",
   "execution_count": 50,
   "metadata": {},
   "outputs": [],
   "source": [
    "\"\"\"\n",
    "USED TO TEST IF TIMESTAMPS ARE ALIGNED AND THERE ARE NO SUDDEN JUMPS\n",
    "\n",
    "if it doesn't output anything we're good\n",
    "\"\"\"\n",
    "\n",
    "def test_time_skip(i_init,i_end,df):\n",
    "    for i in range(i_init,i_end):\n",
    "        if (df['Open Time'].iloc[i+1] - df['Open Time'].iloc[i] != 300000):\n",
    "            print('FUUUCK',(df['Open Time'].iloc[i+1] - df['Open Time'].iloc[i]), \n",
    "                df['Open Time'].iloc[i+1], df['Open Time'].iloc[i],i)"
   ]
  },
  {
   "cell_type": "code",
   "execution_count": 53,
   "metadata": {},
   "outputs": [],
   "source": [
    "ltc_test = get_by_intervals(2, ['LTCUSDT'], interval_5min)"
   ]
  },
  {
   "cell_type": "code",
   "execution_count": 54,
   "metadata": {},
   "outputs": [
    {
     "name": "stdout",
     "output_type": "stream",
     "text": [
      "<class 'pandas.core.frame.DataFrame'>\n",
      "Int64Index: 1000 entries, 0 to 499\n",
      "Data columns (total 12 columns):\n",
      " #   Column                                Non-Null Count  Dtype \n",
      "---  ------                                --------------  ----- \n",
      " 0   LTCUSDT Open Time                     1000 non-null   object\n",
      " 1   LTCUSDT Open                          1000 non-null   object\n",
      " 2   LTCUSDT High                          1000 non-null   object\n",
      " 3   LTCUSDT Low                           1000 non-null   object\n",
      " 4   LTCUSDT Close                         1000 non-null   object\n",
      " 5   LTCUSDT Volume                        1000 non-null   object\n",
      " 6   LTCUSDT Close Time                    1000 non-null   object\n",
      " 7   LTCUSDT Quote asset volume            1000 non-null   object\n",
      " 8   LTCUSDT n_trades                      1000 non-null   object\n",
      " 9   LTCUSDT Taker buy base asset volume   1000 non-null   object\n",
      " 10  LTCUSDT Taker buy quote asset volume  1000 non-null   object\n",
      " 11  LTCUSDT Ignore                        1000 non-null   object\n",
      "dtypes: object(12)\n",
      "memory usage: 101.6+ KB\n"
     ]
    }
   ],
   "source": [
    "ltc_test.info()"
   ]
  },
  {
   "cell_type": "code",
   "execution_count": 11,
   "metadata": {},
   "outputs": [
    {
     "data": {
      "text/html": [
       "<div>\n",
       "<style scoped>\n",
       "    .dataframe tbody tr th:only-of-type {\n",
       "        vertical-align: middle;\n",
       "    }\n",
       "\n",
       "    .dataframe tbody tr th {\n",
       "        vertical-align: top;\n",
       "    }\n",
       "\n",
       "    .dataframe thead th {\n",
       "        text-align: right;\n",
       "    }\n",
       "</style>\n",
       "<table border=\"1\" class=\"dataframe\">\n",
       "  <thead>\n",
       "    <tr style=\"text-align: right;\">\n",
       "      <th></th>\n",
       "      <th>Open Time</th>\n",
       "      <th>Open</th>\n",
       "      <th>High</th>\n",
       "      <th>Low</th>\n",
       "      <th>Close</th>\n",
       "      <th>Volume</th>\n",
       "      <th>Close Time</th>\n",
       "      <th>Quote asset volume</th>\n",
       "      <th>n_trades</th>\n",
       "      <th>Taker buy base asset volume</th>\n",
       "      <th>Taker buy quote asset volume</th>\n",
       "      <th>Ignore</th>\n",
       "    </tr>\n",
       "  </thead>\n",
       "  <tbody>\n",
       "    <tr>\n",
       "      <th>0</th>\n",
       "      <td>1580048100000</td>\n",
       "      <td>54.42000000</td>\n",
       "      <td>54.47000000</td>\n",
       "      <td>54.36000000</td>\n",
       "      <td>54.39000000</td>\n",
       "      <td>1308.98130000</td>\n",
       "      <td>1580048399999</td>\n",
       "      <td>71230.32895910</td>\n",
       "      <td>166</td>\n",
       "      <td>341.49777000</td>\n",
       "      <td>18582.98915770</td>\n",
       "      <td>0</td>\n",
       "    </tr>\n",
       "    <tr>\n",
       "      <th>1</th>\n",
       "      <td>1580048400000</td>\n",
       "      <td>54.39000000</td>\n",
       "      <td>54.62000000</td>\n",
       "      <td>54.35000000</td>\n",
       "      <td>54.55000000</td>\n",
       "      <td>806.34478000</td>\n",
       "      <td>1580048699999</td>\n",
       "      <td>43962.68083620</td>\n",
       "      <td>105</td>\n",
       "      <td>577.33158000</td>\n",
       "      <td>31474.15278590</td>\n",
       "      <td>0</td>\n",
       "    </tr>\n",
       "    <tr>\n",
       "      <th>2</th>\n",
       "      <td>1580048700000</td>\n",
       "      <td>54.55000000</td>\n",
       "      <td>54.56000000</td>\n",
       "      <td>54.49000000</td>\n",
       "      <td>54.51000000</td>\n",
       "      <td>361.03031000</td>\n",
       "      <td>1580048999999</td>\n",
       "      <td>19684.34364560</td>\n",
       "      <td>58</td>\n",
       "      <td>128.00276000</td>\n",
       "      <td>6980.62792340</td>\n",
       "      <td>0</td>\n",
       "    </tr>\n",
       "    <tr>\n",
       "      <th>3</th>\n",
       "      <td>1580049000000</td>\n",
       "      <td>54.51000000</td>\n",
       "      <td>54.77000000</td>\n",
       "      <td>54.50000000</td>\n",
       "      <td>54.74000000</td>\n",
       "      <td>1410.87464000</td>\n",
       "      <td>1580049299999</td>\n",
       "      <td>77152.63184950</td>\n",
       "      <td>223</td>\n",
       "      <td>972.98667000</td>\n",
       "      <td>53200.30126720</td>\n",
       "      <td>0</td>\n",
       "    </tr>\n",
       "    <tr>\n",
       "      <th>4</th>\n",
       "      <td>1580049300000</td>\n",
       "      <td>54.75000000</td>\n",
       "      <td>54.79000000</td>\n",
       "      <td>54.71000000</td>\n",
       "      <td>54.78000000</td>\n",
       "      <td>402.56782000</td>\n",
       "      <td>1580049599999</td>\n",
       "      <td>22042.49401700</td>\n",
       "      <td>88</td>\n",
       "      <td>254.70184000</td>\n",
       "      <td>13947.33184940</td>\n",
       "      <td>0</td>\n",
       "    </tr>\n",
       "  </tbody>\n",
       "</table>\n",
       "</div>"
      ],
      "text/plain": [
       "       Open Time         Open         High          Low        Close  \\\n",
       "0  1580048100000  54.42000000  54.47000000  54.36000000  54.39000000   \n",
       "1  1580048400000  54.39000000  54.62000000  54.35000000  54.55000000   \n",
       "2  1580048700000  54.55000000  54.56000000  54.49000000  54.51000000   \n",
       "3  1580049000000  54.51000000  54.77000000  54.50000000  54.74000000   \n",
       "4  1580049300000  54.75000000  54.79000000  54.71000000  54.78000000   \n",
       "\n",
       "          Volume     Close Time Quote asset volume n_trades  \\\n",
       "0  1308.98130000  1580048399999     71230.32895910      166   \n",
       "1   806.34478000  1580048699999     43962.68083620      105   \n",
       "2   361.03031000  1580048999999     19684.34364560       58   \n",
       "3  1410.87464000  1580049299999     77152.63184950      223   \n",
       "4   402.56782000  1580049599999     22042.49401700       88   \n",
       "\n",
       "  Taker buy base asset volume Taker buy quote asset volume Ignore  \n",
       "0                341.49777000               18582.98915770      0  \n",
       "1                577.33158000               31474.15278590      0  \n",
       "2                128.00276000                6980.62792340      0  \n",
       "3                972.98667000               53200.30126720      0  \n",
       "4                254.70184000               13947.33184940      0  "
      ]
     },
     "execution_count": 11,
     "metadata": {},
     "output_type": "execute_result"
    }
   ],
   "source": [
    "ltc_test.head()"
   ]
  },
  {
   "cell_type": "code",
   "execution_count": 55,
   "metadata": {},
   "outputs": [
    {
     "ename": "KeyError",
     "evalue": "'Open Time'",
     "output_type": "error",
     "traceback": [
      "\u001b[0;31m---------------------------------------------------------------------------\u001b[0m",
      "\u001b[0;31mKeyError\u001b[0m                                  Traceback (most recent call last)",
      "\u001b[0;32m~/virtual_environments/python_data_science/lib/python3.8/site-packages/pandas/core/indexes/base.py\u001b[0m in \u001b[0;36mget_loc\u001b[0;34m(self, key, method, tolerance)\u001b[0m\n\u001b[1;32m   2645\u001b[0m             \u001b[0;32mtry\u001b[0m\u001b[0;34m:\u001b[0m\u001b[0;34m\u001b[0m\u001b[0;34m\u001b[0m\u001b[0m\n\u001b[0;32m-> 2646\u001b[0;31m                 \u001b[0;32mreturn\u001b[0m \u001b[0mself\u001b[0m\u001b[0;34m.\u001b[0m\u001b[0m_engine\u001b[0m\u001b[0;34m.\u001b[0m\u001b[0mget_loc\u001b[0m\u001b[0;34m(\u001b[0m\u001b[0mkey\u001b[0m\u001b[0;34m)\u001b[0m\u001b[0;34m\u001b[0m\u001b[0;34m\u001b[0m\u001b[0m\n\u001b[0m\u001b[1;32m   2647\u001b[0m             \u001b[0;32mexcept\u001b[0m \u001b[0mKeyError\u001b[0m\u001b[0;34m:\u001b[0m\u001b[0;34m\u001b[0m\u001b[0;34m\u001b[0m\u001b[0m\n",
      "\u001b[0;32mpandas/_libs/index.pyx\u001b[0m in \u001b[0;36mpandas._libs.index.IndexEngine.get_loc\u001b[0;34m()\u001b[0m\n",
      "\u001b[0;32mpandas/_libs/index.pyx\u001b[0m in \u001b[0;36mpandas._libs.index.IndexEngine.get_loc\u001b[0;34m()\u001b[0m\n",
      "\u001b[0;32mpandas/_libs/hashtable_class_helper.pxi\u001b[0m in \u001b[0;36mpandas._libs.hashtable.PyObjectHashTable.get_item\u001b[0;34m()\u001b[0m\n",
      "\u001b[0;32mpandas/_libs/hashtable_class_helper.pxi\u001b[0m in \u001b[0;36mpandas._libs.hashtable.PyObjectHashTable.get_item\u001b[0;34m()\u001b[0m\n",
      "\u001b[0;31mKeyError\u001b[0m: 'Open Time'",
      "\nDuring handling of the above exception, another exception occurred:\n",
      "\u001b[0;31mKeyError\u001b[0m                                  Traceback (most recent call last)",
      "\u001b[0;32m<ipython-input-55-314c33d0f9d4>\u001b[0m in \u001b[0;36m<module>\u001b[0;34m\u001b[0m\n\u001b[0;32m----> 1\u001b[0;31m \u001b[0mtest_time_skip\u001b[0m\u001b[0;34m(\u001b[0m\u001b[0;36m0\u001b[0m\u001b[0;34m,\u001b[0m\u001b[0;36m999\u001b[0m\u001b[0;34m,\u001b[0m\u001b[0mltc_test\u001b[0m\u001b[0;34m)\u001b[0m\u001b[0;34m\u001b[0m\u001b[0;34m\u001b[0m\u001b[0m\n\u001b[0m",
      "\u001b[0;32m<ipython-input-50-59be97a52cf5>\u001b[0m in \u001b[0;36mtest_time_skip\u001b[0;34m(i_init, i_end, df)\u001b[0m\n\u001b[1;32m      7\u001b[0m \u001b[0;32mdef\u001b[0m \u001b[0mtest_time_skip\u001b[0m\u001b[0;34m(\u001b[0m\u001b[0mi_init\u001b[0m\u001b[0;34m,\u001b[0m\u001b[0mi_end\u001b[0m\u001b[0;34m,\u001b[0m\u001b[0mdf\u001b[0m\u001b[0;34m)\u001b[0m\u001b[0;34m:\u001b[0m\u001b[0;34m\u001b[0m\u001b[0;34m\u001b[0m\u001b[0m\n\u001b[1;32m      8\u001b[0m     \u001b[0;32mfor\u001b[0m \u001b[0mi\u001b[0m \u001b[0;32min\u001b[0m \u001b[0mrange\u001b[0m\u001b[0;34m(\u001b[0m\u001b[0mi_init\u001b[0m\u001b[0;34m,\u001b[0m\u001b[0mi_end\u001b[0m\u001b[0;34m)\u001b[0m\u001b[0;34m:\u001b[0m\u001b[0;34m\u001b[0m\u001b[0;34m\u001b[0m\u001b[0m\n\u001b[0;32m----> 9\u001b[0;31m         \u001b[0;32mif\u001b[0m \u001b[0;34m(\u001b[0m\u001b[0mdf\u001b[0m\u001b[0;34m[\u001b[0m\u001b[0;34m'Open Time'\u001b[0m\u001b[0;34m]\u001b[0m\u001b[0;34m.\u001b[0m\u001b[0miloc\u001b[0m\u001b[0;34m[\u001b[0m\u001b[0mi\u001b[0m\u001b[0;34m+\u001b[0m\u001b[0;36m1\u001b[0m\u001b[0;34m]\u001b[0m \u001b[0;34m-\u001b[0m \u001b[0mdf\u001b[0m\u001b[0;34m[\u001b[0m\u001b[0;34m'Open Time'\u001b[0m\u001b[0;34m]\u001b[0m\u001b[0;34m.\u001b[0m\u001b[0miloc\u001b[0m\u001b[0;34m[\u001b[0m\u001b[0mi\u001b[0m\u001b[0;34m]\u001b[0m \u001b[0;34m!=\u001b[0m \u001b[0;36m300000\u001b[0m\u001b[0;34m)\u001b[0m\u001b[0;34m:\u001b[0m\u001b[0;34m\u001b[0m\u001b[0;34m\u001b[0m\u001b[0m\n\u001b[0m\u001b[1;32m     10\u001b[0m             print('FUUUCK',(df['Open Time'].iloc[i+1] - df['Open Time'].iloc[i]), \n\u001b[1;32m     11\u001b[0m                 df['Open Time'].iloc[i+1], df['Open Time'].iloc[i],i)\n",
      "\u001b[0;32m~/virtual_environments/python_data_science/lib/python3.8/site-packages/pandas/core/frame.py\u001b[0m in \u001b[0;36m__getitem__\u001b[0;34m(self, key)\u001b[0m\n\u001b[1;32m   2798\u001b[0m             \u001b[0;32mif\u001b[0m \u001b[0mself\u001b[0m\u001b[0;34m.\u001b[0m\u001b[0mcolumns\u001b[0m\u001b[0;34m.\u001b[0m\u001b[0mnlevels\u001b[0m \u001b[0;34m>\u001b[0m \u001b[0;36m1\u001b[0m\u001b[0;34m:\u001b[0m\u001b[0;34m\u001b[0m\u001b[0;34m\u001b[0m\u001b[0m\n\u001b[1;32m   2799\u001b[0m                 \u001b[0;32mreturn\u001b[0m \u001b[0mself\u001b[0m\u001b[0;34m.\u001b[0m\u001b[0m_getitem_multilevel\u001b[0m\u001b[0;34m(\u001b[0m\u001b[0mkey\u001b[0m\u001b[0;34m)\u001b[0m\u001b[0;34m\u001b[0m\u001b[0;34m\u001b[0m\u001b[0m\n\u001b[0;32m-> 2800\u001b[0;31m             \u001b[0mindexer\u001b[0m \u001b[0;34m=\u001b[0m \u001b[0mself\u001b[0m\u001b[0;34m.\u001b[0m\u001b[0mcolumns\u001b[0m\u001b[0;34m.\u001b[0m\u001b[0mget_loc\u001b[0m\u001b[0;34m(\u001b[0m\u001b[0mkey\u001b[0m\u001b[0;34m)\u001b[0m\u001b[0;34m\u001b[0m\u001b[0;34m\u001b[0m\u001b[0m\n\u001b[0m\u001b[1;32m   2801\u001b[0m             \u001b[0;32mif\u001b[0m \u001b[0mis_integer\u001b[0m\u001b[0;34m(\u001b[0m\u001b[0mindexer\u001b[0m\u001b[0;34m)\u001b[0m\u001b[0;34m:\u001b[0m\u001b[0;34m\u001b[0m\u001b[0;34m\u001b[0m\u001b[0m\n\u001b[1;32m   2802\u001b[0m                 \u001b[0mindexer\u001b[0m \u001b[0;34m=\u001b[0m \u001b[0;34m[\u001b[0m\u001b[0mindexer\u001b[0m\u001b[0;34m]\u001b[0m\u001b[0;34m\u001b[0m\u001b[0;34m\u001b[0m\u001b[0m\n",
      "\u001b[0;32m~/virtual_environments/python_data_science/lib/python3.8/site-packages/pandas/core/indexes/base.py\u001b[0m in \u001b[0;36mget_loc\u001b[0;34m(self, key, method, tolerance)\u001b[0m\n\u001b[1;32m   2646\u001b[0m                 \u001b[0;32mreturn\u001b[0m \u001b[0mself\u001b[0m\u001b[0;34m.\u001b[0m\u001b[0m_engine\u001b[0m\u001b[0;34m.\u001b[0m\u001b[0mget_loc\u001b[0m\u001b[0;34m(\u001b[0m\u001b[0mkey\u001b[0m\u001b[0;34m)\u001b[0m\u001b[0;34m\u001b[0m\u001b[0;34m\u001b[0m\u001b[0m\n\u001b[1;32m   2647\u001b[0m             \u001b[0;32mexcept\u001b[0m \u001b[0mKeyError\u001b[0m\u001b[0;34m:\u001b[0m\u001b[0;34m\u001b[0m\u001b[0;34m\u001b[0m\u001b[0m\n\u001b[0;32m-> 2648\u001b[0;31m                 \u001b[0;32mreturn\u001b[0m \u001b[0mself\u001b[0m\u001b[0;34m.\u001b[0m\u001b[0m_engine\u001b[0m\u001b[0;34m.\u001b[0m\u001b[0mget_loc\u001b[0m\u001b[0;34m(\u001b[0m\u001b[0mself\u001b[0m\u001b[0;34m.\u001b[0m\u001b[0m_maybe_cast_indexer\u001b[0m\u001b[0;34m(\u001b[0m\u001b[0mkey\u001b[0m\u001b[0;34m)\u001b[0m\u001b[0;34m)\u001b[0m\u001b[0;34m\u001b[0m\u001b[0;34m\u001b[0m\u001b[0m\n\u001b[0m\u001b[1;32m   2649\u001b[0m         \u001b[0mindexer\u001b[0m \u001b[0;34m=\u001b[0m \u001b[0mself\u001b[0m\u001b[0;34m.\u001b[0m\u001b[0mget_indexer\u001b[0m\u001b[0;34m(\u001b[0m\u001b[0;34m[\u001b[0m\u001b[0mkey\u001b[0m\u001b[0;34m]\u001b[0m\u001b[0;34m,\u001b[0m \u001b[0mmethod\u001b[0m\u001b[0;34m=\u001b[0m\u001b[0mmethod\u001b[0m\u001b[0;34m,\u001b[0m \u001b[0mtolerance\u001b[0m\u001b[0;34m=\u001b[0m\u001b[0mtolerance\u001b[0m\u001b[0;34m)\u001b[0m\u001b[0;34m\u001b[0m\u001b[0;34m\u001b[0m\u001b[0m\n\u001b[1;32m   2650\u001b[0m         \u001b[0;32mif\u001b[0m \u001b[0mindexer\u001b[0m\u001b[0;34m.\u001b[0m\u001b[0mndim\u001b[0m \u001b[0;34m>\u001b[0m \u001b[0;36m1\u001b[0m \u001b[0;32mor\u001b[0m \u001b[0mindexer\u001b[0m\u001b[0;34m.\u001b[0m\u001b[0msize\u001b[0m \u001b[0;34m>\u001b[0m \u001b[0;36m1\u001b[0m\u001b[0;34m:\u001b[0m\u001b[0;34m\u001b[0m\u001b[0;34m\u001b[0m\u001b[0m\n",
      "\u001b[0;32mpandas/_libs/index.pyx\u001b[0m in \u001b[0;36mpandas._libs.index.IndexEngine.get_loc\u001b[0;34m()\u001b[0m\n",
      "\u001b[0;32mpandas/_libs/index.pyx\u001b[0m in \u001b[0;36mpandas._libs.index.IndexEngine.get_loc\u001b[0;34m()\u001b[0m\n",
      "\u001b[0;32mpandas/_libs/hashtable_class_helper.pxi\u001b[0m in \u001b[0;36mpandas._libs.hashtable.PyObjectHashTable.get_item\u001b[0;34m()\u001b[0m\n",
      "\u001b[0;32mpandas/_libs/hashtable_class_helper.pxi\u001b[0m in \u001b[0;36mpandas._libs.hashtable.PyObjectHashTable.get_item\u001b[0;34m()\u001b[0m\n",
      "\u001b[0;31mKeyError\u001b[0m: 'Open Time'"
     ]
    }
   ],
   "source": [
    "test_time_skip(0,999,ltc_test)"
   ]
  },
  {
   "cell_type": "code",
   "execution_count": 13,
   "metadata": {},
   "outputs": [],
   "source": [
    "ltc_test[['Open','Close', 'High','Low', 'Volume', 'Quote asset volume', \n",
    "            'Taker buy base asset volume', 'Taker buy quote asset volume'\n",
    "           ]] = ltc_test[['Open','Close', 'High','Low', 'Volume', 'Quote asset volume', \n",
    "            'Taker buy base asset volume', 'Taker buy quote asset volume']].astype(float)"
   ]
  },
  {
   "cell_type": "code",
   "execution_count": 14,
   "metadata": {},
   "outputs": [],
   "source": [
    "ltc_test['Close Time'] = ltc_test['Close Time'].apply(\n",
    "    lambda x: datetime.fromtimestamp(int(x/1000)))\n",
    "ltc_test['Open Time'] = ltc_test['Open Time'].apply(\n",
    "    lambda x: datetime.fromtimestamp(int(x/1000)))"
   ]
  },
  {
   "cell_type": "code",
   "execution_count": 15,
   "metadata": {},
   "outputs": [
    {
     "name": "stdout",
     "output_type": "stream",
     "text": [
      "<class 'pandas.core.frame.DataFrame'>\n",
      "Int64Index: 10000 entries, 0 to 499\n",
      "Data columns (total 12 columns):\n",
      " #   Column                        Non-Null Count  Dtype         \n",
      "---  ------                        --------------  -----         \n",
      " 0   Open Time                     10000 non-null  datetime64[ns]\n",
      " 1   Open                          10000 non-null  float64       \n",
      " 2   High                          10000 non-null  float64       \n",
      " 3   Low                           10000 non-null  float64       \n",
      " 4   Close                         10000 non-null  float64       \n",
      " 5   Volume                        10000 non-null  float64       \n",
      " 6   Close Time                    10000 non-null  datetime64[ns]\n",
      " 7   Quote asset volume            10000 non-null  float64       \n",
      " 8   n_trades                      10000 non-null  object        \n",
      " 9   Taker buy base asset volume   10000 non-null  float64       \n",
      " 10  Taker buy quote asset volume  10000 non-null  float64       \n",
      " 11  Ignore                        10000 non-null  object        \n",
      "dtypes: datetime64[ns](2), float64(8), object(2)\n",
      "memory usage: 1015.6+ KB\n"
     ]
    }
   ],
   "source": [
    "ltc_test.info()"
   ]
  },
  {
   "cell_type": "code",
   "execution_count": 16,
   "metadata": {},
   "outputs": [
    {
     "name": "stdout",
     "output_type": "stream",
     "text": [
      "Data timeframe:\n",
      "From:   2020-03-01 15:24:59\n",
      "To      2020-01-26 15:19:59\n"
     ]
    }
   ],
   "source": [
    "print('Data timeframe:')\n",
    "print( 'From:  ',ltc_test['Close Time'].max())\n",
    "print( 'To     ',ltc_test['Close Time'].min())"
   ]
  },
  {
   "cell_type": "code",
   "execution_count": 17,
   "metadata": {},
   "outputs": [
    {
     "data": {
      "text/plain": [
       "<matplotlib.axes._subplots.AxesSubplot at 0x7fdc1112ae20>"
      ]
     },
     "execution_count": 17,
     "metadata": {},
     "output_type": "execute_result"
    },
    {
     "data": {
      "image/png": "[encoded data removed]",
      "text/plain": [
       "<Figure size 1152x576 with 1 Axes>"
      ]
     },
     "metadata": {},
     "output_type": "display_data"
    }
   ],
   "source": [
    "plt.figure(figsize=(16,8))\n",
    "ltc_test['Close'].iloc[:500].plot()"
   ]
  },
  {
   "cell_type": "code",
   "execution_count": 20,
   "metadata": {},
   "outputs": [],
   "source": [
    "new_data = client.get_klines(symbol='BTCEUR', \n",
    "                              interval=Client.KLINE_INTERVAL_1MINUTE)"
   ]
  },
  {
   "cell_type": "code",
   "execution_count": 24,
   "metadata": {},
   "outputs": [],
   "source": [
    "test = []\n",
    "for col in columns:\n",
    "    test.append(curre+col)"
   ]
  },
  {
   "cell_type": "code",
   "execution_count": 25,
   "metadata": {},
   "outputs": [
    {
     "data": {
      "text/plain": [
       "['Open Time BTC',\n",
       " 'Open BTC',\n",
       " 'High BTC',\n",
       " 'Low BTC',\n",
       " 'Close BTC',\n",
       " 'Volume BTC',\n",
       " 'Close Time BTC',\n",
       " 'Quote asset volume BTC',\n",
       " 'n_trades BTC',\n",
       " 'Taker buy base asset volume BTC',\n",
       " 'Taker buy quote asset volume BTC',\n",
       " 'Ignore BTC']"
      ]
     },
     "execution_count": 25,
     "metadata": {},
     "output_type": "execute_result"
    }
   ],
   "source": [
    "test"
   ]
  },
  {
   "cell_type": "code",
   "execution_count": 27,
   "metadata": {},
   "outputs": [
    {
     "ename": "AttributeError",
     "evalue": "'list' object has no attribute 'apply'",
     "output_type": "error",
     "traceback": [
      "\u001b[0;31m---------------------------------------------------------------------------\u001b[0m",
      "\u001b[0;31mAttributeError\u001b[0m                            Traceback (most recent call last)",
      "\u001b[0;32m<ipython-input-27-e3703493949f>\u001b[0m in \u001b[0;36m<module>\u001b[0;34m\u001b[0m\n\u001b[0;32m----> 1\u001b[0;31m \u001b[0mcolumns\u001b[0m\u001b[0;34m.\u001b[0m\u001b[0mapply\u001b[0m\u001b[0;34m(\u001b[0m \u001b[0;32mlambda\u001b[0m \u001b[0mx\u001b[0m\u001b[0;34m:\u001b[0m \u001b[0mx\u001b[0m\u001b[0;34m)\u001b[0m\u001b[0;34m\u001b[0m\u001b[0;34m\u001b[0m\u001b[0m\n\u001b[0m",
      "\u001b[0;31mAttributeError\u001b[0m: 'list' object has no attribute 'apply'"
     ]
    }
   ],
   "source": [
    "columns.apply( lambda x: x)"
   ]
  },
  {
   "cell_type": "code",
   "execution_count": 32,
   "metadata": {},
   "outputs": [
    {
     "ename": "TypeError",
     "evalue": "index expected at least 1 argument, got 0",
     "output_type": "error",
     "traceback": [
      "\u001b[0;31m---------------------------------------------------------------------------\u001b[0m",
      "\u001b[0;31mTypeError\u001b[0m                                 Traceback (most recent call last)",
      "\u001b[0;32m<ipython-input-32-69733a1cc473>\u001b[0m in \u001b[0;36m<module>\u001b[0;34m\u001b[0m\n\u001b[0;32m----> 1\u001b[0;31m \u001b[0mx\u001b[0m \u001b[0;34m=\u001b[0m \u001b[0mcolumns\u001b[0m\u001b[0;34m.\u001b[0m\u001b[0mindex\u001b[0m\u001b[0;34m(\u001b[0m\u001b[0;34m)\u001b[0m\u001b[0;34m\u001b[0m\u001b[0;34m\u001b[0m\u001b[0m\n\u001b[0m",
      "\u001b[0;31mTypeError\u001b[0m: index expected at least 1 argument, got 0"
     ]
    }
   ],
   "source": [
    "x = columns.index()"
   ]
  },
  {
   "cell_type": "code",
   "execution_count": 38,
   "metadata": {},
   "outputs": [
    {
     "data": {
      "text/plain": [
       "[None, None, None, None, None, None, None, None, None, None, None, None]"
      ]
     },
     "execution_count": 38,
     "metadata": {},
     "output_type": "execute_result"
    }
   ],
   "source": []
  },
  {
   "cell_type": "code",
   "execution_count": 41,
   "metadata": {},
   "outputs": [],
   "source": [
    "main_df_cols = []\n",
    "for col in columns:\n",
    "    main_df_cols.append('pippo  '+' '+col)"
   ]
  },
  {
   "cell_type": "code",
   "execution_count": 42,
   "metadata": {},
   "outputs": [
    {
     "data": {
      "text/plain": [
       "['pippo   Open Time',\n",
       " 'pippo   Open',\n",
       " 'pippo   High',\n",
       " 'pippo   Low',\n",
       " 'pippo   Close',\n",
       " 'pippo   Volume',\n",
       " 'pippo   Close Time',\n",
       " 'pippo   Quote asset volume',\n",
       " 'pippo   n_trades',\n",
       " 'pippo   Taker buy base asset volume',\n",
       " 'pippo   Taker buy quote asset volume',\n",
       " 'pippo   Ignore']"
      ]
     },
     "execution_count": 42,
     "metadata": {},
     "output_type": "execute_result"
    }
   ],
   "source": [
    "main_df_cols"
   ]
  },
  {
   "cell_type": "code",
   "execution_count": null,
   "metadata": {},
   "outputs": [],
   "source": []
  }
 ],
 "metadata": {
  "kernelspec": {
   "display_name": "Python 3",
   "language": "python",
   "name": "python3"
  },
  "language_info": {
   "codemirror_mode": {
    "name": "ipython",
    "version": 3
   },
   "file_extension": ".py",
   "mimetype": "text/x-python",
   "name": "python",
   "nbconvert_exporter": "python",
   "pygments_lexer": "ipython3",
   "version": "3.8.1"
  }
 },
 "nbformat": 4,
 "nbformat_minor": 4
}
