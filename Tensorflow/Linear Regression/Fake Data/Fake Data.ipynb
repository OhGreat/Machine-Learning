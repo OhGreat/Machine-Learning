{
 "cells": [
  {
   "cell_type": "code",
   "execution_count": 1,
   "metadata": {
    "colab": {
     "base_uri": "https://localhost:8080/",
     "height": 52
    },
    "colab_type": "code",
    "id": "zrdGD9J4oPpm",
    "outputId": "9f8ff390-72df-4db5-8890-fc5eab702fc6"
   },
   "outputs": [
    {
     "name": "stdout",
     "output_type": "stream",
     "text": [
      "TensorFlow 2.x selected.\n",
      "2.1.0\n"
     ]
    }
   ],
   "source": [
    "from __future__ import absolute_import, division, print_function, unicode_literals\n",
    "\n",
    "try:\n",
    "  # %tensorflow_version only exists in Colab.\n",
    "  %tensorflow_version 2.x\n",
    "except Exception:\n",
    "  pass\n",
    "\n",
    "import tensorflow as tf\n",
    "\n",
    "# Helper libraries\n",
    "import numpy as np\n",
    "import pandas as pd\n",
    "import matplotlib.pyplot as plt\n",
    "import seaborn as sns\n",
    "\n",
    "print(tf.__version__)"
   ]
  },
  {
   "cell_type": "code",
   "execution_count": 0,
   "metadata": {
    "colab": {},
    "colab_type": "code",
    "id": "FEVss8YYg7qL"
   },
   "outputs": [],
   "source": [
    "df  = pd.read_csv('fake_reg.csv')"
   ]
  },
  {
   "cell_type": "code",
   "execution_count": 3,
   "metadata": {
    "colab": {
     "base_uri": "https://localhost:8080/",
     "height": 206
    },
    "colab_type": "code",
    "id": "aCpAkSV5iNvt",
    "outputId": "b59bbdc7-b994-4e66-aa16-e116d5255529"
   },
   "outputs": [
    {
     "data": {
      "text/html": [
       "<div>\n",
       "<style scoped>\n",
       "    .dataframe tbody tr th:only-of-type {\n",
       "        vertical-align: middle;\n",
       "    }\n",
       "\n",
       "    .dataframe tbody tr th {\n",
       "        vertical-align: top;\n",
       "    }\n",
       "\n",
       "    .dataframe thead th {\n",
       "        text-align: right;\n",
       "    }\n",
       "</style>\n",
       "<table border=\"1\" class=\"dataframe\">\n",
       "  <thead>\n",
       "    <tr style=\"text-align: right;\">\n",
       "      <th></th>\n",
       "      <th>price</th>\n",
       "      <th>feature1</th>\n",
       "      <th>feature2</th>\n",
       "    </tr>\n",
       "  </thead>\n",
       "  <tbody>\n",
       "    <tr>\n",
       "      <th>0</th>\n",
       "      <td>461.527929</td>\n",
       "      <td>999.787558</td>\n",
       "      <td>999.766096</td>\n",
       "    </tr>\n",
       "    <tr>\n",
       "      <th>1</th>\n",
       "      <td>548.130011</td>\n",
       "      <td>998.861615</td>\n",
       "      <td>1001.042403</td>\n",
       "    </tr>\n",
       "    <tr>\n",
       "      <th>2</th>\n",
       "      <td>410.297162</td>\n",
       "      <td>1000.070267</td>\n",
       "      <td>998.844015</td>\n",
       "    </tr>\n",
       "    <tr>\n",
       "      <th>3</th>\n",
       "      <td>540.382220</td>\n",
       "      <td>999.952251</td>\n",
       "      <td>1000.440940</td>\n",
       "    </tr>\n",
       "    <tr>\n",
       "      <th>4</th>\n",
       "      <td>546.024553</td>\n",
       "      <td>1000.446011</td>\n",
       "      <td>1000.338531</td>\n",
       "    </tr>\n",
       "  </tbody>\n",
       "</table>\n",
       "</div>"
      ],
      "text/plain": [
       "        price     feature1     feature2\n",
       "0  461.527929   999.787558   999.766096\n",
       "1  548.130011   998.861615  1001.042403\n",
       "2  410.297162  1000.070267   998.844015\n",
       "3  540.382220   999.952251  1000.440940\n",
       "4  546.024553  1000.446011  1000.338531"
      ]
     },
     "execution_count": 3,
     "metadata": {
      "tags": []
     },
     "output_type": "execute_result"
    }
   ],
   "source": [
    "df.head()"
   ]
  },
  {
   "cell_type": "markdown",
   "metadata": {
    "colab_type": "text",
    "id": "kHWVPwAUiYp3"
   },
   "source": [
    "based on feature1 and feature2 we want to predict the price"
   ]
  },
  {
   "cell_type": "code",
   "execution_count": 4,
   "metadata": {
    "colab": {
     "base_uri": "https://localhost:8080/",
     "height": 584
    },
    "colab_type": "code",
    "id": "OyFhjE5EidXo",
    "outputId": "dc263d2f-d059-4ee6-88ca-e9b4e8e78567"
   },
   "outputs": [
    {
     "data": {
      "text/plain": [
       "<seaborn.axisgrid.PairGrid at 0x7f162020df60>"
      ]
     },
     "execution_count": 4,
     "metadata": {
      "tags": []
     },
     "output_type": "execute_result"
    },
    {
     "data": {
      "image/png": "[encoded data removed]",
      "text/plain": [
       "<Figure size 540x540 with 12 Axes>"
      ]
     },
     "metadata": {
      "tags": []
     },
     "output_type": "display_data"
    }
   ],
   "source": [
    "sns.pairplot(df)"
   ]
  },
  {
   "cell_type": "code",
   "execution_count": 0,
   "metadata": {
    "colab": {},
    "colab_type": "code",
    "id": "K6IB2rrPihXw"
   },
   "outputs": [],
   "source": [
    "from sklearn.model_selection import train_test_split"
   ]
  },
  {
   "cell_type": "code",
   "execution_count": 0,
   "metadata": {
    "colab": {},
    "colab_type": "code",
    "id": "_fQ7PtQJivSx"
   },
   "outputs": [],
   "source": [
    "X = df[['feature1', 'feature2']].values"
   ]
  },
  {
   "cell_type": "code",
   "execution_count": 0,
   "metadata": {
    "colab": {},
    "colab_type": "code",
    "id": "YDC1sssdi9Fw"
   },
   "outputs": [],
   "source": [
    "y = df['price'].values"
   ]
  },
  {
   "cell_type": "code",
   "execution_count": 0,
   "metadata": {
    "colab": {},
    "colab_type": "code",
    "id": "g1lRgmrsi-gF"
   },
   "outputs": [],
   "source": [
    "X_train, X_test, y_train, y_test = train_test_split(X, y, test_size=0.3, random_state=42)"
   ]
  },
  {
   "cell_type": "code",
   "execution_count": 9,
   "metadata": {
    "colab": {
     "base_uri": "https://localhost:8080/",
     "height": 34
    },
    "colab_type": "code",
    "id": "w58E2TqTjCCy",
    "outputId": "f836e967-885c-42fc-fa31-a2d2abf1dfec"
   },
   "outputs": [
    {
     "data": {
      "text/plain": [
       "(700, 2)"
      ]
     },
     "execution_count": 9,
     "metadata": {
      "tags": []
     },
     "output_type": "execute_result"
    }
   ],
   "source": [
    "X_train.shape"
   ]
  },
  {
   "cell_type": "code",
   "execution_count": 0,
   "metadata": {
    "colab": {},
    "colab_type": "code",
    "id": "ulzVIEMXjean"
   },
   "outputs": [],
   "source": [
    "from sklearn.preprocessing import MinMaxScaler"
   ]
  },
  {
   "cell_type": "code",
   "execution_count": 0,
   "metadata": {
    "colab": {},
    "colab_type": "code",
    "id": "DZNzdPnrjuOo"
   },
   "outputs": [],
   "source": [
    "# help(MinMaxScaler)"
   ]
  },
  {
   "cell_type": "code",
   "execution_count": 0,
   "metadata": {
    "colab": {},
    "colab_type": "code",
    "id": "40r-GRzPjxQB"
   },
   "outputs": [],
   "source": [
    "scaler = MinMaxScaler()"
   ]
  },
  {
   "cell_type": "code",
   "execution_count": 13,
   "metadata": {
    "colab": {
     "base_uri": "https://localhost:8080/",
     "height": 34
    },
    "colab_type": "code",
    "id": "CP8e1spLj-iv",
    "outputId": "ec455661-de5f-4448-da7f-d75287b60def"
   },
   "outputs": [
    {
     "data": {
      "text/plain": [
       "MinMaxScaler(copy=True, feature_range=(0, 1))"
      ]
     },
     "execution_count": 13,
     "metadata": {
      "tags": []
     },
     "output_type": "execute_result"
    }
   ],
   "source": [
    "scaler.fit(X_train)"
   ]
  },
  {
   "cell_type": "markdown",
   "metadata": {
    "colab_type": "text",
    "id": "k2UCwgKLkaZe"
   },
   "source": [
    "we can only fit on the train data, using the test data would be cheating :)"
   ]
  },
  {
   "cell_type": "code",
   "execution_count": 0,
   "metadata": {
    "colab": {},
    "colab_type": "code",
    "id": "_MVNpCrgkHZF"
   },
   "outputs": [],
   "source": [
    "X_train = scaler.transform(X_train)"
   ]
  },
  {
   "cell_type": "code",
   "execution_count": 0,
   "metadata": {
    "colab": {},
    "colab_type": "code",
    "id": "8kZcAzXlkO4a"
   },
   "outputs": [],
   "source": [
    "X_test = scaler.transform(X_test)"
   ]
  },
  {
   "cell_type": "code",
   "execution_count": 0,
   "metadata": {
    "colab": {},
    "colab_type": "code",
    "id": "WnDBQKh1kR5V"
   },
   "outputs": [],
   "source": [
    "from tensorflow.keras.models import Sequential\n",
    "from tensorflow.keras.layers import Dense"
   ]
  },
  {
   "cell_type": "code",
   "execution_count": 0,
   "metadata": {
    "colab": {},
    "colab_type": "code",
    "id": "7dEJJ8-vkz-k"
   },
   "outputs": [],
   "source": [
    "model = Sequential()\n",
    "\n",
    "model.add(Dense(4,activation='relu'))\n",
    "model.add(Dense(4,activation='relu'))\n",
    "model.add(Dense(4,activation='relu'))\n",
    "\n",
    "model.add(Dense(1))\n",
    "\n",
    "model.compile(optimizer='rmsprop', loss='mse')"
   ]
  },
  {
   "cell_type": "code",
   "execution_count": 18,
   "metadata": {
    "colab": {
     "base_uri": "https://localhost:8080/",
     "height": 1000
    },
    "colab_type": "code",
    "id": "f60Stp-yltLL",
    "outputId": "701b74de-53b1-48de-eb77-119d74d0beaa"
   },
   "outputs": [
    {
     "name": "stdout",
     "output_type": "stream",
     "text": [
      "Train on 700 samples\n",
      "Epoch 1/250\n",
      "700/700 [==============================] - 0s 703us/sample - loss: 256116.1007\n",
      "Epoch 2/250\n",
      "700/700 [==============================] - 0s 52us/sample - loss: 255919.1095\n",
      "Epoch 3/250\n",
      "700/700 [==============================] - 0s 52us/sample - loss: 255716.1034\n",
      "Epoch 4/250\n",
      "700/700 [==============================] - 0s 60us/sample - loss: 255491.0184\n",
      "Epoch 5/250\n",
      "700/700 [==============================] - 0s 64us/sample - loss: 255241.4854\n",
      "Epoch 6/250\n",
      "700/700 [==============================] - 0s 54us/sample - loss: 254964.2891\n",
      "Epoch 7/250\n",
      "700/700 [==============================] - 0s 59us/sample - loss: 254659.0277\n",
      "Epoch 8/250\n",
      "700/700 [==============================] - 0s 61us/sample - loss: 254322.5278\n",
      "Epoch 9/250\n",
      "700/700 [==============================] - 0s 62us/sample - loss: 253954.5255\n",
      "Epoch 10/250\n",
      "700/700 [==============================] - 0s 56us/sample - loss: 253547.8470\n",
      "Epoch 11/250\n",
      "700/700 [==============================] - 0s 60us/sample - loss: 253103.8312\n",
      "Epoch 12/250\n",
      "700/700 [==============================] - 0s 56us/sample - loss: 252620.3946\n",
      "Epoch 13/250\n",
      "700/700 [==============================] - 0s 62us/sample - loss: 252096.7433\n",
      "Epoch 14/250\n",
      "700/700 [==============================] - 0s 55us/sample - loss: 251528.3145\n",
      "Epoch 15/250\n",
      "700/700 [==============================] - 0s 53us/sample - loss: 250907.9863\n",
      "Epoch 16/250\n",
      "700/700 [==============================] - 0s 72us/sample - loss: 250240.3068\n",
      "Epoch 17/250\n",
      "700/700 [==============================] - 0s 59us/sample - loss: 249523.9690\n",
      "Epoch 18/250\n",
      "700/700 [==============================] - 0s 58us/sample - loss: 248749.7245\n",
      "Epoch 19/250\n",
      "700/700 [==============================] - 0s 51us/sample - loss: 247925.0340\n",
      "Epoch 20/250\n",
      "700/700 [==============================] - 0s 73us/sample - loss: 247035.3870\n",
      "Epoch 21/250\n",
      "700/700 [==============================] - 0s 52us/sample - loss: 246080.2906\n",
      "Epoch 22/250\n",
      "700/700 [==============================] - 0s 51us/sample - loss: 245061.1015\n",
      "Epoch 23/250\n",
      "700/700 [==============================] - 0s 67us/sample - loss: 243971.9067\n",
      "Epoch 24/250\n",
      "700/700 [==============================] - 0s 52us/sample - loss: 242820.7226\n",
      "Epoch 25/250\n",
      "700/700 [==============================] - 0s 51us/sample - loss: 241595.8380\n",
      "Epoch 26/250\n",
      "700/700 [==============================] - 0s 77us/sample - loss: 240291.7371\n",
      "Epoch 27/250\n",
      "700/700 [==============================] - 0s 61us/sample - loss: 238903.7644\n",
      "Epoch 28/250\n",
      "700/700 [==============================] - 0s 60us/sample - loss: 237437.3953\n",
      "Epoch 29/250\n",
      "700/700 [==============================] - 0s 62us/sample - loss: 235888.4827\n",
      "Epoch 30/250\n",
      "700/700 [==============================] - 0s 64us/sample - loss: 234255.1473\n",
      "Epoch 31/250\n",
      "700/700 [==============================] - 0s 53us/sample - loss: 232535.4108\n",
      "Epoch 32/250\n",
      "700/700 [==============================] - 0s 54us/sample - loss: 230715.7879\n",
      "Epoch 33/250\n",
      "700/700 [==============================] - 0s 57us/sample - loss: 228804.1313\n",
      "Epoch 34/250\n",
      "700/700 [==============================] - 0s 67us/sample - loss: 226790.6981\n",
      "Epoch 35/250\n",
      "700/700 [==============================] - 0s 52us/sample - loss: 224697.1387\n",
      "Epoch 36/250\n",
      "700/700 [==============================] - 0s 50us/sample - loss: 222486.0772\n",
      "Epoch 37/250\n",
      "700/700 [==============================] - 0s 69us/sample - loss: 220174.2458\n",
      "Epoch 38/250\n",
      "700/700 [==============================] - 0s 53us/sample - loss: 217753.4571\n",
      "Epoch 39/250\n",
      "700/700 [==============================] - 0s 54us/sample - loss: 215228.7107\n",
      "Epoch 40/250\n",
      "700/700 [==============================] - 0s 52us/sample - loss: 212604.9157\n",
      "Epoch 41/250\n",
      "700/700 [==============================] - 0s 52us/sample - loss: 209852.6365\n",
      "Epoch 42/250\n",
      "700/700 [==============================] - 0s 56us/sample - loss: 206990.8210\n",
      "Epoch 43/250\n",
      "700/700 [==============================] - 0s 71us/sample - loss: 204023.9057\n",
      "Epoch 44/250\n",
      "700/700 [==============================] - 0s 60us/sample - loss: 200943.8348\n",
      "Epoch 45/250\n",
      "700/700 [==============================] - 0s 63us/sample - loss: 197747.6549\n",
      "Epoch 46/250\n",
      "700/700 [==============================] - 0s 53us/sample - loss: 194446.9362\n",
      "Epoch 47/250\n",
      "700/700 [==============================] - 0s 54us/sample - loss: 191023.4098\n",
      "Epoch 48/250\n",
      "700/700 [==============================] - 0s 53us/sample - loss: 187464.1363\n",
      "Epoch 49/250\n",
      "700/700 [==============================] - 0s 57us/sample - loss: 183790.3500\n",
      "Epoch 50/250\n",
      "700/700 [==============================] - 0s 61us/sample - loss: 180024.4483\n",
      "Epoch 51/250\n",
      "700/700 [==============================] - 0s 57us/sample - loss: 176127.7234\n",
      "Epoch 52/250\n",
      "700/700 [==============================] - 0s 71us/sample - loss: 172103.1116\n",
      "Epoch 53/250\n",
      "700/700 [==============================] - 0s 65us/sample - loss: 167977.1659\n",
      "Epoch 54/250\n",
      "700/700 [==============================] - 0s 67us/sample - loss: 163748.8636\n",
      "Epoch 55/250\n",
      "700/700 [==============================] - 0s 56us/sample - loss: 159415.2286\n",
      "Epoch 56/250\n",
      "700/700 [==============================] - 0s 65us/sample - loss: 154955.4130\n",
      "Epoch 57/250\n",
      "700/700 [==============================] - 0s 58us/sample - loss: 150392.9846\n",
      "Epoch 58/250\n",
      "700/700 [==============================] - 0s 58us/sample - loss: 145759.8380\n",
      "Epoch 59/250\n",
      "700/700 [==============================] - 0s 60us/sample - loss: 141013.4907\n",
      "Epoch 60/250\n",
      "700/700 [==============================] - 0s 56us/sample - loss: 136204.4060\n",
      "Epoch 61/250\n",
      "700/700 [==============================] - 0s 50us/sample - loss: 131283.2189\n",
      "Epoch 62/250\n",
      "700/700 [==============================] - 0s 55us/sample - loss: 126281.9052\n",
      "Epoch 63/250\n",
      "700/700 [==============================] - 0s 53us/sample - loss: 121207.3487\n",
      "Epoch 64/250\n",
      "700/700 [==============================] - 0s 60us/sample - loss: 116050.8476\n",
      "Epoch 65/250\n",
      "700/700 [==============================] - 0s 55us/sample - loss: 110866.0906\n",
      "Epoch 66/250\n",
      "700/700 [==============================] - 0s 57us/sample - loss: 105637.1960\n",
      "Epoch 67/250\n",
      "700/700 [==============================] - 0s 54us/sample - loss: 100341.3892\n",
      "Epoch 68/250\n",
      "700/700 [==============================] - 0s 49us/sample - loss: 95027.9782\n",
      "Epoch 69/250\n",
      "700/700 [==============================] - 0s 66us/sample - loss: 89743.3533\n",
      "Epoch 70/250\n",
      "700/700 [==============================] - 0s 58us/sample - loss: 84400.0497\n",
      "Epoch 71/250\n",
      "700/700 [==============================] - 0s 54us/sample - loss: 79086.9745\n",
      "Epoch 72/250\n",
      "700/700 [==============================] - 0s 55us/sample - loss: 73747.7245\n",
      "Epoch 73/250\n",
      "700/700 [==============================] - 0s 49us/sample - loss: 68490.3099\n",
      "Epoch 74/250\n",
      "700/700 [==============================] - 0s 60us/sample - loss: 63296.6135\n",
      "Epoch 75/250\n",
      "700/700 [==============================] - 0s 52us/sample - loss: 58150.6184\n",
      "Epoch 76/250\n",
      "700/700 [==============================] - 0s 62us/sample - loss: 53101.4011\n",
      "Epoch 77/250\n",
      "700/700 [==============================] - 0s 54us/sample - loss: 48119.5754\n",
      "Epoch 78/250\n",
      "700/700 [==============================] - 0s 49us/sample - loss: 43291.7109\n",
      "Epoch 79/250\n",
      "700/700 [==============================] - 0s 53us/sample - loss: 38618.0961\n",
      "Epoch 80/250\n",
      "700/700 [==============================] - 0s 54us/sample - loss: 34088.3852\n",
      "Epoch 81/250\n",
      "700/700 [==============================] - 0s 91us/sample - loss: 29784.7528\n",
      "Epoch 82/250\n",
      "700/700 [==============================] - 0s 58us/sample - loss: 25689.8631\n",
      "Epoch 83/250\n",
      "700/700 [==============================] - 0s 48us/sample - loss: 21813.5608\n",
      "Epoch 84/250\n",
      "700/700 [==============================] - 0s 54us/sample - loss: 18204.8944\n",
      "Epoch 85/250\n",
      "700/700 [==============================] - 0s 53us/sample - loss: 14880.9223\n",
      "Epoch 86/250\n",
      "700/700 [==============================] - 0s 52us/sample - loss: 11911.7194\n",
      "Epoch 87/250\n",
      "700/700 [==============================] - 0s 59us/sample - loss: 9301.6442\n",
      "Epoch 88/250\n",
      "700/700 [==============================] - 0s 58us/sample - loss: 7041.1007\n",
      "Epoch 89/250\n",
      "700/700 [==============================] - 0s 57us/sample - loss: 5205.6758\n",
      "Epoch 90/250\n",
      "700/700 [==============================] - 0s 59us/sample - loss: 3792.8717\n",
      "Epoch 91/250\n",
      "700/700 [==============================] - 0s 56us/sample - loss: 2788.9857\n",
      "Epoch 92/250\n",
      "700/700 [==============================] - 0s 56us/sample - loss: 2209.4879\n",
      "Epoch 93/250\n",
      "700/700 [==============================] - 0s 65us/sample - loss: 1975.6559\n",
      "Epoch 94/250\n",
      "700/700 [==============================] - 0s 53us/sample - loss: 1923.1310\n",
      "Epoch 95/250\n",
      "700/700 [==============================] - 0s 50us/sample - loss: 1891.3433\n",
      "Epoch 96/250\n",
      "700/700 [==============================] - 0s 57us/sample - loss: 1860.7486\n",
      "Epoch 97/250\n",
      "700/700 [==============================] - 0s 52us/sample - loss: 1828.3342\n",
      "Epoch 98/250\n",
      "700/700 [==============================] - 0s 49us/sample - loss: 1796.6142\n",
      "Epoch 99/250\n",
      "700/700 [==============================] - 0s 55us/sample - loss: 1766.0699\n",
      "Epoch 100/250\n",
      "700/700 [==============================] - 0s 56us/sample - loss: 1735.2843\n",
      "Epoch 101/250\n",
      "700/700 [==============================] - 0s 53us/sample - loss: 1707.0336\n",
      "Epoch 102/250\n",
      "700/700 [==============================] - 0s 53us/sample - loss: 1674.4622\n",
      "Epoch 103/250\n",
      "700/700 [==============================] - 0s 55us/sample - loss: 1651.0851\n",
      "Epoch 104/250\n",
      "700/700 [==============================] - 0s 48us/sample - loss: 1624.2862\n",
      "Epoch 105/250\n",
      "700/700 [==============================] - 0s 52us/sample - loss: 1596.9273\n",
      "Epoch 106/250\n",
      "700/700 [==============================] - 0s 57us/sample - loss: 1566.1786\n",
      "Epoch 107/250\n",
      "700/700 [==============================] - 0s 55us/sample - loss: 1538.4767\n",
      "Epoch 108/250\n",
      "700/700 [==============================] - 0s 55us/sample - loss: 1509.9421\n",
      "Epoch 109/250\n",
      "700/700 [==============================] - 0s 54us/sample - loss: 1482.5143\n",
      "Epoch 110/250\n",
      "700/700 [==============================] - 0s 48us/sample - loss: 1455.4022\n",
      "Epoch 111/250\n",
      "700/700 [==============================] - 0s 55us/sample - loss: 1425.9981\n",
      "Epoch 112/250\n",
      "700/700 [==============================] - 0s 62us/sample - loss: 1397.7862\n",
      "Epoch 113/250\n",
      "700/700 [==============================] - 0s 55us/sample - loss: 1369.1926\n",
      "Epoch 114/250\n",
      "700/700 [==============================] - 0s 57us/sample - loss: 1344.6907\n",
      "Epoch 115/250\n",
      "700/700 [==============================] - 0s 66us/sample - loss: 1319.4312\n",
      "Epoch 116/250\n",
      "700/700 [==============================] - 0s 58us/sample - loss: 1292.9019\n",
      "Epoch 117/250\n",
      "700/700 [==============================] - 0s 59us/sample - loss: 1271.1599\n",
      "Epoch 118/250\n",
      "700/700 [==============================] - 0s 55us/sample - loss: 1243.3856\n",
      "Epoch 119/250\n",
      "700/700 [==============================] - 0s 66us/sample - loss: 1218.9108\n",
      "Epoch 120/250\n",
      "700/700 [==============================] - 0s 66us/sample - loss: 1190.8480\n",
      "Epoch 121/250\n",
      "700/700 [==============================] - 0s 51us/sample - loss: 1165.3846\n",
      "Epoch 122/250\n",
      "700/700 [==============================] - 0s 60us/sample - loss: 1138.0861\n",
      "Epoch 123/250\n",
      "700/700 [==============================] - 0s 54us/sample - loss: 1113.3441\n",
      "Epoch 124/250\n",
      "700/700 [==============================] - 0s 61us/sample - loss: 1091.7823\n",
      "Epoch 125/250\n",
      "700/700 [==============================] - 0s 57us/sample - loss: 1068.3065\n",
      "Epoch 126/250\n",
      "700/700 [==============================] - 0s 58us/sample - loss: 1043.3745\n",
      "Epoch 127/250\n",
      "700/700 [==============================] - 0s 57us/sample - loss: 1024.7646\n",
      "Epoch 128/250\n",
      "700/700 [==============================] - 0s 46us/sample - loss: 998.8096\n",
      "Epoch 129/250\n",
      "700/700 [==============================] - 0s 53us/sample - loss: 975.3897\n",
      "Epoch 130/250\n",
      "700/700 [==============================] - 0s 53us/sample - loss: 951.0822\n",
      "Epoch 131/250\n",
      "700/700 [==============================] - 0s 55us/sample - loss: 926.3894\n",
      "Epoch 132/250\n",
      "700/700 [==============================] - 0s 58us/sample - loss: 903.6030\n",
      "Epoch 133/250\n",
      "700/700 [==============================] - 0s 56us/sample - loss: 882.7165\n",
      "Epoch 134/250\n",
      "700/700 [==============================] - 0s 57us/sample - loss: 861.7747\n",
      "Epoch 135/250\n",
      "700/700 [==============================] - 0s 54us/sample - loss: 840.2800\n",
      "Epoch 136/250\n",
      "700/700 [==============================] - 0s 50us/sample - loss: 818.0385\n",
      "Epoch 137/250\n",
      "700/700 [==============================] - 0s 52us/sample - loss: 794.4004\n",
      "Epoch 138/250\n",
      "700/700 [==============================] - 0s 62us/sample - loss: 775.0089\n",
      "Epoch 139/250\n",
      "700/700 [==============================] - 0s 67us/sample - loss: 752.9220\n",
      "Epoch 140/250\n",
      "700/700 [==============================] - 0s 58us/sample - loss: 730.8884\n",
      "Epoch 141/250\n",
      "700/700 [==============================] - 0s 52us/sample - loss: 709.3341\n",
      "Epoch 142/250\n",
      "700/700 [==============================] - 0s 53us/sample - loss: 688.8124\n",
      "Epoch 143/250\n",
      "700/700 [==============================] - 0s 52us/sample - loss: 667.3305\n",
      "Epoch 144/250\n",
      "700/700 [==============================] - 0s 56us/sample - loss: 645.5876\n",
      "Epoch 145/250\n",
      "700/700 [==============================] - 0s 55us/sample - loss: 625.6277\n",
      "Epoch 146/250\n",
      "700/700 [==============================] - 0s 53us/sample - loss: 604.9461\n",
      "Epoch 147/250\n",
      "700/700 [==============================] - 0s 59us/sample - loss: 586.1296\n",
      "Epoch 148/250\n",
      "700/700 [==============================] - 0s 53us/sample - loss: 566.8729\n",
      "Epoch 149/250\n",
      "700/700 [==============================] - 0s 57us/sample - loss: 552.8487\n",
      "Epoch 150/250\n",
      "700/700 [==============================] - 0s 56us/sample - loss: 534.1046\n",
      "Epoch 151/250\n",
      "700/700 [==============================] - 0s 61us/sample - loss: 515.5691\n",
      "Epoch 152/250\n",
      "700/700 [==============================] - 0s 50us/sample - loss: 499.3209\n",
      "Epoch 153/250\n",
      "700/700 [==============================] - 0s 56us/sample - loss: 482.3712\n",
      "Epoch 154/250\n",
      "700/700 [==============================] - 0s 58us/sample - loss: 463.2763\n",
      "Epoch 155/250\n",
      "700/700 [==============================] - 0s 51us/sample - loss: 445.6084\n",
      "Epoch 156/250\n",
      "700/700 [==============================] - 0s 54us/sample - loss: 426.7560\n",
      "Epoch 157/250\n",
      "700/700 [==============================] - 0s 51us/sample - loss: 410.8618\n",
      "Epoch 158/250\n",
      "700/700 [==============================] - 0s 51us/sample - loss: 391.9714\n",
      "Epoch 159/250\n",
      "700/700 [==============================] - 0s 54us/sample - loss: 377.8009\n",
      "Epoch 160/250\n",
      "700/700 [==============================] - 0s 64us/sample - loss: 361.8377\n",
      "Epoch 161/250\n",
      "700/700 [==============================] - 0s 52us/sample - loss: 346.8828\n",
      "Epoch 162/250\n",
      "700/700 [==============================] - 0s 63us/sample - loss: 331.9944\n",
      "Epoch 163/250\n",
      "700/700 [==============================] - 0s 56us/sample - loss: 317.4463\n",
      "Epoch 164/250\n",
      "700/700 [==============================] - 0s 53us/sample - loss: 304.4864\n",
      "Epoch 165/250\n",
      "700/700 [==============================] - 0s 54us/sample - loss: 290.2590\n",
      "Epoch 166/250\n",
      "700/700 [==============================] - 0s 60us/sample - loss: 277.3839\n",
      "Epoch 167/250\n",
      "700/700 [==============================] - 0s 55us/sample - loss: 264.7521\n",
      "Epoch 168/250\n",
      "700/700 [==============================] - 0s 48us/sample - loss: 252.1691\n",
      "Epoch 169/250\n",
      "700/700 [==============================] - 0s 53us/sample - loss: 239.4538\n",
      "Epoch 170/250\n",
      "700/700 [==============================] - 0s 57us/sample - loss: 226.7819\n",
      "Epoch 171/250\n",
      "700/700 [==============================] - 0s 55us/sample - loss: 213.0088\n",
      "Epoch 172/250\n",
      "700/700 [==============================] - 0s 59us/sample - loss: 202.7194\n",
      "Epoch 173/250\n",
      "700/700 [==============================] - 0s 69us/sample - loss: 192.1486\n",
      "Epoch 174/250\n",
      "700/700 [==============================] - 0s 50us/sample - loss: 180.8310\n",
      "Epoch 175/250\n",
      "700/700 [==============================] - 0s 59us/sample - loss: 170.5924\n",
      "Epoch 176/250\n",
      "700/700 [==============================] - 0s 67us/sample - loss: 160.2226\n",
      "Epoch 177/250\n",
      "700/700 [==============================] - 0s 59us/sample - loss: 150.5329\n",
      "Epoch 178/250\n",
      "700/700 [==============================] - 0s 58us/sample - loss: 141.8811\n",
      "Epoch 179/250\n",
      "700/700 [==============================] - 0s 62us/sample - loss: 132.9637\n",
      "Epoch 180/250\n",
      "700/700 [==============================] - 0s 52us/sample - loss: 124.5087\n",
      "Epoch 181/250\n",
      "700/700 [==============================] - 0s 53us/sample - loss: 115.9168\n",
      "Epoch 182/250\n",
      "700/700 [==============================] - 0s 51us/sample - loss: 109.0999\n",
      "Epoch 183/250\n",
      "700/700 [==============================] - 0s 52us/sample - loss: 103.0077\n",
      "Epoch 184/250\n",
      "700/700 [==============================] - 0s 51us/sample - loss: 96.4584\n",
      "Epoch 185/250\n",
      "700/700 [==============================] - 0s 69us/sample - loss: 89.7723\n",
      "Epoch 186/250\n",
      "700/700 [==============================] - 0s 73us/sample - loss: 84.2562\n",
      "Epoch 187/250\n",
      "700/700 [==============================] - 0s 84us/sample - loss: 78.5907\n",
      "Epoch 188/250\n",
      "700/700 [==============================] - 0s 69us/sample - loss: 73.2286\n",
      "Epoch 189/250\n",
      "700/700 [==============================] - 0s 64us/sample - loss: 68.4955\n",
      "Epoch 190/250\n",
      "700/700 [==============================] - 0s 62us/sample - loss: 64.0761\n",
      "Epoch 191/250\n",
      "700/700 [==============================] - 0s 60us/sample - loss: 60.3035\n",
      "Epoch 192/250\n",
      "700/700 [==============================] - 0s 58us/sample - loss: 55.8049\n",
      "Epoch 193/250\n",
      "700/700 [==============================] - 0s 75us/sample - loss: 52.1785\n",
      "Epoch 194/250\n",
      "700/700 [==============================] - 0s 59us/sample - loss: 48.5267\n",
      "Epoch 195/250\n",
      "700/700 [==============================] - 0s 56us/sample - loss: 45.5419\n",
      "Epoch 196/250\n",
      "700/700 [==============================] - 0s 57us/sample - loss: 42.8869\n",
      "Epoch 197/250\n",
      "700/700 [==============================] - 0s 59us/sample - loss: 40.6938\n",
      "Epoch 198/250\n",
      "700/700 [==============================] - 0s 57us/sample - loss: 38.7514\n",
      "Epoch 199/250\n",
      "700/700 [==============================] - 0s 53us/sample - loss: 36.8433\n",
      "Epoch 200/250\n",
      "700/700 [==============================] - 0s 60us/sample - loss: 34.9317\n",
      "Epoch 201/250\n",
      "700/700 [==============================] - 0s 50us/sample - loss: 33.1706\n",
      "Epoch 202/250\n",
      "700/700 [==============================] - 0s 55us/sample - loss: 31.7416\n",
      "Epoch 203/250\n",
      "700/700 [==============================] - 0s 56us/sample - loss: 30.6131\n",
      "Epoch 204/250\n",
      "700/700 [==============================] - 0s 61us/sample - loss: 29.6358\n",
      "Epoch 205/250\n",
      "700/700 [==============================] - 0s 59us/sample - loss: 28.7725\n",
      "Epoch 206/250\n",
      "700/700 [==============================] - 0s 55us/sample - loss: 28.1580\n",
      "Epoch 207/250\n",
      "700/700 [==============================] - 0s 59us/sample - loss: 27.9296\n",
      "Epoch 208/250\n",
      "700/700 [==============================] - 0s 57us/sample - loss: 26.8769\n",
      "Epoch 209/250\n",
      "700/700 [==============================] - 0s 53us/sample - loss: 26.8572\n",
      "Epoch 210/250\n",
      "700/700 [==============================] - 0s 58us/sample - loss: 26.2470\n",
      "Epoch 211/250\n",
      "700/700 [==============================] - 0s 53us/sample - loss: 25.9030\n",
      "Epoch 212/250\n",
      "700/700 [==============================] - 0s 47us/sample - loss: 25.7214\n",
      "Epoch 213/250\n",
      "700/700 [==============================] - 0s 56us/sample - loss: 25.4133\n",
      "Epoch 214/250\n",
      "700/700 [==============================] - 0s 67us/sample - loss: 25.2544\n",
      "Epoch 215/250\n",
      "700/700 [==============================] - 0s 63us/sample - loss: 24.7568\n",
      "Epoch 216/250\n",
      "700/700 [==============================] - 0s 59us/sample - loss: 25.1911\n",
      "Epoch 217/250\n",
      "700/700 [==============================] - 0s 52us/sample - loss: 24.9321\n",
      "Epoch 218/250\n",
      "700/700 [==============================] - 0s 52us/sample - loss: 25.0076\n",
      "Epoch 219/250\n",
      "700/700 [==============================] - 0s 56us/sample - loss: 24.3157\n",
      "Epoch 220/250\n",
      "700/700 [==============================] - 0s 62us/sample - loss: 24.6121\n",
      "Epoch 221/250\n",
      "700/700 [==============================] - 0s 61us/sample - loss: 24.5197\n",
      "Epoch 222/250\n",
      "700/700 [==============================] - 0s 51us/sample - loss: 24.4686\n",
      "Epoch 223/250\n",
      "700/700 [==============================] - 0s 53us/sample - loss: 24.2184\n",
      "Epoch 224/250\n",
      "700/700 [==============================] - 0s 53us/sample - loss: 24.1564\n",
      "Epoch 225/250\n",
      "700/700 [==============================] - 0s 54us/sample - loss: 24.2813\n",
      "Epoch 226/250\n",
      "700/700 [==============================] - 0s 56us/sample - loss: 24.3337\n",
      "Epoch 227/250\n",
      "700/700 [==============================] - 0s 58us/sample - loss: 24.8950\n",
      "Epoch 228/250\n",
      "700/700 [==============================] - 0s 57us/sample - loss: 24.2675\n",
      "Epoch 229/250\n",
      "700/700 [==============================] - 0s 53us/sample - loss: 24.1757\n",
      "Epoch 230/250\n",
      "700/700 [==============================] - 0s 53us/sample - loss: 24.2906\n",
      "Epoch 231/250\n",
      "700/700 [==============================] - 0s 60us/sample - loss: 24.1530\n",
      "Epoch 232/250\n",
      "700/700 [==============================] - 0s 60us/sample - loss: 24.2529\n",
      "Epoch 233/250\n",
      "700/700 [==============================] - 0s 61us/sample - loss: 24.5450\n",
      "Epoch 234/250\n",
      "700/700 [==============================] - 0s 49us/sample - loss: 24.0820\n",
      "Epoch 235/250\n",
      "700/700 [==============================] - 0s 66us/sample - loss: 24.1262\n",
      "Epoch 236/250\n",
      "700/700 [==============================] - 0s 56us/sample - loss: 24.1032\n",
      "Epoch 237/250\n",
      "700/700 [==============================] - 0s 53us/sample - loss: 24.4176\n",
      "Epoch 238/250\n",
      "700/700 [==============================] - 0s 60us/sample - loss: 24.2029\n",
      "Epoch 239/250\n",
      "700/700 [==============================] - 0s 54us/sample - loss: 24.2302\n",
      "Epoch 240/250\n",
      "700/700 [==============================] - 0s 54us/sample - loss: 24.5093\n",
      "Epoch 241/250\n",
      "700/700 [==============================] - 0s 56us/sample - loss: 24.5715\n",
      "Epoch 242/250\n",
      "700/700 [==============================] - 0s 52us/sample - loss: 24.3078\n",
      "Epoch 243/250\n",
      "700/700 [==============================] - 0s 51us/sample - loss: 24.4613\n",
      "Epoch 244/250\n",
      "700/700 [==============================] - 0s 53us/sample - loss: 24.2220\n",
      "Epoch 245/250\n",
      "700/700 [==============================] - 0s 64us/sample - loss: 24.4198\n",
      "Epoch 246/250\n",
      "700/700 [==============================] - 0s 61us/sample - loss: 24.0312\n",
      "Epoch 247/250\n",
      "700/700 [==============================] - 0s 60us/sample - loss: 23.9636\n",
      "Epoch 248/250\n",
      "700/700 [==============================] - 0s 54us/sample - loss: 24.3996\n",
      "Epoch 249/250\n",
      "700/700 [==============================] - 0s 59us/sample - loss: 24.3641\n",
      "Epoch 250/250\n",
      "700/700 [==============================] - 0s 60us/sample - loss: 24.0368\n"
     ]
    },
    {
     "data": {
      "text/plain": [
       "<tensorflow.python.keras.callbacks.History at 0x7f158ea9a748>"
      ]
     },
     "execution_count": 18,
     "metadata": {
      "tags": []
     },
     "output_type": "execute_result"
    }
   ],
   "source": [
    "model.fit(x=X_train,y=y_train, epochs=250)"
   ]
  },
  {
   "cell_type": "code",
   "execution_count": 0,
   "metadata": {
    "colab": {},
    "colab_type": "code",
    "id": "e8RYKtecmDjU"
   },
   "outputs": [],
   "source": [
    "loss_df = pd.DataFrame(model.history.history)"
   ]
  },
  {
   "cell_type": "code",
   "execution_count": 20,
   "metadata": {
    "colab": {
     "base_uri": "https://localhost:8080/",
     "height": 282
    },
    "colab_type": "code",
    "id": "Ag-X5ZkKmgAG",
    "outputId": "f3be0933-af0a-403b-91fb-d3424e797095"
   },
   "outputs": [
    {
     "data": {
      "text/plain": [
       "<matplotlib.axes._subplots.AxesSubplot at 0x7f158b418908>"
      ]
     },
     "execution_count": 20,
     "metadata": {
      "tags": []
     },
     "output_type": "execute_result"
    },
    {
     "data": {
      "image/png": "[encoded data removed]",
      "text/plain": [
       "<Figure size 432x288 with 1 Axes>"
      ]
     },
     "metadata": {
      "tags": []
     },
     "output_type": "display_data"
    }
   ],
   "source": [
    "loss_df.plot()"
   ]
  },
  {
   "cell_type": "code",
   "execution_count": 38,
   "metadata": {
    "colab": {
     "base_uri": "https://localhost:8080/",
     "height": 34
    },
    "colab_type": "code",
    "id": "PCz4zyVHmhuE",
    "outputId": "87101b47-6ac6-4061-8a2a-8c1f181b3e3d"
   },
   "outputs": [
    {
     "data": {
      "text/plain": [
       "26.56697016398112"
      ]
     },
     "execution_count": 38,
     "metadata": {
      "tags": []
     },
     "output_type": "execute_result"
    }
   ],
   "source": [
    "model.evaluate(x=X_test,y=y_test, verbose=0)"
   ]
  },
  {
   "cell_type": "code",
   "execution_count": 0,
   "metadata": {
    "colab": {},
    "colab_type": "code",
    "id": "nAVtJIHLq4MF"
   },
   "outputs": [],
   "source": [
    "predictions = model.predict(X_test)"
   ]
  },
  {
   "cell_type": "code",
   "execution_count": 0,
   "metadata": {
    "colab": {},
    "colab_type": "code",
    "id": "Gb_Y7ve5rJFE"
   },
   "outputs": [],
   "source": [
    "pred_df = pd.DataFrame(y_test)\n",
    "pred_df = pd.concat([pred_df, pd.DataFrame(predictions)], axis=1)\n",
    "pred_df.columns = ['Y True', 'Predictions']"
   ]
  },
  {
   "cell_type": "code",
   "execution_count": 54,
   "metadata": {
    "colab": {
     "base_uri": "https://localhost:8080/",
     "height": 206
    },
    "colab_type": "code",
    "id": "IpR5hiamrpfr",
    "outputId": "cf3b2e60-2ace-49c3-c991-64aa4476b1ab"
   },
   "outputs": [
    {
     "data": {
      "text/html": [
       "<div>\n",
       "<style scoped>\n",
       "    .dataframe tbody tr th:only-of-type {\n",
       "        vertical-align: middle;\n",
       "    }\n",
       "\n",
       "    .dataframe tbody tr th {\n",
       "        vertical-align: top;\n",
       "    }\n",
       "\n",
       "    .dataframe thead th {\n",
       "        text-align: right;\n",
       "    }\n",
       "</style>\n",
       "<table border=\"1\" class=\"dataframe\">\n",
       "  <thead>\n",
       "    <tr style=\"text-align: right;\">\n",
       "      <th></th>\n",
       "      <th>Y True</th>\n",
       "      <th>Predictions</th>\n",
       "    </tr>\n",
       "  </thead>\n",
       "  <tbody>\n",
       "    <tr>\n",
       "      <th>0</th>\n",
       "      <td>402.296319</td>\n",
       "      <td>406.235748</td>\n",
       "    </tr>\n",
       "    <tr>\n",
       "      <th>1</th>\n",
       "      <td>624.156198</td>\n",
       "      <td>624.928040</td>\n",
       "    </tr>\n",
       "    <tr>\n",
       "      <th>2</th>\n",
       "      <td>582.455066</td>\n",
       "      <td>593.448059</td>\n",
       "    </tr>\n",
       "    <tr>\n",
       "      <th>3</th>\n",
       "      <td>578.588606</td>\n",
       "      <td>573.530090</td>\n",
       "    </tr>\n",
       "    <tr>\n",
       "      <th>4</th>\n",
       "      <td>371.224104</td>\n",
       "      <td>367.521484</td>\n",
       "    </tr>\n",
       "  </tbody>\n",
       "</table>\n",
       "</div>"
      ],
      "text/plain": [
       "       Y True  Predictions\n",
       "0  402.296319   406.235748\n",
       "1  624.156198   624.928040\n",
       "2  582.455066   593.448059\n",
       "3  578.588606   573.530090\n",
       "4  371.224104   367.521484"
      ]
     },
     "execution_count": 54,
     "metadata": {
      "tags": []
     },
     "output_type": "execute_result"
    }
   ],
   "source": [
    "pred_df.head()"
   ]
  },
  {
   "cell_type": "code",
   "execution_count": 55,
   "metadata": {
    "colab": {
     "base_uri": "https://localhost:8080/",
     "height": 296
    },
    "colab_type": "code",
    "id": "qLKFzDV1sFmS",
    "outputId": "0290259b-e20b-4050-b030-fe92f4cf8a38"
   },
   "outputs": [
    {
     "data": {
      "text/plain": [
       "<matplotlib.axes._subplots.AxesSubplot at 0x7f1586731f28>"
      ]
     },
     "execution_count": 55,
     "metadata": {
      "tags": []
     },
     "output_type": "execute_result"
    },
    {
     "data": {
      "image/png": "[encoded data removed]",
      "text/plain": [
       "<Figure size 432x288 with 1 Axes>"
      ]
     },
     "metadata": {
      "tags": []
     },
     "output_type": "display_data"
    }
   ],
   "source": [
    "sns.scatterplot(x=pred_df['Y True'], y='Predictions', data=pred_df)"
   ]
  },
  {
   "cell_type": "code",
   "execution_count": 0,
   "metadata": {
    "colab": {},
    "colab_type": "code",
    "id": "GjW-yKf7srff"
   },
   "outputs": [],
   "source": [
    "from sklearn.metrics import mean_absolute_error, mean_squared_error"
   ]
  },
  {
   "cell_type": "code",
   "execution_count": 58,
   "metadata": {
    "colab": {
     "base_uri": "https://localhost:8080/",
     "height": 52
    },
    "colab_type": "code",
    "id": "zKGjqqcWtPq4",
    "outputId": "79f18169-fa55-4ad7-e69d-675ec1924576"
   },
   "outputs": [
    {
     "name": "stdout",
     "output_type": "stream",
     "text": [
      "4.178713364015009\n",
      "26.566972147846755\n"
     ]
    }
   ],
   "source": [
    "print(mean_absolute_error(pred_df['Y True'], pred_df['Predictions']))\n",
    "print(mean_squared_error(pred_df['Y True'], pred_df['Predictions']))"
   ]
  },
  {
   "cell_type": "code",
   "execution_count": 0,
   "metadata": {
    "colab": {},
    "colab_type": "code",
    "id": "q6tp0WMXuN7w"
   },
   "outputs": [],
   "source": [
    "from tensorflow.keras.models import load_model"
   ]
  },
  {
   "cell_type": "code",
   "execution_count": 0,
   "metadata": {
    "colab": {},
    "colab_type": "code",
    "id": "0uEOjQcrub59"
   },
   "outputs": [],
   "source": [
    "model.save('test_saved_model.h5')"
   ]
  },
  {
   "cell_type": "code",
   "execution_count": 0,
   "metadata": {
    "colab": {},
    "colab_type": "code",
    "id": "tXgioRdMuhxF"
   },
   "outputs": [],
   "source": []
  }
 ],
 "metadata": {
  "colab": {
   "collapsed_sections": [],
   "name": "Untitled0.ipynb",
   "provenance": [],
   "toc_visible": true
  },
  "kernelspec": {
   "display_name": "Python 3",
   "language": "python",
   "name": "python3"
  },
  "language_info": {
   "codemirror_mode": {
    "name": "ipython",
    "version": 3
   },
   "file_extension": ".py",
   "mimetype": "text/x-python",
   "name": "python",
   "nbconvert_exporter": "python",
   "pygments_lexer": "ipython3",
   "version": "3.8.1"
  }
 },
 "nbformat": 4,
 "nbformat_minor": 1
}
